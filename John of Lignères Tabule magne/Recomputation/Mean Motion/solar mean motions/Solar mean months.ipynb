{
 "cells": [
  {
   "cell_type": "code",
   "execution_count": 1,
   "id": "94faa096-ea87-450b-a518-eadc8bce4c24",
   "metadata": {},
   "outputs": [],
   "source": [
    "#Initial environement of computations\n",
    "\n",
    "import matplotlib.pyplot as plt\n",
    "import numpy as np\n",
    "from kanon.calendars import Calendar, Date\n",
    "from kanon.calendars.calendars import float_to_hm, hm_to_float\n",
    "from kanon.tables import HTable\n",
    "from kanon.units import Sexagesimal, Historical\n",
    "from kanon.units.precision import set_precision, TruncatureMode, PrecisionMode\n",
    "import astropy.units as u\n",
    "\n",
    "\n",
    "from kanon.tables.htable_reader import (\n",
    "    DISHAS_REQUEST_URL,\n",
    "    read_historical,\n",
    "    read_sexag_array,\n",
    "    read_intsexag_array,\n",
    ")\n",
    "from kanon.tables import HTable\n",
    "import requests\n",
    "\n",
    "\n",
    "number_reader = {\n",
    "    \"sexagesimal\": read_sexag_array,\n",
    "    \"floating sexagesimal\": read_sexag_array,\n",
    "    \"integer and sexagesimal\": read_intsexag_array,\n",
    "    \"historical\": read_historical,\n",
    "}"
   ]
  },
  {
   "cell_type": "code",
   "execution_count": 3,
   "id": "9b0ce044-b3c3-452d-9d9a-c4e38bc92220",
   "metadata": {},
   "outputs": [
    {
     "data": {
      "text/html": [
       "<div><i>HTable length=12</i>\n",
       "<table id=\"table139821386419072\" class=\"table-striped table-bordered table-condensed\">\n",
       "<thead><tr><th>Months</th><th>Entries</th></tr></thead>\n",
       "<thead><tr><th>IntegerAndSexagesimal</th><th>Historical</th></tr></thead>\n",
       "<tr><td>31 ;</td><td>01s 00 ; 33,18</td></tr>\n",
       "<tr><td>59 ;</td><td>01s 28 ; 09,11</td></tr>\n",
       "<tr><td>90 ;</td><td>02s 28 ; 42,19</td></tr>\n",
       "<tr><td>120 ;</td><td>03s 28 ; 16,39</td></tr>\n",
       "<tr><td>151 ;</td><td>04s 28 ; 49,57</td></tr>\n",
       "<tr><td>181 ;</td><td>05s 28 ; 24,07</td></tr>\n",
       "<tr><td>212 ;</td><td>06s 28 ; 57,25</td></tr>\n",
       "<tr><td>243 ;</td><td>07s 29 ; 30,43</td></tr>\n",
       "<tr><td>273 ;</td><td>08s 29 ; 04,53</td></tr>\n",
       "<tr><td>304 ;</td><td>09s 29 ; 38,11</td></tr>\n",
       "<tr><td>334 ;</td><td>10s 29 ; 12,21</td></tr>\n",
       "<tr><td>365 ;</td><td>11s 29 ; 45,39</td></tr>\n",
       "</table></div>"
      ],
      "text/plain": [
       "<HTable length=12>\n",
       "        Months           Entries    \n",
       "IntegerAndSexagesimal   Historical  \n",
       "--------------------- --------------\n",
       "                31 ;  01s 00 ; 33,18\n",
       "                59 ;  01s 28 ; 09,11\n",
       "                90 ;  02s 28 ; 42,19\n",
       "               120 ;  03s 28 ; 16,39\n",
       "               151 ;  04s 28 ; 49,57\n",
       "               181 ;  05s 28 ; 24,07\n",
       "               212 ;  06s 28 ; 57,25\n",
       "               243 ;  07s 29 ; 30,43\n",
       "               273 ;  08s 29 ; 04,53\n",
       "               304 ;  09s 29 ; 38,11\n",
       "               334 ;  10s 29 ; 12,21\n",
       "               365 ;  11s 29 ; 45,39"
      ]
     },
     "execution_count": 3,
     "metadata": {},
     "output_type": "execute_result"
    }
   ],
   "source": [
    "#Initial table set\n",
    "\n",
    "# Historical target table\n",
    "Hist_table=HTable.read(1396, with_units=False)\n",
    "Hist_table\n"
   ]
  },
  {
   "cell_type": "code",
   "execution_count": 6,
   "id": "99068094-1c0c-4fa9-8063-7a3eabe664e7",
   "metadata": {},
   "outputs": [],
   "source": [
    "# Formating and initialising the Test tables\n",
    "\n",
    "Test_recomp=Hist_table.copy()\n",
    "Delta_recomp=Hist_table.copy()\n",
    "for i in range(12):\n",
    "    Test_recomp[i][1]=Historical(Sexagesimal('0;0,0'),2)\n",
    "    Delta_recomp[i][1]=Historical(Sexagesimal('0;0,0'),2)\n"
   ]
  },
  {
   "cell_type": "code",
   "execution_count": 7,
   "id": "3450fd84-12d0-42a8-b34f-071c5236c0d0",
   "metadata": {},
   "outputs": [],
   "source": [
    "# mean motion parameter from the Parisian Alfonsine tables\n",
    "daily_mean=Historical(Sexagesimal(\"0;59,8,19,37,19,13,56\"),8)\n",
    "REVO=Historical(Sexagesimal(\"6,0;0,0\"),8)\n",
    "\n",
    "for i in range(12):\n",
    "    with set_precision(tmode=TruncatureMode.TRUNC, pmode=4):\n",
    "        Test_recomp[i][1]=daily_mean*int(Hist_table[i][0])%REVO\n",
    "        with set_precision(tmode=TruncatureMode.ROUND, pmode=2):\n",
    "            Test_recomp[i][1]=1*Test_recomp[i][1]\n",
    "            Delta_recomp[i][1]=3600*(Hist_table[i][1]-Test_recomp[i][1])"
   ]
  },
  {
   "cell_type": "code",
   "execution_count": 8,
   "id": "473b8e19-be59-4f35-8dde-fff72b72420a",
   "metadata": {},
   "outputs": [
    {
     "data": {
      "text/plain": [
       "(-0.8333333333333334, nan)"
      ]
     },
     "execution_count": 8,
     "metadata": {},
     "output_type": "execute_result"
    }
   ],
   "source": [
    "# residuals visualisation and statistical summaries 1\n",
    "B=Delta_recomp.to_pandas()\n",
    "(B.mean().mean(), B.std().std())"
   ]
  },
  {
   "cell_type": "code",
   "execution_count": 9,
   "id": "3e4c7a74-f745-42a4-a541-3527d1777a95",
   "metadata": {},
   "outputs": [
    {
     "data": {
      "text/html": [
       "<style type=\"text/css\">\n",
       "#T_e7804_row0_col0, #T_e7804_row1_col0, #T_e7804_row3_col0, #T_e7804_row4_col0, #T_e7804_row5_col0, #T_e7804_row6_col0, #T_e7804_row7_col0, #T_e7804_row8_col0, #T_e7804_row9_col0, #T_e7804_row10_col0, #T_e7804_row11_col0 {\n",
       "  background-color: #023858;\n",
       "  color: #f1f1f1;\n",
       "}\n",
       "#T_e7804_row2_col0 {\n",
       "  background-color: #fff7fb;\n",
       "  color: #000000;\n",
       "}\n",
       "</style>\n",
       "<table id=\"T_e7804\">\n",
       "  <thead>\n",
       "    <tr>\n",
       "      <th class=\"blank level0\" >&nbsp;</th>\n",
       "      <th id=\"T_e7804_level0_col0\" class=\"col_heading level0 col0\" >Entries</th>\n",
       "    </tr>\n",
       "    <tr>\n",
       "      <th class=\"index_name level0\" >Months</th>\n",
       "      <th class=\"blank col0\" >&nbsp;</th>\n",
       "    </tr>\n",
       "  </thead>\n",
       "  <tbody>\n",
       "    <tr>\n",
       "      <th id=\"T_e7804_level0_row0\" class=\"row_heading level0 row0\" >31 ; </th>\n",
       "      <td id=\"T_e7804_row0_col0\" class=\"data row0 col0\" >0.000000</td>\n",
       "    </tr>\n",
       "    <tr>\n",
       "      <th id=\"T_e7804_level0_row1\" class=\"row_heading level0 row1\" >59 ; </th>\n",
       "      <td id=\"T_e7804_row1_col0\" class=\"data row1 col0\" >0.000000</td>\n",
       "    </tr>\n",
       "    <tr>\n",
       "      <th id=\"T_e7804_level0_row2\" class=\"row_heading level0 row2\" >90 ; </th>\n",
       "      <td id=\"T_e7804_row2_col0\" class=\"data row2 col0\" >-10.000000</td>\n",
       "    </tr>\n",
       "    <tr>\n",
       "      <th id=\"T_e7804_level0_row3\" class=\"row_heading level0 row3\" >120 ; </th>\n",
       "      <td id=\"T_e7804_row3_col0\" class=\"data row3 col0\" >0.000000</td>\n",
       "    </tr>\n",
       "    <tr>\n",
       "      <th id=\"T_e7804_level0_row4\" class=\"row_heading level0 row4\" >151 ; </th>\n",
       "      <td id=\"T_e7804_row4_col0\" class=\"data row4 col0\" >0.000000</td>\n",
       "    </tr>\n",
       "    <tr>\n",
       "      <th id=\"T_e7804_level0_row5\" class=\"row_heading level0 row5\" >181 ; </th>\n",
       "      <td id=\"T_e7804_row5_col0\" class=\"data row5 col0\" >0.000000</td>\n",
       "    </tr>\n",
       "    <tr>\n",
       "      <th id=\"T_e7804_level0_row6\" class=\"row_heading level0 row6\" >212 ; </th>\n",
       "      <td id=\"T_e7804_row6_col0\" class=\"data row6 col0\" >0.000000</td>\n",
       "    </tr>\n",
       "    <tr>\n",
       "      <th id=\"T_e7804_level0_row7\" class=\"row_heading level0 row7\" >243 ; </th>\n",
       "      <td id=\"T_e7804_row7_col0\" class=\"data row7 col0\" >0.000000</td>\n",
       "    </tr>\n",
       "    <tr>\n",
       "      <th id=\"T_e7804_level0_row8\" class=\"row_heading level0 row8\" >273 ; </th>\n",
       "      <td id=\"T_e7804_row8_col0\" class=\"data row8 col0\" >0.000000</td>\n",
       "    </tr>\n",
       "    <tr>\n",
       "      <th id=\"T_e7804_level0_row9\" class=\"row_heading level0 row9\" >304 ; </th>\n",
       "      <td id=\"T_e7804_row9_col0\" class=\"data row9 col0\" >0.000000</td>\n",
       "    </tr>\n",
       "    <tr>\n",
       "      <th id=\"T_e7804_level0_row10\" class=\"row_heading level0 row10\" >334 ; </th>\n",
       "      <td id=\"T_e7804_row10_col0\" class=\"data row10 col0\" >0.000000</td>\n",
       "    </tr>\n",
       "    <tr>\n",
       "      <th id=\"T_e7804_level0_row11\" class=\"row_heading level0 row11\" >365 ; </th>\n",
       "      <td id=\"T_e7804_row11_col0\" class=\"data row11 col0\" >0.000000</td>\n",
       "    </tr>\n",
       "  </tbody>\n",
       "</table>\n"
      ],
      "text/plain": [
       "<pandas.io.formats.style.Styler at 0x7f2992a75b80>"
      ]
     },
     "execution_count": 9,
     "metadata": {},
     "output_type": "execute_result"
    }
   ],
   "source": [
    "B.astype(float).style.background_gradient(axis=None)"
   ]
  },
  {
   "cell_type": "code",
   "execution_count": 10,
   "id": "7c3522f7-f5c8-40d8-a2f1-a9bdf2a2ee60",
   "metadata": {},
   "outputs": [],
   "source": [
    "#csv export of the recomputed table\n",
    "B=Test_recomp.to_pandas()\n",
    "compression_opts = dict(method='zip',archive_name='Solar mean months.csv')\n",
    "B.to_csv('Solar mean months.zip', index=False, compression=compression_opts)"
   ]
  },
  {
   "cell_type": "code",
   "execution_count": null,
   "id": "abd660a5-0431-48e5-9fd3-7de3dcd224a9",
   "metadata": {},
   "outputs": [],
   "source": []
  }
 ],
 "metadata": {
  "kernelspec": {
   "display_name": "Python 3 (ipykernel)",
   "language": "python",
   "name": "python3"
  },
  "language_info": {
   "codemirror_mode": {
    "name": "ipython",
    "version": 3
   },
   "file_extension": ".py",
   "mimetype": "text/x-python",
   "name": "python",
   "nbconvert_exporter": "python",
   "pygments_lexer": "ipython3",
   "version": "3.9.7"
  }
 },
 "nbformat": 4,
 "nbformat_minor": 5
}
