{
 "cells": [
  {
   "cell_type": "code",
   "execution_count": 1,
   "id": "94faa096-ea87-450b-a518-eadc8bce4c24",
   "metadata": {},
   "outputs": [],
   "source": [
    "#Initial environement of computations\n",
    "\n",
    "import matplotlib.pyplot as plt\n",
    "import numpy as np\n",
    "from kanon.calendars import Calendar, Date\n",
    "from kanon.calendars.calendars import float_to_hm, hm_to_float\n",
    "from kanon.tables import HTable\n",
    "from kanon.units import Sexagesimal, Historical\n",
    "from kanon.units.precision import set_precision, TruncatureMode, PrecisionMode\n",
    "import astropy.units as u\n",
    "\n",
    "\n",
    "from kanon.tables.htable_reader import (\n",
    "    DISHAS_REQUEST_URL,\n",
    "    read_historical,\n",
    "    read_sexag_array,\n",
    "    read_intsexag_array,\n",
    ")\n",
    "from kanon.tables import HTable\n",
    "import requests\n",
    "\n",
    "from kanon.units import Sexagesimal, Historical, IntegerAndSexagesimal\n",
    "\n",
    "number_reader = {\n",
    "    \"sexagesimal\": read_sexag_array,\n",
    "    \"floating sexagesimal\": read_sexag_array,\n",
    "    \"integer and sexagesimal\": read_intsexag_array,\n",
    "    \"historical\": read_historical,\n",
    "}"
   ]
  },
  {
   "cell_type": "code",
   "execution_count": 2,
   "id": "9b0ce044-b3c3-452d-9d9a-c4e38bc92220",
   "metadata": {},
   "outputs": [
    {
     "data": {
      "text/html": [
       "<div><i>HTable length=12</i>\n",
       "<table id=\"table140332581540288\" class=\"table-striped table-bordered table-condensed\">\n",
       "<thead><tr><th>Months</th><th>Entries</th></tr></thead>\n",
       "<thead><tr><th>IntegerAndSexagesimal</th><th>Historical</th></tr></thead>\n",
       "<tr><td>31 ;</td><td>02 ; 34,37</td></tr>\n",
       "<tr><td>59 ;</td><td>04 ; 54,16</td></tr>\n",
       "<tr><td>90 ;</td><td>07 ; 28,51</td></tr>\n",
       "<tr><td>120 ;</td><td>09 ; 58,31</td></tr>\n",
       "<tr><td>151 ;</td><td>12 ; 33,08</td></tr>\n",
       "<tr><td>181 ;</td><td>15 ; 02,46</td></tr>\n",
       "<tr><td>212 ;</td><td>17 ; 37,23</td></tr>\n",
       "<tr><td>243 ;</td><td>20 ; 12,00</td></tr>\n",
       "<tr><td>273 ;</td><td>22 ; 41,37</td></tr>\n",
       "<tr><td>304 ;</td><td>25 ; 16,14</td></tr>\n",
       "<tr><td>334 ;</td><td>25 ; 45,52</td></tr>\n",
       "<tr><td>365 ;</td><td>01s 00 ; 20,29</td></tr>\n",
       "</table></div>"
      ],
      "text/plain": [
       "<HTable length=12>\n",
       "        Months           Entries    \n",
       "IntegerAndSexagesimal   Historical  \n",
       "--------------------- --------------\n",
       "                31 ;      02 ; 34,37\n",
       "                59 ;      04 ; 54,16\n",
       "                90 ;      07 ; 28,51\n",
       "               120 ;      09 ; 58,31\n",
       "               151 ;      12 ; 33,08\n",
       "               181 ;      15 ; 02,46\n",
       "               212 ;      17 ; 37,23\n",
       "               243 ;      20 ; 12,00\n",
       "               273 ;      22 ; 41,37\n",
       "               304 ;      25 ; 16,14\n",
       "               334 ;      25 ; 45,52\n",
       "               365 ;  01s 00 ; 20,29"
      ]
     },
     "execution_count": 2,
     "metadata": {},
     "output_type": "execute_result"
    }
   ],
   "source": [
    "#Initial table set\n",
    "\n",
    "# Historical target table\n",
    "Hist_table=HTable.read(1419, with_units=False)\n",
    "Hist_table\n"
   ]
  },
  {
   "cell_type": "code",
   "execution_count": 3,
   "id": "99068094-1c0c-4fa9-8063-7a3eabe664e7",
   "metadata": {},
   "outputs": [],
   "source": [
    "# Formating and initialising the Test tables\n",
    "\n",
    "Test_recomp=Hist_table.copy()\n",
    "Delta_recomp=Hist_table.copy()\n",
    "for i in range(12):\n",
    "    Test_recomp[i][1]=Historical(Sexagesimal('0;0,0'),2)\n",
    "    Delta_recomp[i][1]=Historical(Sexagesimal('0;0,0'),2)\n"
   ]
  },
  {
   "cell_type": "code",
   "execution_count": 4,
   "id": "3450fd84-12d0-42a8-b34f-071c5236c0d0",
   "metadata": {},
   "outputs": [
    {
     "data": {
      "text/html": [
       "<div><i>HTable length=12</i>\n",
       "<table id=\"table140332576994832\" class=\"table-striped table-bordered table-condensed\">\n",
       "<thead><tr><th>Months</th><th>Entries</th></tr></thead>\n",
       "<thead><tr><th>IntegerAndSexagesimal</th><th>Historical</th></tr></thead>\n",
       "<tr><td>31 ;</td><td>02 ; 34,37</td></tr>\n",
       "<tr><td>59 ;</td><td>04 ; 54,16</td></tr>\n",
       "<tr><td>90 ;</td><td>07 ; 28,53</td></tr>\n",
       "<tr><td>120 ;</td><td>09 ; 58,31</td></tr>\n",
       "<tr><td>151 ;</td><td>12 ; 33,08</td></tr>\n",
       "<tr><td>181 ;</td><td>15 ; 02,46</td></tr>\n",
       "<tr><td>212 ;</td><td>17 ; 37,23</td></tr>\n",
       "<tr><td>243 ;</td><td>20 ; 12,00</td></tr>\n",
       "<tr><td>273 ;</td><td>22 ; 41,37</td></tr>\n",
       "<tr><td>304 ;</td><td>25 ; 16,14</td></tr>\n",
       "<tr><td>334 ;</td><td>27 ; 45,52</td></tr>\n",
       "<tr><td>365 ;</td><td>01s 00 ; 20,29</td></tr>\n",
       "</table></div>"
      ],
      "text/plain": [
       "<HTable length=12>\n",
       "        Months           Entries    \n",
       "IntegerAndSexagesimal   Historical  \n",
       "--------------------- --------------\n",
       "                31 ;      02 ; 34,37\n",
       "                59 ;      04 ; 54,16\n",
       "                90 ;      07 ; 28,53\n",
       "               120 ;      09 ; 58,31\n",
       "               151 ;      12 ; 33,08\n",
       "               181 ;      15 ; 02,46\n",
       "               212 ;      17 ; 37,23\n",
       "               243 ;      20 ; 12,00\n",
       "               273 ;      22 ; 41,37\n",
       "               304 ;      25 ; 16,14\n",
       "               334 ;      27 ; 45,52\n",
       "               365 ;  01s 00 ; 20,29"
      ]
     },
     "execution_count": 4,
     "metadata": {},
     "output_type": "execute_result"
    }
   ],
   "source": [
    "# moon mean motion parameter from the Parisian Alfonsine tables\n",
    "daily_mean=Historical(Sexagesimal(\"0;4,59,15,27,7,23,50\"),7)\n",
    "REVO=Historical(Sexagesimal(\"6,0;0,0\"),7)\n",
    "\n",
    "for i in range(12):\n",
    "    with set_precision(tmode=TruncatureMode.TRUNC, pmode=4):\n",
    "        Test_recomp[i][1]=daily_mean*Hist_table[i][0]%REVO\n",
    "        with set_precision(tmode=TruncatureMode.ROUND, pmode=2):\n",
    "            Test_recomp[i][1]=1*Test_recomp[i][1]\n",
    "            Delta_recomp[i][1]=3600*(Hist_table[i][1]-Test_recomp[i][1])\n",
    "Test_recomp"
   ]
  },
  {
   "cell_type": "code",
   "execution_count": 5,
   "id": "473b8e19-be59-4f35-8dde-fff72b72420a",
   "metadata": {},
   "outputs": [
    {
     "data": {
      "text/plain": [
       "(-600.1666666666666, nan)"
      ]
     },
     "execution_count": 5,
     "metadata": {},
     "output_type": "execute_result"
    }
   ],
   "source": [
    "# residuals visualisation and statistical summaries 1\n",
    "B=Delta_recomp.to_pandas()\n",
    "(B.mean().mean(), B.std().std())"
   ]
  },
  {
   "cell_type": "code",
   "execution_count": 6,
   "id": "3e4c7a74-f745-42a4-a541-3527d1777a95",
   "metadata": {},
   "outputs": [
    {
     "data": {
      "text/html": [
       "<style type=\"text/css\">\n",
       "#T_3736d_row0_col0, #T_3736d_row1_col0, #T_3736d_row2_col0, #T_3736d_row3_col0, #T_3736d_row4_col0, #T_3736d_row5_col0, #T_3736d_row6_col0, #T_3736d_row7_col0, #T_3736d_row8_col0, #T_3736d_row9_col0, #T_3736d_row11_col0 {\n",
       "  background-color: #023858;\n",
       "  color: #f1f1f1;\n",
       "}\n",
       "#T_3736d_row10_col0 {\n",
       "  background-color: #fff7fb;\n",
       "  color: #000000;\n",
       "}\n",
       "</style>\n",
       "<table id=\"T_3736d\">\n",
       "  <thead>\n",
       "    <tr>\n",
       "      <th class=\"blank level0\" >&nbsp;</th>\n",
       "      <th id=\"T_3736d_level0_col0\" class=\"col_heading level0 col0\" >Entries</th>\n",
       "    </tr>\n",
       "    <tr>\n",
       "      <th class=\"index_name level0\" >Months</th>\n",
       "      <th class=\"blank col0\" >&nbsp;</th>\n",
       "    </tr>\n",
       "  </thead>\n",
       "  <tbody>\n",
       "    <tr>\n",
       "      <th id=\"T_3736d_level0_row0\" class=\"row_heading level0 row0\" >31 ; </th>\n",
       "      <td id=\"T_3736d_row0_col0\" class=\"data row0 col0\" >0.000000</td>\n",
       "    </tr>\n",
       "    <tr>\n",
       "      <th id=\"T_3736d_level0_row1\" class=\"row_heading level0 row1\" >59 ; </th>\n",
       "      <td id=\"T_3736d_row1_col0\" class=\"data row1 col0\" >0.000000</td>\n",
       "    </tr>\n",
       "    <tr>\n",
       "      <th id=\"T_3736d_level0_row2\" class=\"row_heading level0 row2\" >90 ; </th>\n",
       "      <td id=\"T_3736d_row2_col0\" class=\"data row2 col0\" >-2.000000</td>\n",
       "    </tr>\n",
       "    <tr>\n",
       "      <th id=\"T_3736d_level0_row3\" class=\"row_heading level0 row3\" >120 ; </th>\n",
       "      <td id=\"T_3736d_row3_col0\" class=\"data row3 col0\" >0.000000</td>\n",
       "    </tr>\n",
       "    <tr>\n",
       "      <th id=\"T_3736d_level0_row4\" class=\"row_heading level0 row4\" >151 ; </th>\n",
       "      <td id=\"T_3736d_row4_col0\" class=\"data row4 col0\" >0.000000</td>\n",
       "    </tr>\n",
       "    <tr>\n",
       "      <th id=\"T_3736d_level0_row5\" class=\"row_heading level0 row5\" >181 ; </th>\n",
       "      <td id=\"T_3736d_row5_col0\" class=\"data row5 col0\" >0.000000</td>\n",
       "    </tr>\n",
       "    <tr>\n",
       "      <th id=\"T_3736d_level0_row6\" class=\"row_heading level0 row6\" >212 ; </th>\n",
       "      <td id=\"T_3736d_row6_col0\" class=\"data row6 col0\" >0.000000</td>\n",
       "    </tr>\n",
       "    <tr>\n",
       "      <th id=\"T_3736d_level0_row7\" class=\"row_heading level0 row7\" >243 ; </th>\n",
       "      <td id=\"T_3736d_row7_col0\" class=\"data row7 col0\" >0.000000</td>\n",
       "    </tr>\n",
       "    <tr>\n",
       "      <th id=\"T_3736d_level0_row8\" class=\"row_heading level0 row8\" >273 ; </th>\n",
       "      <td id=\"T_3736d_row8_col0\" class=\"data row8 col0\" >0.000000</td>\n",
       "    </tr>\n",
       "    <tr>\n",
       "      <th id=\"T_3736d_level0_row9\" class=\"row_heading level0 row9\" >304 ; </th>\n",
       "      <td id=\"T_3736d_row9_col0\" class=\"data row9 col0\" >0.000000</td>\n",
       "    </tr>\n",
       "    <tr>\n",
       "      <th id=\"T_3736d_level0_row10\" class=\"row_heading level0 row10\" >334 ; </th>\n",
       "      <td id=\"T_3736d_row10_col0\" class=\"data row10 col0\" >-7200.000000</td>\n",
       "    </tr>\n",
       "    <tr>\n",
       "      <th id=\"T_3736d_level0_row11\" class=\"row_heading level0 row11\" >365 ; </th>\n",
       "      <td id=\"T_3736d_row11_col0\" class=\"data row11 col0\" >0.000000</td>\n",
       "    </tr>\n",
       "  </tbody>\n",
       "</table>\n"
      ],
      "text/plain": [
       "<pandas.io.formats.style.Styler at 0x7fa1b9693fa0>"
      ]
     },
     "execution_count": 6,
     "metadata": {},
     "output_type": "execute_result"
    }
   ],
   "source": [
    "B.astype(float).style.background_gradient(axis=None)"
   ]
  },
  {
   "cell_type": "code",
   "execution_count": 7,
   "id": "7c3522f7-f5c8-40d8-a2f1-a9bdf2a2ee60",
   "metadata": {},
   "outputs": [],
   "source": [
    "#csv export of the recomputed table\n",
    "B=Test_recomp.to_pandas()\n",
    "compression_opts = dict(method='zip',archive_name='Jupiter mean months.csv')\n",
    "B.to_csv('Jupiter mean months.zip', index=False, compression=compression_opts)"
   ]
  },
  {
   "cell_type": "code",
   "execution_count": null,
   "id": "a18ac30b-e7d8-4174-ba34-6179597ae1d3",
   "metadata": {},
   "outputs": [],
   "source": []
  }
 ],
 "metadata": {
  "kernelspec": {
   "display_name": "Python 3 (ipykernel)",
   "language": "python",
   "name": "python3"
  },
  "language_info": {
   "codemirror_mode": {
    "name": "ipython",
    "version": 3
   },
   "file_extension": ".py",
   "mimetype": "text/x-python",
   "name": "python",
   "nbconvert_exporter": "python",
   "pygments_lexer": "ipython3",
   "version": "3.9.7"
  }
 },
 "nbformat": 4,
 "nbformat_minor": 5
}
