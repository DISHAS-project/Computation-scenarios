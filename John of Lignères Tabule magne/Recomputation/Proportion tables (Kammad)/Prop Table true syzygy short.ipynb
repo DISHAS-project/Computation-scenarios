{
 "cells": [
  {
   "cell_type": "code",
   "execution_count": 1,
   "id": "ad7bdca5-e27e-498a-965c-76c52e7c2e5f",
   "metadata": {},
   "outputs": [],
   "source": [
    "#Initial environement of computations\n",
    "\n",
    "import matplotlib.pyplot as plt\n",
    "import numpy as np\n",
    "from kanon.calendars import Calendar, Date\n",
    "from kanon.calendars.calendars import float_to_hm, hm_to_float\n",
    "from kanon.tables import HTable\n",
    "from kanon.units import Sexagesimal, Historical\n",
    "from kanon.units.precision import set_precision, TruncatureMode, PrecisionMode\n",
    "import astropy.units as u\n",
    "\n",
    "\n",
    "from kanon.tables.htable_reader import (\n",
    "    DISHAS_REQUEST_URL,\n",
    "    read_historical,\n",
    "    read_sexag_array,\n",
    "    read_intsexag_array,\n",
    ")\n",
    "from kanon.tables import HTable\n",
    "import requests\n",
    "\n",
    "\n",
    "number_reader = {\n",
    "    \"sexagesimal\": read_sexag_array,\n",
    "    \"floating sexagesimal\": read_sexag_array,\n",
    "    \"integer and sexagesimal\": read_intsexag_array,\n",
    "    \"historical\": read_historical,\n",
    "}"
   ]
  },
  {
   "cell_type": "code",
   "execution_count": 2,
   "id": "e4df1aba-5943-4561-b69c-47432d87b194",
   "metadata": {},
   "outputs": [
    {
     "data": {
      "text/html": [
       "<div><i>HTable length=8</i>\n",
       "<table id=\"table139831927884432\" class=\"table-striped table-bordered table-condensed\">\n",
       "<thead><tr><th>Superation</th><th>Tables [8]</th></tr></thead>\n",
       "<thead><tr><th>deg</th><th></th></tr></thead>\n",
       "<thead><tr><th>Historical</th><th>void128</th></tr></thead>\n",
       "<tr><td>00 ; 27</td><td>(1 ; , 00 ; 02,12,20) .. (8 ; , 00 ; 17,46,40)</td></tr>\n",
       "<tr><td>00 ; 28</td><td>(1 ; , 00 ; 02,08,34) .. (8 ; , 00 ; 17,08,34)</td></tr>\n",
       "<tr><td>00 ; 29</td><td>(1 ; , 00 ; 02,04,08) .. (8 ; , 00 ; 16,33,06)</td></tr>\n",
       "<tr><td>00 ; 30</td><td>(1 ; , 00 ; 02,00,00) .. (8 ; , 00 ; 16,00,00)</td></tr>\n",
       "<tr><td>00 ; 31</td><td>(1 ; , 00 ; 01,56,08) .. (8 ; , 00 ; 15,29,02)</td></tr>\n",
       "<tr><td>00 ; 32</td><td>(1 ; , 00 ; 01,52,30) .. (8 ; , 00 ; 15,00,00)</td></tr>\n",
       "<tr><td>00 ; 33</td><td>(1 ; , 00 ; 01,49,05) .. (8 ; , 00 ; 14,32,44)</td></tr>\n",
       "<tr><td>00 ; 34</td><td>(1 ; , 00 ; 01,45,53) .. (8 ; , 00 ; 14,03,04)</td></tr>\n",
       "</table></div>"
      ],
      "text/plain": [
       "<HTable length=8>\n",
       "Superation                   Tables [8]                  \n",
       "   deg                                                   \n",
       "Historical                    void128                    \n",
       "---------- ----------------------------------------------\n",
       "   00 ; 27 (1 ; , 00 ; 02,12,20) .. (8 ; , 00 ; 17,46,40)\n",
       "   00 ; 28 (1 ; , 00 ; 02,08,34) .. (8 ; , 00 ; 17,08,34)\n",
       "   00 ; 29 (1 ; , 00 ; 02,04,08) .. (8 ; , 00 ; 16,33,06)\n",
       "   00 ; 30 (1 ; , 00 ; 02,00,00) .. (8 ; , 00 ; 16,00,00)\n",
       "   00 ; 31 (1 ; , 00 ; 01,56,08) .. (8 ; , 00 ; 15,29,02)\n",
       "   00 ; 32 (1 ; , 00 ; 01,52,30) .. (8 ; , 00 ; 15,00,00)\n",
       "   00 ; 33 (1 ; , 00 ; 01,49,05) .. (8 ; , 00 ; 14,32,44)\n",
       "   00 ; 34 (1 ; , 00 ; 01,45,53) .. (8 ; , 00 ; 14,03,04)"
      ]
     },
     "execution_count": 2,
     "metadata": {},
     "output_type": "execute_result"
    }
   ],
   "source": [
    "#Initial table set\n",
    "\n",
    "#Access and recess equation form the Parisian Alfonsines Tables\n",
    "Hist_table=HTable.read(1372,format='dishas')\n",
    "Hist_table"
   ]
  },
  {
   "cell_type": "code",
   "execution_count": 3,
   "id": "b10012dc-94d8-42b1-8a14-8ecc23bc63e9",
   "metadata": {},
   "outputs": [],
   "source": [
    "# Formating and initialising the Test tables\n",
    "\n",
    "Test_recomp=Hist_table.copy()\n",
    "Delta_recomp=Hist_table.copy()\n",
    "for i in range(8):\n",
    "    for j in range(8):\n",
    "        Test_recomp[i][1][j][1]=Sexagesimal('0;')\n",
    "        Delta_recomp[i][1][j][1]=Sexagesimal('0;')\n"
   ]
  },
  {
   "cell_type": "code",
   "execution_count": 4,
   "id": "f613914d-853e-4fdc-bc47-be131e2fc7f3",
   "metadata": {},
   "outputs": [],
   "source": [
    "for i in range(8):\n",
    "    with set_precision(tmode=TruncatureMode.TRUNC, pmode=4):\n",
    "        # initial value for superatio\n",
    "        superatio=60*Hist_table[i][0]\n",
    "                 \n",
    "    for j in range(8):\n",
    "        with set_precision(tmode=TruncatureMode.TRUNC, pmode=4):\n",
    "            # Initial values for elongation\n",
    "            elong=Hist_table[0][1][j][0]\n",
    "         \n",
    "        # computation of the proportion\n",
    "        with set_precision(tmode=TruncatureMode.ROUND, pmode=3):\n",
    "            prop=elong/superatio\n",
    "            Test_recomp[i][1][j][1]=prop*u.degree\n",
    "            hist=Hist_table[i][1][j][1]\n",
    "            Delta_recomp[i][1][j][1]=60*60*60*(hist-prop)"
   ]
  },
  {
   "cell_type": "code",
   "execution_count": 5,
   "id": "9a08353a-3115-4922-a66d-7dc7c31b58f8",
   "metadata": {},
   "outputs": [
    {
     "data": {
      "text/plain": [
       "(-4.625, 29.73739228648)"
      ]
     },
     "execution_count": 5,
     "metadata": {},
     "output_type": "execute_result"
    }
   ],
   "source": [
    "# residuals visualisation and statistical summaries 1\n",
    "A=Delta_recomp.to_pandas()\n",
    "(A.mean().mean(), A.std().std())"
   ]
  },
  {
   "cell_type": "code",
   "execution_count": 6,
   "id": "c8ce4bc8-99ba-4f52-a51d-b3633edb24bd",
   "metadata": {},
   "outputs": [
    {
     "data": {
      "text/html": [
       "<style type=\"text/css\">\n",
       "#T_be8a5_row0_col0 {\n",
       "  background-color: #0a73b2;\n",
       "  color: #f1f1f1;\n",
       "}\n",
       "#T_be8a5_row0_col1, #T_be8a5_row0_col2, #T_be8a5_row0_col3, #T_be8a5_row0_col4, #T_be8a5_row0_col5, #T_be8a5_row0_col6, #T_be8a5_row0_col7, #T_be8a5_row1_col0, #T_be8a5_row1_col1, #T_be8a5_row1_col2, #T_be8a5_row1_col3, #T_be8a5_row1_col4, #T_be8a5_row1_col5, #T_be8a5_row1_col6, #T_be8a5_row1_col7, #T_be8a5_row2_col0, #T_be8a5_row2_col1, #T_be8a5_row2_col2, #T_be8a5_row2_col3, #T_be8a5_row2_col4, #T_be8a5_row2_col5, #T_be8a5_row2_col6, #T_be8a5_row2_col7, #T_be8a5_row3_col0, #T_be8a5_row3_col1, #T_be8a5_row3_col2, #T_be8a5_row3_col3, #T_be8a5_row3_col4, #T_be8a5_row3_col5, #T_be8a5_row3_col6, #T_be8a5_row3_col7, #T_be8a5_row4_col0, #T_be8a5_row4_col1, #T_be8a5_row4_col2, #T_be8a5_row4_col3, #T_be8a5_row4_col4, #T_be8a5_row4_col5, #T_be8a5_row4_col6, #T_be8a5_row4_col7, #T_be8a5_row5_col0, #T_be8a5_row5_col1, #T_be8a5_row5_col2, #T_be8a5_row5_col3, #T_be8a5_row5_col4, #T_be8a5_row5_col5, #T_be8a5_row5_col7, #T_be8a5_row6_col0, #T_be8a5_row6_col1, #T_be8a5_row6_col2, #T_be8a5_row6_col3, #T_be8a5_row6_col5, #T_be8a5_row6_col6, #T_be8a5_row6_col7, #T_be8a5_row7_col0, #T_be8a5_row7_col1, #T_be8a5_row7_col2, #T_be8a5_row7_col3, #T_be8a5_row7_col4, #T_be8a5_row7_col5, #T_be8a5_row7_col6 {\n",
       "  background-color: #023d60;\n",
       "  color: #f1f1f1;\n",
       "}\n",
       "#T_be8a5_row5_col6 {\n",
       "  background-color: #023e62;\n",
       "  color: #f1f1f1;\n",
       "}\n",
       "#T_be8a5_row6_col4 {\n",
       "  background-color: #023858;\n",
       "  color: #f1f1f1;\n",
       "}\n",
       "#T_be8a5_row7_col7 {\n",
       "  background-color: #fff7fb;\n",
       "  color: #000000;\n",
       "}\n",
       "</style>\n",
       "<table id=\"T_be8a5\">\n",
       "  <thead>\n",
       "    <tr>\n",
       "      <th class=\"blank level0\" >&nbsp;</th>\n",
       "      <th id=\"T_be8a5_level0_col0\" class=\"col_heading level0 col0\" >00 ; 27</th>\n",
       "      <th id=\"T_be8a5_level0_col1\" class=\"col_heading level0 col1\" >00 ; 28</th>\n",
       "      <th id=\"T_be8a5_level0_col2\" class=\"col_heading level0 col2\" >00 ; 29</th>\n",
       "      <th id=\"T_be8a5_level0_col3\" class=\"col_heading level0 col3\" >00 ; 30</th>\n",
       "      <th id=\"T_be8a5_level0_col4\" class=\"col_heading level0 col4\" >00 ; 31</th>\n",
       "      <th id=\"T_be8a5_level0_col5\" class=\"col_heading level0 col5\" >00 ; 32</th>\n",
       "      <th id=\"T_be8a5_level0_col6\" class=\"col_heading level0 col6\" >00 ; 33</th>\n",
       "      <th id=\"T_be8a5_level0_col7\" class=\"col_heading level0 col7\" >00 ; 34</th>\n",
       "    </tr>\n",
       "  </thead>\n",
       "  <tbody>\n",
       "    <tr>\n",
       "      <th id=\"T_be8a5_level0_row0\" class=\"row_heading level0 row0\" >1 ; </th>\n",
       "      <td id=\"T_be8a5_row0_col0\" class=\"data row0 col0\" >-60.000000</td>\n",
       "      <td id=\"T_be8a5_row0_col1\" class=\"data row0 col1\" >0.000000</td>\n",
       "      <td id=\"T_be8a5_row0_col2\" class=\"data row0 col2\" >0.000000</td>\n",
       "      <td id=\"T_be8a5_row0_col3\" class=\"data row0 col3\" >0.000000</td>\n",
       "      <td id=\"T_be8a5_row0_col4\" class=\"data row0 col4\" >0.000000</td>\n",
       "      <td id=\"T_be8a5_row0_col5\" class=\"data row0 col5\" >0.000000</td>\n",
       "      <td id=\"T_be8a5_row0_col6\" class=\"data row0 col6\" >0.000000</td>\n",
       "      <td id=\"T_be8a5_row0_col7\" class=\"data row0 col7\" >0.000000</td>\n",
       "    </tr>\n",
       "    <tr>\n",
       "      <th id=\"T_be8a5_level0_row1\" class=\"row_heading level0 row1\" >2 ; </th>\n",
       "      <td id=\"T_be8a5_row1_col0\" class=\"data row1 col0\" >0.000000</td>\n",
       "      <td id=\"T_be8a5_row1_col1\" class=\"data row1 col1\" >0.000000</td>\n",
       "      <td id=\"T_be8a5_row1_col2\" class=\"data row1 col2\" >0.000000</td>\n",
       "      <td id=\"T_be8a5_row1_col3\" class=\"data row1 col3\" >0.000000</td>\n",
       "      <td id=\"T_be8a5_row1_col4\" class=\"data row1 col4\" >0.000000</td>\n",
       "      <td id=\"T_be8a5_row1_col5\" class=\"data row1 col5\" >0.000000</td>\n",
       "      <td id=\"T_be8a5_row1_col6\" class=\"data row1 col6\" >0.000000</td>\n",
       "      <td id=\"T_be8a5_row1_col7\" class=\"data row1 col7\" >0.000000</td>\n",
       "    </tr>\n",
       "    <tr>\n",
       "      <th id=\"T_be8a5_level0_row2\" class=\"row_heading level0 row2\" >3 ; </th>\n",
       "      <td id=\"T_be8a5_row2_col0\" class=\"data row2 col0\" >0.000000</td>\n",
       "      <td id=\"T_be8a5_row2_col1\" class=\"data row2 col1\" >0.000000</td>\n",
       "      <td id=\"T_be8a5_row2_col2\" class=\"data row2 col2\" >0.000000</td>\n",
       "      <td id=\"T_be8a5_row2_col3\" class=\"data row2 col3\" >0.000000</td>\n",
       "      <td id=\"T_be8a5_row2_col4\" class=\"data row2 col4\" >0.000000</td>\n",
       "      <td id=\"T_be8a5_row2_col5\" class=\"data row2 col5\" >0.000000</td>\n",
       "      <td id=\"T_be8a5_row2_col6\" class=\"data row2 col6\" >0.000000</td>\n",
       "      <td id=\"T_be8a5_row2_col7\" class=\"data row2 col7\" >0.000000</td>\n",
       "    </tr>\n",
       "    <tr>\n",
       "      <th id=\"T_be8a5_level0_row3\" class=\"row_heading level0 row3\" >4 ; </th>\n",
       "      <td id=\"T_be8a5_row3_col0\" class=\"data row3 col0\" >0.000000</td>\n",
       "      <td id=\"T_be8a5_row3_col1\" class=\"data row3 col1\" >0.000000</td>\n",
       "      <td id=\"T_be8a5_row3_col2\" class=\"data row3 col2\" >0.000000</td>\n",
       "      <td id=\"T_be8a5_row3_col3\" class=\"data row3 col3\" >0.000000</td>\n",
       "      <td id=\"T_be8a5_row3_col4\" class=\"data row3 col4\" >0.000000</td>\n",
       "      <td id=\"T_be8a5_row3_col5\" class=\"data row3 col5\" >0.000000</td>\n",
       "      <td id=\"T_be8a5_row3_col6\" class=\"data row3 col6\" >0.000000</td>\n",
       "      <td id=\"T_be8a5_row3_col7\" class=\"data row3 col7\" >0.000000</td>\n",
       "    </tr>\n",
       "    <tr>\n",
       "      <th id=\"T_be8a5_level0_row4\" class=\"row_heading level0 row4\" >5 ; </th>\n",
       "      <td id=\"T_be8a5_row4_col0\" class=\"data row4 col0\" >0.000000</td>\n",
       "      <td id=\"T_be8a5_row4_col1\" class=\"data row4 col1\" >0.000000</td>\n",
       "      <td id=\"T_be8a5_row4_col2\" class=\"data row4 col2\" >0.000000</td>\n",
       "      <td id=\"T_be8a5_row4_col3\" class=\"data row4 col3\" >0.000000</td>\n",
       "      <td id=\"T_be8a5_row4_col4\" class=\"data row4 col4\" >0.000000</td>\n",
       "      <td id=\"T_be8a5_row4_col5\" class=\"data row4 col5\" >0.000000</td>\n",
       "      <td id=\"T_be8a5_row4_col6\" class=\"data row4 col6\" >0.000000</td>\n",
       "      <td id=\"T_be8a5_row4_col7\" class=\"data row4 col7\" >0.000000</td>\n",
       "    </tr>\n",
       "    <tr>\n",
       "      <th id=\"T_be8a5_level0_row5\" class=\"row_heading level0 row5\" >6 ; </th>\n",
       "      <td id=\"T_be8a5_row5_col0\" class=\"data row5 col0\" >0.000000</td>\n",
       "      <td id=\"T_be8a5_row5_col1\" class=\"data row5 col1\" >0.000000</td>\n",
       "      <td id=\"T_be8a5_row5_col2\" class=\"data row5 col2\" >0.000000</td>\n",
       "      <td id=\"T_be8a5_row5_col3\" class=\"data row5 col3\" >0.000000</td>\n",
       "      <td id=\"T_be8a5_row5_col4\" class=\"data row5 col4\" >0.000000</td>\n",
       "      <td id=\"T_be8a5_row5_col5\" class=\"data row5 col5\" >0.000000</td>\n",
       "      <td id=\"T_be8a5_row5_col6\" class=\"data row5 col6\" >-1.000000</td>\n",
       "      <td id=\"T_be8a5_row5_col7\" class=\"data row5 col7\" >0.000000</td>\n",
       "    </tr>\n",
       "    <tr>\n",
       "      <th id=\"T_be8a5_level0_row6\" class=\"row_heading level0 row6\" >7 ; </th>\n",
       "      <td id=\"T_be8a5_row6_col0\" class=\"data row6 col0\" >0.000000</td>\n",
       "      <td id=\"T_be8a5_row6_col1\" class=\"data row6 col1\" >0.000000</td>\n",
       "      <td id=\"T_be8a5_row6_col2\" class=\"data row6 col2\" >0.000000</td>\n",
       "      <td id=\"T_be8a5_row6_col3\" class=\"data row6 col3\" >0.000000</td>\n",
       "      <td id=\"T_be8a5_row6_col4\" class=\"data row6 col4\" >5.000000</td>\n",
       "      <td id=\"T_be8a5_row6_col5\" class=\"data row6 col5\" >0.000000</td>\n",
       "      <td id=\"T_be8a5_row6_col6\" class=\"data row6 col6\" >0.000000</td>\n",
       "      <td id=\"T_be8a5_row6_col7\" class=\"data row6 col7\" >0.000000</td>\n",
       "    </tr>\n",
       "    <tr>\n",
       "      <th id=\"T_be8a5_level0_row7\" class=\"row_heading level0 row7\" >8 ; </th>\n",
       "      <td id=\"T_be8a5_row7_col0\" class=\"data row7 col0\" >0.000000</td>\n",
       "      <td id=\"T_be8a5_row7_col1\" class=\"data row7 col1\" >0.000000</td>\n",
       "      <td id=\"T_be8a5_row7_col2\" class=\"data row7 col2\" >0.000000</td>\n",
       "      <td id=\"T_be8a5_row7_col3\" class=\"data row7 col3\" >0.000000</td>\n",
       "      <td id=\"T_be8a5_row7_col4\" class=\"data row7 col4\" >0.000000</td>\n",
       "      <td id=\"T_be8a5_row7_col5\" class=\"data row7 col5\" >0.000000</td>\n",
       "      <td id=\"T_be8a5_row7_col6\" class=\"data row7 col6\" >0.000000</td>\n",
       "      <td id=\"T_be8a5_row7_col7\" class=\"data row7 col7\" >-240.000000</td>\n",
       "    </tr>\n",
       "  </tbody>\n",
       "</table>\n"
      ],
      "text/plain": [
       "<pandas.io.formats.style.Styler at 0x7f2c09189f70>"
      ]
     },
     "execution_count": 6,
     "metadata": {},
     "output_type": "execute_result"
    }
   ],
   "source": [
    "# residuals visualisation and statistical summaries 2\n",
    "A.astype(float).style.background_gradient(axis=None)"
   ]
  },
  {
   "cell_type": "code",
   "execution_count": 7,
   "id": "040a8f5c-5ad5-452a-b3e2-adf8072b0752",
   "metadata": {},
   "outputs": [],
   "source": [
    "#csv export of the recomputed table\n",
    "B=Test_recomp.to_pandas()\n",
    "compression_opts = dict(method='zip',archive_name='Kammad short_TM.csv')\n",
    "B.to_csv('Kammad short_TM.zip', index=False, compression=compression_opts)"
   ]
  },
  {
   "cell_type": "code",
   "execution_count": null,
   "id": "0d0aec20-70f4-45bf-b9df-94049e66fb75",
   "metadata": {},
   "outputs": [],
   "source": []
  }
 ],
 "metadata": {
  "kernelspec": {
   "display_name": "Python 3 (ipykernel)",
   "language": "python",
   "name": "python3"
  },
  "language_info": {
   "codemirror_mode": {
    "name": "ipython",
    "version": 3
   },
   "file_extension": ".py",
   "mimetype": "text/x-python",
   "name": "python",
   "nbconvert_exporter": "python",
   "pygments_lexer": "ipython3",
   "version": "3.9.7"
  }
 },
 "nbformat": 4,
 "nbformat_minor": 5
}
