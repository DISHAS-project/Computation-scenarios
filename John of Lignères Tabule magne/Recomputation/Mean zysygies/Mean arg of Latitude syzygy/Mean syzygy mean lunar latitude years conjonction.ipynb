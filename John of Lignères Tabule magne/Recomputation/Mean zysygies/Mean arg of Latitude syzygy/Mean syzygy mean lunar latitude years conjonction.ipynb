{
 "cells": [
  {
   "cell_type": "code",
   "execution_count": 1,
   "id": "79bb89ba-1661-43db-ba2f-fd7bfa53be34",
   "metadata": {},
   "outputs": [],
   "source": [
    "#Initial environement of computations\n",
    "\n",
    "\n",
    "import matplotlib.pyplot as plt\n",
    "import numpy as np\n",
    "from kanon.calendars import Calendar, Date\n",
    "from kanon.calendars.calendars import float_to_hm, hm_to_float\n",
    "from kanon.tables import HTable\n",
    "from kanon.units import Sexagesimal, Historical\n",
    "from kanon.units.precision import set_precision, TruncatureMode, PrecisionMode\n",
    "import astropy.units as u\n",
    "\n",
    "\n",
    "from kanon.tables.htable_reader import (\n",
    "    DISHAS_REQUEST_URL,\n",
    "    read_historical,\n",
    "    read_sexag_array,\n",
    "    read_intsexag_array,\n",
    ")\n",
    "from kanon.tables import HTable\n",
    "import requests\n",
    "\n",
    "from kanon.units import Sexagesimal, Historical, IntegerAndSexagesimal, Temporal\n",
    "from kanon.calendars import*\n",
    "\n",
    "Cal=julian_ad = Calendar.registry[\"Julian A.D.\"]\n",
    "\n",
    "number_reader = {\n",
    "    \"sexagesimal\": read_sexag_array,\n",
    "    \"floating sexagesimal\": read_sexag_array,\n",
    "    \"integer and sexagesimal\": read_intsexag_array,\n",
    "    \"historical\": read_historical,\n",
    "}"
   ]
  },
  {
   "cell_type": "code",
   "execution_count": 2,
   "id": "1ee1c881-68a0-4d45-b85a-89ae739719f8",
   "metadata": {},
   "outputs": [
    {
     "data": {
      "text/html": [
       "<div><i>HTable length=13</i>\n",
       "<table id=\"table140047487730304\" class=\"table-striped table-bordered table-condensed\">\n",
       "<thead><tr><th>years, conjonction</th><th>Entries</th></tr></thead>\n",
       "<thead><tr><th>IntegerAndSexagesimal</th><th>Historical</th></tr></thead>\n",
       "<tr><td>482495 ;</td><td>20 ; 38,41</td></tr>\n",
       "<tr><td>491261 ;</td><td>03s 09 ; 06,37</td></tr>\n",
       "<tr><td>500027 ;</td><td>06s 28 ; 14,46</td></tr>\n",
       "<tr><td>508793 ;</td><td>10s 17 ; 22,55</td></tr>\n",
       "<tr><td>517559 ;</td><td>02s 06 ; 31,04</td></tr>\n",
       "<tr><td>526325 ;</td><td>05s 25 ; 39,13</td></tr>\n",
       "<tr><td>535091 ;</td><td>09s 14 ; 47,23</td></tr>\n",
       "<tr><td>543857 ;</td><td>03 ; 15,18</td></tr>\n",
       "<tr><td>552623 ;</td><td>03s 22 ; 23,27</td></tr>\n",
       "<tr><td>561389 ;</td><td>07s 11 ; 31,36</td></tr>\n",
       "<tr><td>570155 ;</td><td>11s 00 ; 39,46</td></tr>\n",
       "<tr><td>578921 ;</td><td>02s 19 ; 47,45</td></tr>\n",
       "<tr><td>587687 ;</td><td>06s 08 ; 53,04</td></tr>\n",
       "</table></div>"
      ],
      "text/plain": [
       "<HTable length=13>\n",
       "  years, conjonction     Entries    \n",
       "IntegerAndSexagesimal   Historical  \n",
       "--------------------- --------------\n",
       "            482495 ;      20 ; 38,41\n",
       "            491261 ;  03s 09 ; 06,37\n",
       "            500027 ;  06s 28 ; 14,46\n",
       "            508793 ;  10s 17 ; 22,55\n",
       "            517559 ;  02s 06 ; 31,04\n",
       "            526325 ;  05s 25 ; 39,13\n",
       "            535091 ;  09s 14 ; 47,23\n",
       "            543857 ;      03 ; 15,18\n",
       "            552623 ;  03s 22 ; 23,27\n",
       "            561389 ;  07s 11 ; 31,36\n",
       "            570155 ;  11s 00 ; 39,46\n",
       "            578921 ;  02s 19 ; 47,45\n",
       "            587687 ;  06s 08 ; 53,04"
      ]
     },
     "execution_count": 2,
     "metadata": {},
     "output_type": "execute_result"
    }
   ],
   "source": [
    "#Initial table set\n",
    "\n",
    "# Historical target table\n",
    "Hist_table=HTable.read(589, with_units=False)\n",
    "Hist_table\n"
   ]
  },
  {
   "cell_type": "code",
   "execution_count": 3,
   "id": "49d15e2d-03a8-4d82-8df2-ad36d5faaf67",
   "metadata": {},
   "outputs": [],
   "source": [
    "# Formating and initialising the Test tables\n",
    "\n",
    "Test_recomp=Hist_table.copy()\n",
    "Delta_recomp=Hist_table.copy()\n",
    "for i in range(13):\n",
    "    Test_recomp[i][1]=Historical(Sexagesimal('0;0,0'),2)\n",
    "    Delta_recomp[i][1]=Historical(Sexagesimal('0;0,0'),2)"
   ]
  },
  {
   "cell_type": "code",
   "execution_count": 24,
   "id": "06847150-d4e8-4024-98be-cf46395fbc6d",
   "metadata": {},
   "outputs": [
    {
     "data": {
      "text/html": [
       "<div><i>HTable length=13</i>\n",
       "<table id=\"table140047486728896\" class=\"table-striped table-bordered table-condensed\">\n",
       "<thead><tr><th>years, conjonction</th><th>Entries</th></tr></thead>\n",
       "<thead><tr><th>IntegerAndSexagesimal</th><th>Historical</th></tr></thead>\n",
       "<tr><td>482495 ;</td><td>20 ; 38,41</td></tr>\n",
       "<tr><td>491261 ;</td><td>03s 09 ; 06,37</td></tr>\n",
       "<tr><td>500027 ;</td><td>06s 28 ; 14,46</td></tr>\n",
       "<tr><td>508793 ;</td><td>10s 17 ; 22,55</td></tr>\n",
       "<tr><td>517559 ;</td><td>02s 06 ; 31,04</td></tr>\n",
       "<tr><td>526325 ;</td><td>05s 25 ; 39,13</td></tr>\n",
       "<tr><td>535091 ;</td><td>09s 14 ; 47,22</td></tr>\n",
       "<tr><td>543857 ;</td><td>03 ; 15,18</td></tr>\n",
       "<tr><td>552623 ;</td><td>03s 22 ; 23,27</td></tr>\n",
       "<tr><td>561389 ;</td><td>07s 11 ; 31,36</td></tr>\n",
       "<tr><td>570155 ;</td><td>11s 00 ; 39,45</td></tr>\n",
       "<tr><td>578921 ;</td><td>02s 19 ; 47,54</td></tr>\n",
       "<tr><td>587687 ;</td><td>06s 08 ; 56,04</td></tr>\n",
       "</table></div>"
      ],
      "text/plain": [
       "<HTable length=13>\n",
       "  years, conjonction     Entries    \n",
       "IntegerAndSexagesimal   Historical  \n",
       "--------------------- --------------\n",
       "            482495 ;      20 ; 38,41\n",
       "            491261 ;  03s 09 ; 06,37\n",
       "            500027 ;  06s 28 ; 14,46\n",
       "            508793 ;  10s 17 ; 22,55\n",
       "            517559 ;  02s 06 ; 31,04\n",
       "            526325 ;  05s 25 ; 39,13\n",
       "            535091 ;  09s 14 ; 47,22\n",
       "            543857 ;      03 ; 15,18\n",
       "            552623 ;  03s 22 ; 23,27\n",
       "            561389 ;  07s 11 ; 31,36\n",
       "            570155 ;  11s 00 ; 39,45\n",
       "            578921 ;  02s 19 ; 47,54\n",
       "            587687 ;  06s 08 ; 56,04"
      ]
     },
     "execution_count": 24,
     "metadata": {},
     "output_type": "execute_result"
    }
   ],
   "source": [
    "#mean motion parameter from the Parisian Alfonsine Tables\n",
    "#note that the radices for moon lat is not exactly that of the princeps ed of the Parisian Alfonsine Tables\n",
    "# the Parisian Alfonsine Table one read 3, 34;28, 42, 38, 28\n",
    "daily_mean_elong=Historical(Sexagesimal(\"12;11,26,41,37,51,50,39\"),7)\n",
    "radice_elong=Historical(Sexagesimal(\"3,24;25,49,46,11\"),4)\n",
    "daily_mean_moon_lat=Historical(Sexagesimal(\"13;13,45,39,22,25,53,45\"),7)\n",
    "radice_moon_lat=Historical(Sexagesimal(\"3,34;42,42,38,28\"),4)\n",
    "delta_Paris_Toledo=Temporal(\"0;0,48\")\n",
    "REVO=Historical(Sexagesimal(\"6,0;0,0\"),7)\n",
    "epoch= Date(Cal, (1, 1, 1))\n",
    "\n",
    "for i in range(13):\n",
    "    with set_precision(tmode=TruncatureMode.TRUNC, pmode=5):\n",
    "\n",
    "        #conversion of date to DN from calendar epoch\n",
    "        days=int(Hist_table[i][0])-365\n",
    "        \n",
    "        #computation of the elongation at date\n",
    "        elong=(days*daily_mean_elong+radice_elong)%REVO\n",
    "\n",
    "        #computation of time to conjonction NOT including delta between Paris and Toledo and conversion in DN since epoch\n",
    "        time=(REVO-elong)/daily_mean_elong\n",
    "        time=Temporal(time,7)\n",
    "        time=time.decimal\n",
    "        time=float(time)+days\n",
    "        \n",
    "        #computation of the mean sun (and moon) for that time\n",
    "        mean_moon_lat=(time*daily_mean_moon_lat+radice_moon_lat)%REVO\n",
    "        \n",
    "        \n",
    "        #filling the Test and Delta tables with the final precision\n",
    "        with set_precision(tmode=TruncatureMode.ROUND, pmode=2):\n",
    "            Test_recomp[i][1]=1*mean_moon_lat\n",
    "            Delta_recomp[i][1]=60*60*(Hist_table[i][1]-Test_recomp[i][1])\n",
    "Test_recomp"
   ]
  },
  {
   "cell_type": "code",
   "execution_count": 25,
   "id": "c7f93d70-cc69-43d5-b4a5-f7691f05a7ee",
   "metadata": {},
   "outputs": [
    {
     "data": {
      "text/plain": [
       "(-14.384615384615385, nan)"
      ]
     },
     "execution_count": 25,
     "metadata": {},
     "output_type": "execute_result"
    }
   ],
   "source": [
    "# residuals visualisation and statistical summaries 1\n",
    "B=Delta_recomp.to_pandas()\n",
    "(B.mean().mean(), B.std().std())"
   ]
  },
  {
   "cell_type": "code",
   "execution_count": 26,
   "id": "d91c8188-1943-4c3f-bbda-f904494a755e",
   "metadata": {},
   "outputs": [
    {
     "data": {
      "text/html": [
       "<style type=\"text/css\">\n",
       "#T_5c310_row0_col0, #T_5c310_row1_col0, #T_5c310_row2_col0, #T_5c310_row3_col0, #T_5c310_row4_col0, #T_5c310_row5_col0, #T_5c310_row7_col0, #T_5c310_row8_col0, #T_5c310_row9_col0 {\n",
       "  background-color: #02395a;\n",
       "  color: #f1f1f1;\n",
       "}\n",
       "#T_5c310_row6_col0, #T_5c310_row10_col0 {\n",
       "  background-color: #023858;\n",
       "  color: #f1f1f1;\n",
       "}\n",
       "#T_5c310_row11_col0 {\n",
       "  background-color: #03476f;\n",
       "  color: #f1f1f1;\n",
       "}\n",
       "#T_5c310_row12_col0 {\n",
       "  background-color: #fff7fb;\n",
       "  color: #000000;\n",
       "}\n",
       "</style>\n",
       "<table id=\"T_5c310\">\n",
       "  <thead>\n",
       "    <tr>\n",
       "      <th class=\"blank level0\" >&nbsp;</th>\n",
       "      <th id=\"T_5c310_level0_col0\" class=\"col_heading level0 col0\" >Entries</th>\n",
       "    </tr>\n",
       "    <tr>\n",
       "      <th class=\"index_name level0\" >years, conjonction</th>\n",
       "      <th class=\"blank col0\" >&nbsp;</th>\n",
       "    </tr>\n",
       "  </thead>\n",
       "  <tbody>\n",
       "    <tr>\n",
       "      <th id=\"T_5c310_level0_row0\" class=\"row_heading level0 row0\" >482495 ; </th>\n",
       "      <td id=\"T_5c310_row0_col0\" class=\"data row0 col0\" >0</td>\n",
       "    </tr>\n",
       "    <tr>\n",
       "      <th id=\"T_5c310_level0_row1\" class=\"row_heading level0 row1\" >491261 ; </th>\n",
       "      <td id=\"T_5c310_row1_col0\" class=\"data row1 col0\" >0</td>\n",
       "    </tr>\n",
       "    <tr>\n",
       "      <th id=\"T_5c310_level0_row2\" class=\"row_heading level0 row2\" >500027 ; </th>\n",
       "      <td id=\"T_5c310_row2_col0\" class=\"data row2 col0\" >0</td>\n",
       "    </tr>\n",
       "    <tr>\n",
       "      <th id=\"T_5c310_level0_row3\" class=\"row_heading level0 row3\" >508793 ; </th>\n",
       "      <td id=\"T_5c310_row3_col0\" class=\"data row3 col0\" >0</td>\n",
       "    </tr>\n",
       "    <tr>\n",
       "      <th id=\"T_5c310_level0_row4\" class=\"row_heading level0 row4\" >517559 ; </th>\n",
       "      <td id=\"T_5c310_row4_col0\" class=\"data row4 col0\" >0</td>\n",
       "    </tr>\n",
       "    <tr>\n",
       "      <th id=\"T_5c310_level0_row5\" class=\"row_heading level0 row5\" >526325 ; </th>\n",
       "      <td id=\"T_5c310_row5_col0\" class=\"data row5 col0\" >0</td>\n",
       "    </tr>\n",
       "    <tr>\n",
       "      <th id=\"T_5c310_level0_row6\" class=\"row_heading level0 row6\" >535091 ; </th>\n",
       "      <td id=\"T_5c310_row6_col0\" class=\"data row6 col0\" >1</td>\n",
       "    </tr>\n",
       "    <tr>\n",
       "      <th id=\"T_5c310_level0_row7\" class=\"row_heading level0 row7\" >543857 ; </th>\n",
       "      <td id=\"T_5c310_row7_col0\" class=\"data row7 col0\" >0</td>\n",
       "    </tr>\n",
       "    <tr>\n",
       "      <th id=\"T_5c310_level0_row8\" class=\"row_heading level0 row8\" >552623 ; </th>\n",
       "      <td id=\"T_5c310_row8_col0\" class=\"data row8 col0\" >0</td>\n",
       "    </tr>\n",
       "    <tr>\n",
       "      <th id=\"T_5c310_level0_row9\" class=\"row_heading level0 row9\" >561389 ; </th>\n",
       "      <td id=\"T_5c310_row9_col0\" class=\"data row9 col0\" >0</td>\n",
       "    </tr>\n",
       "    <tr>\n",
       "      <th id=\"T_5c310_level0_row10\" class=\"row_heading level0 row10\" >570155 ; </th>\n",
       "      <td id=\"T_5c310_row10_col0\" class=\"data row10 col0\" >1</td>\n",
       "    </tr>\n",
       "    <tr>\n",
       "      <th id=\"T_5c310_level0_row11\" class=\"row_heading level0 row11\" >578921 ; </th>\n",
       "      <td id=\"T_5c310_row11_col0\" class=\"data row11 col0\" >-9</td>\n",
       "    </tr>\n",
       "    <tr>\n",
       "      <th id=\"T_5c310_level0_row12\" class=\"row_heading level0 row12\" >587687 ; </th>\n",
       "      <td id=\"T_5c310_row12_col0\" class=\"data row12 col0\" >-180</td>\n",
       "    </tr>\n",
       "  </tbody>\n",
       "</table>\n"
      ],
      "text/plain": [
       "<pandas.io.formats.style.Styler at 0x7f5f589063a0>"
      ]
     },
     "execution_count": 26,
     "metadata": {},
     "output_type": "execute_result"
    }
   ],
   "source": [
    "B.astype(int).style.background_gradient(axis=None)"
   ]
  },
  {
   "cell_type": "code",
   "execution_count": 27,
   "id": "069e9f3d-58d7-41d5-8ee1-d82ca096d51a",
   "metadata": {},
   "outputs": [],
   "source": [
    "#csv export of the recomputed table\n",
    "B=Test_recomp.to_pandas()\n",
    "compression_opts = dict(method='zip',archive_name='Mean syzygy mean arg lat years conjonction.csv')\n",
    "B.to_csv('Mean syzygy mean arg lat years conjonction.zip', index=False, compression=compression_opts)"
   ]
  },
  {
   "cell_type": "code",
   "execution_count": null,
   "id": "b0992c3a-cf77-495f-9742-dd778cdbfa0c",
   "metadata": {},
   "outputs": [],
   "source": []
  }
 ],
 "metadata": {
  "kernelspec": {
   "display_name": "Python 3 (ipykernel)",
   "language": "python",
   "name": "python3"
  },
  "language_info": {
   "codemirror_mode": {
    "name": "ipython",
    "version": 3
   },
   "file_extension": ".py",
   "mimetype": "text/x-python",
   "name": "python",
   "nbconvert_exporter": "python",
   "pygments_lexer": "ipython3",
   "version": "3.9.7"
  }
 },
 "nbformat": 4,
 "nbformat_minor": 5
}
