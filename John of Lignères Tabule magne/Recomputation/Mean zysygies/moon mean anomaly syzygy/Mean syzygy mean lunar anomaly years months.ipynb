{
 "cells": [
  {
   "cell_type": "code",
   "execution_count": 1,
   "id": "79bb89ba-1661-43db-ba2f-fd7bfa53be34",
   "metadata": {},
   "outputs": [],
   "source": [
    "#Initial environement of computations\n",
    "\n",
    "\n",
    "import matplotlib.pyplot as plt\n",
    "import numpy as np\n",
    "from kanon.calendars import Calendar, Date\n",
    "from kanon.calendars.calendars import float_to_hm, hm_to_float\n",
    "from kanon.tables import HTable\n",
    "from kanon.units import Sexagesimal, Historical\n",
    "from kanon.units.precision import set_precision, TruncatureMode, PrecisionMode\n",
    "import astropy.units as u\n",
    "\n",
    "\n",
    "from kanon.tables.htable_reader import (\n",
    "    DISHAS_REQUEST_URL,\n",
    "    read_historical,\n",
    "    read_sexag_array,\n",
    "    read_intsexag_array,\n",
    ")\n",
    "from kanon.tables import HTable\n",
    "import requests\n",
    "\n",
    "from kanon.units import Sexagesimal, Historical, IntegerAndSexagesimal, Temporal\n",
    "from kanon.calendars import*\n",
    "\n",
    "Cal=julian_ad = Calendar.registry[\"Julian A.D.\"]\n",
    "\n",
    "number_reader = {\n",
    "    \"sexagesimal\": read_sexag_array,\n",
    "    \"floating sexagesimal\": read_sexag_array,\n",
    "    \"integer and sexagesimal\": read_intsexag_array,\n",
    "    \"historical\": read_historical,\n",
    "}"
   ]
  },
  {
   "cell_type": "code",
   "execution_count": 2,
   "id": "1ee1c881-68a0-4d45-b85a-89ae739719f8",
   "metadata": {},
   "outputs": [
    {
     "data": {
      "text/html": [
       "<div><i>HTable length=12</i>\n",
       "<table id=\"table140693369863088\" class=\"table-striped table-bordered table-condensed\">\n",
       "<thead><tr><th>Months</th><th>Entries</th></tr></thead>\n",
       "<thead><tr><th>IntegerAndSexagesimal</th><th>Historical</th></tr></thead>\n",
       "<tr><td>31 ;</td><td>25 ; 49,01</td></tr>\n",
       "<tr><td>59 ;</td><td>01s 21 ; 38,01</td></tr>\n",
       "<tr><td>90 ;</td><td>02s 17 ; 27,02</td></tr>\n",
       "<tr><td>120 ;</td><td>03s 13 ; 16,02</td></tr>\n",
       "<tr><td>151 ;</td><td>04s 09 ; 05,03</td></tr>\n",
       "<tr><td>181 ;</td><td>05s 04 ; 54,03</td></tr>\n",
       "<tr><td>212 ;</td><td>06s 00 ; 43,04</td></tr>\n",
       "<tr><td>243 ;</td><td>06s 26 ; 32,05</td></tr>\n",
       "<tr><td>273 ;</td><td>07s 22 ; 21,05</td></tr>\n",
       "<tr><td>304 ;</td><td>08s 18 ; 10,06</td></tr>\n",
       "<tr><td>334 ;</td><td>09s 13 ; 59,06</td></tr>\n",
       "<tr><td>365 ;</td><td>10s 09 ; 48,07</td></tr>\n",
       "</table></div>"
      ],
      "text/plain": [
       "<HTable length=12>\n",
       "        Months           Entries    \n",
       "IntegerAndSexagesimal   Historical  \n",
       "--------------------- --------------\n",
       "                31 ;      25 ; 49,01\n",
       "                59 ;  01s 21 ; 38,01\n",
       "                90 ;  02s 17 ; 27,02\n",
       "               120 ;  03s 13 ; 16,02\n",
       "               151 ;  04s 09 ; 05,03\n",
       "               181 ;  05s 04 ; 54,03\n",
       "               212 ;  06s 00 ; 43,04\n",
       "               243 ;  06s 26 ; 32,05\n",
       "               273 ;  07s 22 ; 21,05\n",
       "               304 ;  08s 18 ; 10,06\n",
       "               334 ;  09s 13 ; 59,06\n",
       "               365 ;  10s 09 ; 48,07"
      ]
     },
     "execution_count": 2,
     "metadata": {},
     "output_type": "execute_result"
    }
   ],
   "source": [
    "#Initial table set\n",
    "\n",
    "# Historical target table\n",
    "Hist_table=HTable.read(583, with_units=False)\n",
    "Hist_table\n"
   ]
  },
  {
   "cell_type": "code",
   "execution_count": 3,
   "id": "49d15e2d-03a8-4d82-8df2-ad36d5faaf67",
   "metadata": {},
   "outputs": [],
   "source": [
    "# Formating and initialising the Test tables\n",
    "\n",
    "Test_recomp=Hist_table.copy()\n",
    "Delta_recomp=Hist_table.copy()\n",
    "for i in range(12):\n",
    "    Test_recomp[i][1]=Historical(Sexagesimal('0;0,0'),2)\n",
    "    Delta_recomp[i][1]=Historical(Sexagesimal('0;0,0'),2)"
   ]
  },
  {
   "cell_type": "code",
   "execution_count": 4,
   "id": "06847150-d4e8-4024-98be-cf46395fbc6d",
   "metadata": {},
   "outputs": [
    {
     "data": {
      "text/html": [
       "<div><i>HTable length=12</i>\n",
       "<table id=\"table140693368819328\" class=\"table-striped table-bordered table-condensed\">\n",
       "<thead><tr><th>Months</th><th>Entries</th></tr></thead>\n",
       "<thead><tr><th>IntegerAndSexagesimal</th><th>Historical</th></tr></thead>\n",
       "<tr><td>31 ;</td><td>25 ; 49,01</td></tr>\n",
       "<tr><td>59 ;</td><td>01s 21 ; 38,01</td></tr>\n",
       "<tr><td>90 ;</td><td>02s 17 ; 27,02</td></tr>\n",
       "<tr><td>120 ;</td><td>03s 13 ; 16,02</td></tr>\n",
       "<tr><td>151 ;</td><td>04s 09 ; 05,03</td></tr>\n",
       "<tr><td>181 ;</td><td>05s 04 ; 54,03</td></tr>\n",
       "<tr><td>212 ;</td><td>06s 00 ; 43,04</td></tr>\n",
       "<tr><td>243 ;</td><td>06s 26 ; 32,05</td></tr>\n",
       "<tr><td>273 ;</td><td>07s 22 ; 21,05</td></tr>\n",
       "<tr><td>304 ;</td><td>08s 18 ; 10,06</td></tr>\n",
       "<tr><td>334 ;</td><td>09s 13 ; 59,06</td></tr>\n",
       "<tr><td>365 ;</td><td>10s 09 ; 48,07</td></tr>\n",
       "</table></div>"
      ],
      "text/plain": [
       "<HTable length=12>\n",
       "        Months           Entries    \n",
       "IntegerAndSexagesimal   Historical  \n",
       "--------------------- --------------\n",
       "                31 ;      25 ; 49,01\n",
       "                59 ;  01s 21 ; 38,01\n",
       "                90 ;  02s 17 ; 27,02\n",
       "               120 ;  03s 13 ; 16,02\n",
       "               151 ;  04s 09 ; 05,03\n",
       "               181 ;  05s 04 ; 54,03\n",
       "               212 ;  06s 00 ; 43,04\n",
       "               243 ;  06s 26 ; 32,05\n",
       "               273 ;  07s 22 ; 21,05\n",
       "               304 ;  08s 18 ; 10,06\n",
       "               334 ;  09s 13 ; 59,06\n",
       "               365 ;  10s 09 ; 48,07"
      ]
     },
     "execution_count": 4,
     "metadata": {},
     "output_type": "execute_result"
    }
   ],
   "source": [
    "#mean motion parameter from the Parisian Alfonsine Tables\n",
    "daily_mean_elong=Historical(Sexagesimal(\"12;11,26,41,37,51,50,39\"),8)\n",
    "daily_mean_moon_anom=Historical(Sexagesimal(\"13;3,53,57,30,21,4,13\"),7)\n",
    "REVO=Historical(Sexagesimal(\"6,0;0,0\"),8)\n",
    "\n",
    "#length of the synodic month\n",
    "synodic_month=REVO/daily_mean_elong\n",
    "synodic_month=Temporal(synodic_month,7)\n",
    "synodic_month=synodic_month.decimal\n",
    "synodic_month=float(synodic_month)\n",
    "\n",
    "\n",
    "for i in range(12):\n",
    "    with set_precision(tmode=TruncatureMode.TRUNC, pmode=4):\n",
    "\n",
    "        # Computing the mean sun and mean moon for a given number of synodic years\n",
    "        months=i+1\n",
    "        mean_moon_anom=(months*synodic_month*daily_mean_moon_anom)%REVO\n",
    "                       \n",
    "        #filling the Test and Delta tables with the final precision\n",
    "        with set_precision(tmode=TruncatureMode.ROUND, pmode=2):\n",
    "            Test_recomp[i][1]=1*mean_moon_anom\n",
    "            Delta_recomp[i][1]=60*60*(Hist_table[i][1]-Test_recomp[i][1])\n",
    "Test_recomp"
   ]
  },
  {
   "cell_type": "code",
   "execution_count": 5,
   "id": "c7f93d70-cc69-43d5-b4a5-f7691f05a7ee",
   "metadata": {},
   "outputs": [
    {
     "data": {
      "text/plain": [
       "(0.0, nan)"
      ]
     },
     "execution_count": 5,
     "metadata": {},
     "output_type": "execute_result"
    }
   ],
   "source": [
    "# residuals visualisation and statistical summaries 1\n",
    "B=Delta_recomp.to_pandas()\n",
    "(B.mean().mean(), B.std().std())"
   ]
  },
  {
   "cell_type": "code",
   "execution_count": 6,
   "id": "d91c8188-1943-4c3f-bbda-f904494a755e",
   "metadata": {},
   "outputs": [
    {
     "data": {
      "text/html": [
       "<style type=\"text/css\">\n",
       "#T_cff13_row0_col0, #T_cff13_row1_col0, #T_cff13_row2_col0, #T_cff13_row3_col0, #T_cff13_row4_col0, #T_cff13_row5_col0, #T_cff13_row6_col0, #T_cff13_row7_col0, #T_cff13_row8_col0, #T_cff13_row9_col0, #T_cff13_row10_col0, #T_cff13_row11_col0 {\n",
       "  background-color: #fff7fb;\n",
       "  color: #000000;\n",
       "}\n",
       "</style>\n",
       "<table id=\"T_cff13\">\n",
       "  <thead>\n",
       "    <tr>\n",
       "      <th class=\"blank level0\" >&nbsp;</th>\n",
       "      <th id=\"T_cff13_level0_col0\" class=\"col_heading level0 col0\" >Entries</th>\n",
       "    </tr>\n",
       "    <tr>\n",
       "      <th class=\"index_name level0\" >Months</th>\n",
       "      <th class=\"blank col0\" >&nbsp;</th>\n",
       "    </tr>\n",
       "  </thead>\n",
       "  <tbody>\n",
       "    <tr>\n",
       "      <th id=\"T_cff13_level0_row0\" class=\"row_heading level0 row0\" >31 ; </th>\n",
       "      <td id=\"T_cff13_row0_col0\" class=\"data row0 col0\" >0</td>\n",
       "    </tr>\n",
       "    <tr>\n",
       "      <th id=\"T_cff13_level0_row1\" class=\"row_heading level0 row1\" >59 ; </th>\n",
       "      <td id=\"T_cff13_row1_col0\" class=\"data row1 col0\" >0</td>\n",
       "    </tr>\n",
       "    <tr>\n",
       "      <th id=\"T_cff13_level0_row2\" class=\"row_heading level0 row2\" >90 ; </th>\n",
       "      <td id=\"T_cff13_row2_col0\" class=\"data row2 col0\" >0</td>\n",
       "    </tr>\n",
       "    <tr>\n",
       "      <th id=\"T_cff13_level0_row3\" class=\"row_heading level0 row3\" >120 ; </th>\n",
       "      <td id=\"T_cff13_row3_col0\" class=\"data row3 col0\" >0</td>\n",
       "    </tr>\n",
       "    <tr>\n",
       "      <th id=\"T_cff13_level0_row4\" class=\"row_heading level0 row4\" >151 ; </th>\n",
       "      <td id=\"T_cff13_row4_col0\" class=\"data row4 col0\" >0</td>\n",
       "    </tr>\n",
       "    <tr>\n",
       "      <th id=\"T_cff13_level0_row5\" class=\"row_heading level0 row5\" >181 ; </th>\n",
       "      <td id=\"T_cff13_row5_col0\" class=\"data row5 col0\" >0</td>\n",
       "    </tr>\n",
       "    <tr>\n",
       "      <th id=\"T_cff13_level0_row6\" class=\"row_heading level0 row6\" >212 ; </th>\n",
       "      <td id=\"T_cff13_row6_col0\" class=\"data row6 col0\" >0</td>\n",
       "    </tr>\n",
       "    <tr>\n",
       "      <th id=\"T_cff13_level0_row7\" class=\"row_heading level0 row7\" >243 ; </th>\n",
       "      <td id=\"T_cff13_row7_col0\" class=\"data row7 col0\" >0</td>\n",
       "    </tr>\n",
       "    <tr>\n",
       "      <th id=\"T_cff13_level0_row8\" class=\"row_heading level0 row8\" >273 ; </th>\n",
       "      <td id=\"T_cff13_row8_col0\" class=\"data row8 col0\" >0</td>\n",
       "    </tr>\n",
       "    <tr>\n",
       "      <th id=\"T_cff13_level0_row9\" class=\"row_heading level0 row9\" >304 ; </th>\n",
       "      <td id=\"T_cff13_row9_col0\" class=\"data row9 col0\" >0</td>\n",
       "    </tr>\n",
       "    <tr>\n",
       "      <th id=\"T_cff13_level0_row10\" class=\"row_heading level0 row10\" >334 ; </th>\n",
       "      <td id=\"T_cff13_row10_col0\" class=\"data row10 col0\" >0</td>\n",
       "    </tr>\n",
       "    <tr>\n",
       "      <th id=\"T_cff13_level0_row11\" class=\"row_heading level0 row11\" >365 ; </th>\n",
       "      <td id=\"T_cff13_row11_col0\" class=\"data row11 col0\" >0</td>\n",
       "    </tr>\n",
       "  </tbody>\n",
       "</table>\n"
      ],
      "text/plain": [
       "<pandas.io.formats.style.Styler at 0x7ff5ba4806a0>"
      ]
     },
     "execution_count": 6,
     "metadata": {},
     "output_type": "execute_result"
    }
   ],
   "source": [
    "B.astype(int).style.background_gradient(axis=None)"
   ]
  },
  {
   "cell_type": "code",
   "execution_count": 7,
   "id": "069e9f3d-58d7-41d5-8ee1-d82ca096d51a",
   "metadata": {},
   "outputs": [],
   "source": [
    "#csv export of the recomputed table\n",
    "B=Test_recomp.to_pandas()\n",
    "compression_opts = dict(method='zip',archive_name='Mean syzygies mean moon months.csv')\n",
    "B.to_csv('Mean syzygies mean moon months.zip', index=False, compression=compression_opts)"
   ]
  },
  {
   "cell_type": "code",
   "execution_count": null,
   "id": "10c6ee0c-9add-4de7-97e6-4107db2bc3b9",
   "metadata": {},
   "outputs": [],
   "source": []
  }
 ],
 "metadata": {
  "kernelspec": {
   "display_name": "Python 3 (ipykernel)",
   "language": "python",
   "name": "python3"
  },
  "language_info": {
   "codemirror_mode": {
    "name": "ipython",
    "version": 3
   },
   "file_extension": ".py",
   "mimetype": "text/x-python",
   "name": "python",
   "nbconvert_exporter": "python",
   "pygments_lexer": "ipython3",
   "version": "3.9.7"
  }
 },
 "nbformat": 4,
 "nbformat_minor": 5
}
