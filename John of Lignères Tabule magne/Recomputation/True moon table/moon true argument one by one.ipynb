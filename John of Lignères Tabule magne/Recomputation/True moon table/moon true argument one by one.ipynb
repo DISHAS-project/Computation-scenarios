{
 "cells": [
  {
   "cell_type": "code",
   "execution_count": 31,
   "id": "567c6ab9-7927-490b-9e92-b2c282252721",
   "metadata": {},
   "outputs": [],
   "source": [
    "#Initial environement of computations\n",
    "\n",
    "import matplotlib.pyplot as plt\n",
    "import numpy as np\n",
    "from kanon.calendars import Calendar, Date\n",
    "from kanon.calendars.calendars import float_to_hm, hm_to_float\n",
    "from kanon.tables import HTable\n",
    "from kanon.units import Sexagesimal, Historical\n",
    "from kanon.units.precision import set_precision, TruncatureMode, PrecisionMode\n",
    "import astropy.units as u\n",
    "\n",
    "\n",
    "from kanon.tables.htable_reader import (\n",
    "    DISHAS_REQUEST_URL,\n",
    "    read_historical,\n",
    "    read_sexag_array,\n",
    "    read_intsexag_array,\n",
    ")\n",
    "from kanon.tables import HTable\n",
    "import requests\n",
    "\n",
    "\n",
    "number_reader = {\n",
    "    \"sexagesimal\": read_sexag_array,\n",
    "    \"floating sexagesimal\": read_sexag_array,\n",
    "    \"integer and sexagesimal\": read_intsexag_array,\n",
    "    \"historical\": read_historical,\n",
    "}"
   ]
  },
  {
   "cell_type": "code",
   "execution_count": 32,
   "id": "3110e5f7-1059-449b-86c0-b08ba9a8ffa6",
   "metadata": {},
   "outputs": [],
   "source": [
    "#Initial table set\n",
    "\n",
    "#Moon equation form the Parisian Alfonsines Tables\n",
    "Equation_center=HTable.read(181,format='dishas')\n",
    "Equation_anomaly=HTable.read(182,format='dishas')\n",
    "Div_diam=HTable.read(240,format='dishas')\n",
    "Min_prop=HTable.read(239,format='dishas')\n"
   ]
  },
  {
   "cell_type": "code",
   "execution_count": 33,
   "id": "6ceda9ed-d20e-4247-96a5-2d2b075a4977",
   "metadata": {},
   "outputs": [
    {
     "data": {
      "text/plain": [
       "(<BasedQuantity 06,00 ; 00,00 deg>,\n",
       " 7,\n",
       " <BasedQuantity 13 ; 10,35,01,15,11,04,35 deg>,\n",
       " <BasedQuantity 12 ; 11,26,41,37,51,50,39 deg>,\n",
       " <BasedQuantity 13 ; 03,53,57,30,21,04,13 deg>)"
      ]
     },
     "execution_count": 33,
     "metadata": {},
     "output_type": "execute_result"
    }
   ],
   "source": [
    "# Initial values\n",
    "\n",
    "# Intial arguments of the table: moon argument at syzygy and number of days since last syzygy\n",
    "REVO=Sexagesimal(\"6,0;0,0\")*u.degree\n",
    "moon_argument= Sexagesimal(\"6,0;0,0\")*u.degree\n",
    "moon_age=7\n",
    "\n",
    "# moon mean motion parameter from the Parisian Alfonsine tables\n",
    "daily_mean_center=Sexagesimal(\"13;10,35,1,15,11,4,35\")*u.degree\n",
    "daily_mean_arg=Sexagesimal(\"13;3,53,57,30,21,4,13\")*u.degree\n",
    "daily_mean_elong=Sexagesimal(\"12;11,26,41,37,51,50,39\")*u.degree\n",
    "\n",
    "\n",
    "(moon_argument, moon_age, daily_mean_center, daily_mean_elong, daily_mean_arg)"
   ]
  },
  {
   "cell_type": "code",
   "execution_count": 34,
   "id": "7bd3b19b-afd0-46e3-a4d5-00fd54156ea6",
   "metadata": {},
   "outputs": [
    {
     "data": {
      "text/plain": [
       "(<BasedQuantity 03,48 ; 45,05 deg>,\n",
       " <BasedQuantity 03,11 ; 02,01 deg>,\n",
       " <BasedQuantity 04,36 ; 48,35 deg>)"
      ]
     },
     "execution_count": 34,
     "metadata": {},
     "output_type": "execute_result"
    }
   ],
   "source": [
    "# computation of the initial mean center and mean argument\n",
    "\n",
    "with set_precision(tmode=TruncatureMode.TRUNC, pmode=3):\n",
    "    mean_elong=2*moon_age*daily_mean_elong\n",
    "    mean_argument=moon_argument+daily_mean_arg*moon_age\n",
    "    mean_moon_corr=moon_age*daily_mean_center\n",
    "\n",
    "(mean_elong, mean_argument, mean_moon_corr)"
   ]
  },
  {
   "cell_type": "code",
   "execution_count": 35,
   "id": "3843becd-ee40-47a7-8114-2596bf8f9c3d",
   "metadata": {},
   "outputs": [
    {
     "data": {
      "text/plain": [
       "(<BasedQuantity -12 ; 21,15,35 deg>, <BasedQuantity 47 ; 14,55,00 deg>)"
      ]
     },
     "execution_count": 35,
     "metadata": {},
     "output_type": "execute_result"
    }
   ],
   "source": [
    "# computation of the equation of center and min prop\n",
    "\n",
    "with set_precision(tmode=TruncatureMode.TRUNC, pmode=3):\n",
    "    eq_center=Equation_center.get(mean_elong%REVO)\n",
    "    min_prop1=Min_prop.get(mean_elong%REVO)\n",
    "\n",
    "(eq_center, min_prop1)"
   ]
  },
  {
   "cell_type": "code",
   "execution_count": 36,
   "id": "ed2a3cc5-707d-4ea3-81d7-6b52a65c5965",
   "metadata": {},
   "outputs": [
    {
     "data": {
      "text/latex": [
       "$02,58 ; 40,45,25 \\; \\mathrm{{}^{\\circ}}$"
      ],
      "text/plain": [
       "<BasedQuantity 02,58 ; 40,45,25 deg>"
      ]
     },
     "execution_count": 36,
     "metadata": {},
     "output_type": "execute_result"
    }
   ],
   "source": [
    "# Computation of the true argument\n",
    "\n",
    "with set_precision(tmode=TruncatureMode.TRUNC, pmode=3):\n",
    "    true_argument=mean_argument+eq_center   \n",
    "true_argument"
   ]
  },
  {
   "cell_type": "code",
   "execution_count": 37,
   "id": "90b77d26-c33a-4462-b480-b912cfdbec28",
   "metadata": {},
   "outputs": [
    {
     "data": {
      "text/plain": [
       "(<BasedQuantity -00 ; 07,28,25 deg>,\n",
       " <BasedQuantity 00 ; 05,16,59 deg>,\n",
       " <BasedQuantity 0 ; 04,09,37 deg>,\n",
       " <BasedQuantity -00 ; 11,38,02 deg>)"
      ]
     },
     "execution_count": 37,
     "metadata": {},
     "output_type": "execute_result"
    }
   ],
   "source": [
    "# computation of equation of anomaly\n",
    "\n",
    "with set_precision(tmode=TruncatureMode.TRUNC, pmode=3):\n",
    "    eq_anomaly1=Equation_anomaly.get(true_argument%REVO)\n",
    "    div_diam1=Div_diam.get(true_argument%REVO)\n",
    "    min_prop2=min_prop1*div_diam1/(60*u.degree)\n",
    "    \n",
    "#canons instruct to always add min_prop2 but this is not what JoL is doing\n",
    "# he seems to apply to min prop the rule for the global equation  \n",
    "\n",
    "    if eq_anomaly1>0:\n",
    "        eq_anomaly2=eq_anomaly1+min_prop2\n",
    "    else:\n",
    "        eq_anomaly2=eq_anomaly1-min_prop2\n",
    "    \n",
    "(eq_anomaly1, div_diam1, min_prop2, eq_anomaly2)"
   ]
  },
  {
   "cell_type": "code",
   "execution_count": 38,
   "id": "ee1cc910-6995-4727-956d-cab23caea04d",
   "metadata": {},
   "outputs": [
    {
     "data": {
      "text/plain": [
       "('moon_argument', 1r 00s 00 ; 00, 'moon_age', 7, 'moon_corr_fin', 09s 06 ; 37)"
      ]
     },
     "execution_count": 38,
     "metadata": {},
     "output_type": "execute_result"
    }
   ],
   "source": [
    "# computation of the final correction and transfomation of the results to historical format\n",
    "\n",
    "with set_precision(tmode=TruncatureMode.ROUND, pmode=1):\n",
    "    moon_corr_fin=mean_moon_corr+eq_anomaly2\n",
    "    moon_argument=Historical(moon_argument.value,1)\n",
    "    moon_corr_fin=Historical(moon_corr_fin.value,1)\n",
    "\n",
    "('moon_argument', moon_argument, 'moon_age', moon_age, 'moon_corr_fin', moon_corr_fin)"
   ]
  },
  {
   "cell_type": "code",
   "execution_count": null,
   "id": "49e65725-c824-46f5-882a-2df61a2f2f9f",
   "metadata": {},
   "outputs": [],
   "source": []
  },
  {
   "cell_type": "code",
   "execution_count": null,
   "id": "148055bd-4676-4d25-bb31-6c45163f59c3",
   "metadata": {},
   "outputs": [],
   "source": []
  }
 ],
 "metadata": {
  "kernelspec": {
   "display_name": "Python 3 (ipykernel)",
   "language": "python",
   "name": "python3"
  },
  "language_info": {
   "codemirror_mode": {
    "name": "ipython",
    "version": 3
   },
   "file_extension": ".py",
   "mimetype": "text/x-python",
   "name": "python",
   "nbconvert_exporter": "python",
   "pygments_lexer": "ipython3",
   "version": "3.9.7"
  }
 },
 "nbformat": 4,
 "nbformat_minor": 5
}
