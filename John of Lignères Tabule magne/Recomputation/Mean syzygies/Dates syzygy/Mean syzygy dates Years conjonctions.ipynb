{
 "cells": [
  {
   "cell_type": "code",
   "execution_count": 1,
   "id": "e295bf8e-9b49-4d37-8459-7d9564671719",
   "metadata": {},
   "outputs": [],
   "source": [
    "#Initial environement of computations\n",
    "\n",
    "\n",
    "import matplotlib.pyplot as plt\n",
    "import numpy as np\n",
    "from kanon.calendars import Calendar, Date\n",
    "from kanon.calendars.calendars import float_to_hm, hm_to_float\n",
    "from kanon.tables import HTable\n",
    "from kanon.units import Sexagesimal, Historical\n",
    "from kanon.units.precision import set_precision, TruncatureMode, PrecisionMode\n",
    "import astropy.units as u\n",
    "\n",
    "\n",
    "from kanon.tables.htable_reader import (\n",
    "    DISHAS_REQUEST_URL,\n",
    "    read_historical,\n",
    "    read_sexag_array,\n",
    "    read_intsexag_array,\n",
    ")\n",
    "from kanon.tables import HTable\n",
    "import requests\n",
    "\n",
    "from kanon.units import Sexagesimal, Historical, IntegerAndSexagesimal, Temporal\n",
    "from kanon.calendars import*\n",
    "\n",
    "Cal=julian_ad = Calendar.registry[\"Julian A.D.\"]\n",
    "\n",
    "number_reader = {\n",
    "    \"sexagesimal\": read_sexag_array,\n",
    "    \"floating sexagesimal\": read_sexag_array,\n",
    "    \"integer and sexagesimal\": read_intsexag_array,\n",
    "    \"historical\": read_historical,\n",
    "}"
   ]
  },
  {
   "cell_type": "code",
   "execution_count": 2,
   "id": "07a376ba-6f88-4301-ab4a-feabbcd77e50",
   "metadata": {},
   "outputs": [
    {
     "data": {
      "text/html": [
       "<div><i>HTable length=13</i>\n",
       "<table id=\"table140659708000240\" class=\"table-striped table-bordered table-condensed\">\n",
       "<thead><tr><th>Years, conjonction</th><th>Entries</th></tr></thead>\n",
       "<thead><tr><th>IntegerAndSexagesimal</th><th>Temporal</th></tr></thead>\n",
       "<tr><td>482495 ;</td><td>28 ; 18,02,06</td></tr>\n",
       "<tr><td>491261 ;</td><td>3 ; 19,21,09</td></tr>\n",
       "<tr><td>500027 ;</td><td>1 ; 09,24,15</td></tr>\n",
       "<tr><td>508793 ;</td><td>12 ; 23,27,21</td></tr>\n",
       "<tr><td>517559 ;</td><td>17 ; 13,30,26</td></tr>\n",
       "<tr><td>526325 ;</td><td>22 ; 03,33,32</td></tr>\n",
       "<tr><td>535091 ;</td><td>26 ; 17,36,38</td></tr>\n",
       "<tr><td>543857 ;</td><td>1 ; 18,55,41</td></tr>\n",
       "<tr><td>552623 ;</td><td>6 ; 08,58,46</td></tr>\n",
       "<tr><td>561389 ;</td><td>10 ; 23,01,52</td></tr>\n",
       "<tr><td>570155 ;</td><td>15 ; 13,04,58</td></tr>\n",
       "<tr><td>578921 ;</td><td>20 ; 04,08,04</td></tr>\n",
       "<tr><td>587687 ;</td><td>24 ; 17,11,09</td></tr>\n",
       "</table></div>"
      ],
      "text/plain": [
       "<HTable length=13>\n",
       "  Years, conjonction     Entries   \n",
       "IntegerAndSexagesimal    Temporal  \n",
       "--------------------- -------------\n",
       "            482495 ;  28 ; 18,02,06\n",
       "            491261 ;   3 ; 19,21,09\n",
       "            500027 ;   1 ; 09,24,15\n",
       "            508793 ;  12 ; 23,27,21\n",
       "            517559 ;  17 ; 13,30,26\n",
       "            526325 ;  22 ; 03,33,32\n",
       "            535091 ;  26 ; 17,36,38\n",
       "            543857 ;   1 ; 18,55,41\n",
       "            552623 ;   6 ; 08,58,46\n",
       "            561389 ;  10 ; 23,01,52\n",
       "            570155 ;  15 ; 13,04,58\n",
       "            578921 ;  20 ; 04,08,04\n",
       "            587687 ;  24 ; 17,11,09"
      ]
     },
     "execution_count": 2,
     "metadata": {},
     "output_type": "execute_result"
    }
   ],
   "source": [
    "#Initial table set\n",
    "\n",
    "# Historical target table\n",
    "Hist_table=HTable.read(585, with_units=False)\n",
    "Hist_table\n"
   ]
  },
  {
   "cell_type": "code",
   "execution_count": 3,
   "id": "2d841f83-29fc-47d7-af5f-56dd6098423a",
   "metadata": {},
   "outputs": [],
   "source": [
    "# Formating and initialising the Test tables\n",
    "\n",
    "Test_recomp=Hist_table.copy()\n",
    "Delta_recomp=Hist_table.copy()\n",
    "for i in range(13):\n",
    "    Test_recomp[i][1]=Temporal('0;0,0,0')\n",
    "    Delta_recomp[i][1]=Temporal('0;0,0,0')\n"
   ]
  },
  {
   "cell_type": "code",
   "execution_count": 11,
   "id": "fbc4f0a4-c3c0-44c5-b0d9-8271155a7ec5",
   "metadata": {},
   "outputs": [
    {
     "data": {
      "text/html": [
       "<div><i>HTable length=13</i>\n",
       "<table id=\"table140654853467440\" class=\"table-striped table-bordered table-condensed\">\n",
       "<thead><tr><th>Years, conjonction</th><th>Entries</th></tr></thead>\n",
       "<thead><tr><th>IntegerAndSexagesimal</th><th>Temporal</th></tr></thead>\n",
       "<tr><td>482495 ;</td><td>28 ; 18,02,06</td></tr>\n",
       "<tr><td>491261 ;</td><td>3 ; 19,21,09</td></tr>\n",
       "<tr><td>500027 ;</td><td>8 ; 09,24,15</td></tr>\n",
       "<tr><td>508793 ;</td><td>12 ; 23,27,21</td></tr>\n",
       "<tr><td>517559 ;</td><td>17 ; 13,30,26</td></tr>\n",
       "<tr><td>526325 ;</td><td>22 ; 03,33,32</td></tr>\n",
       "<tr><td>535091 ;</td><td>26 ; 17,36,38</td></tr>\n",
       "<tr><td>543857 ;</td><td>1 ; 18,55,41</td></tr>\n",
       "<tr><td>552623 ;</td><td>6 ; 08,58,46</td></tr>\n",
       "<tr><td>561389 ;</td><td>10 ; 23,01,52</td></tr>\n",
       "<tr><td>570155 ;</td><td>15 ; 13,04,58</td></tr>\n",
       "<tr><td>578921 ;</td><td>20 ; 03,08,04</td></tr>\n",
       "<tr><td>587687 ;</td><td>24 ; 17,11,09</td></tr>\n",
       "</table></div>"
      ],
      "text/plain": [
       "<HTable length=13>\n",
       "  Years, conjonction     Entries   \n",
       "IntegerAndSexagesimal    Temporal  \n",
       "--------------------- -------------\n",
       "            482495 ;  28 ; 18,02,06\n",
       "            491261 ;   3 ; 19,21,09\n",
       "            500027 ;   8 ; 09,24,15\n",
       "            508793 ;  12 ; 23,27,21\n",
       "            517559 ;  17 ; 13,30,26\n",
       "            526325 ;  22 ; 03,33,32\n",
       "            535091 ;  26 ; 17,36,38\n",
       "            543857 ;   1 ; 18,55,41\n",
       "            552623 ;   6 ; 08,58,46\n",
       "            561389 ;  10 ; 23,01,52\n",
       "            570155 ;  15 ; 13,04,58\n",
       "            578921 ;  20 ; 03,08,04\n",
       "            587687 ;  24 ; 17,11,09"
      ]
     },
     "execution_count": 11,
     "metadata": {},
     "output_type": "execute_result"
    }
   ],
   "source": [
    "# mean motion parameter from the Parisian Alfonsine tables\n",
    "daily_mean=Historical(Sexagesimal(\"12;11,26,41,37,51,50,39\"),7)\n",
    "radice_elong=Historical(Sexagesimal(\"3,24;25,49,46,11\"),4)\n",
    "delta_Paris_Toledo=Temporal(\"0;0,48\")\n",
    "REVO=Historical(Sexagesimal(\"6,0;0,0\"),7)\n",
    "epoch= Date(Cal, (1, 1, 1))\n",
    "\n",
    "for i in range(13):\n",
    "    with set_precision(tmode=TruncatureMode.TRUNC, pmode=6):\n",
    "\n",
    "        #conversion of date to DN from calendar epoch\n",
    "        days=int(Hist_table[i][0])-365\n",
    "\n",
    "        #computation of the elongation at date\n",
    "        elong=(days*daily_mean+radice_elong)%REVO\n",
    "\n",
    "        #computation of time to conjonction including delta between Paris and Toledo\n",
    "        time=(REVO-elong)/daily_mean\n",
    "        time=Temporal(time,7)+delta_Paris_Toledo\n",
    "        \n",
    "        \n",
    "        #filling the Test and Delta tables with the final precision\n",
    "        with set_precision(tmode=TruncatureMode.ROUND, pmode=3):\n",
    "            Test_recomp[i][1]=1*time\n",
    "            Delta_recomp[i][1]=24*60*60*(Hist_table[i][1]-Test_recomp[i][1])\n",
    "Test_recomp"
   ]
  },
  {
   "cell_type": "code",
   "execution_count": 12,
   "id": "e9a0295e-3fc2-4e64-8eab-93324a4ee4b5",
   "metadata": {},
   "outputs": [
    {
     "data": {
      "text/plain": [
       "(-46246.153846153844, nan)"
      ]
     },
     "execution_count": 12,
     "metadata": {},
     "output_type": "execute_result"
    }
   ],
   "source": [
    "# residuals visualisation and statistical summaries 1\n",
    "B=Delta_recomp.to_pandas()\n",
    "(B.mean().mean(), B.std().std())"
   ]
  },
  {
   "cell_type": "code",
   "execution_count": 13,
   "id": "95010bad-e77a-4763-91d7-a484c92b7e58",
   "metadata": {},
   "outputs": [
    {
     "data": {
      "text/html": [
       "<style type=\"text/css\">\n",
       "#T_1f72b_row0_col0, #T_1f72b_row1_col0, #T_1f72b_row3_col0, #T_1f72b_row4_col0, #T_1f72b_row5_col0, #T_1f72b_row6_col0, #T_1f72b_row7_col0, #T_1f72b_row8_col0, #T_1f72b_row9_col0, #T_1f72b_row10_col0, #T_1f72b_row12_col0 {\n",
       "  background-color: #02395a;\n",
       "  color: #f1f1f1;\n",
       "}\n",
       "#T_1f72b_row2_col0 {\n",
       "  background-color: #fff7fb;\n",
       "  color: #000000;\n",
       "}\n",
       "#T_1f72b_row11_col0 {\n",
       "  background-color: #023858;\n",
       "  color: #f1f1f1;\n",
       "}\n",
       "</style>\n",
       "<table id=\"T_1f72b\">\n",
       "  <thead>\n",
       "    <tr>\n",
       "      <th class=\"blank level0\" >&nbsp;</th>\n",
       "      <th id=\"T_1f72b_level0_col0\" class=\"col_heading level0 col0\" >Entries</th>\n",
       "    </tr>\n",
       "    <tr>\n",
       "      <th class=\"index_name level0\" >Years, conjonction</th>\n",
       "      <th class=\"blank col0\" >&nbsp;</th>\n",
       "    </tr>\n",
       "  </thead>\n",
       "  <tbody>\n",
       "    <tr>\n",
       "      <th id=\"T_1f72b_level0_row0\" class=\"row_heading level0 row0\" >482495 ; </th>\n",
       "      <td id=\"T_1f72b_row0_col0\" class=\"data row0 col0\" >0</td>\n",
       "    </tr>\n",
       "    <tr>\n",
       "      <th id=\"T_1f72b_level0_row1\" class=\"row_heading level0 row1\" >491261 ; </th>\n",
       "      <td id=\"T_1f72b_row1_col0\" class=\"data row1 col0\" >0</td>\n",
       "    </tr>\n",
       "    <tr>\n",
       "      <th id=\"T_1f72b_level0_row2\" class=\"row_heading level0 row2\" >500027 ; </th>\n",
       "      <td id=\"T_1f72b_row2_col0\" class=\"data row2 col0\" >-604800</td>\n",
       "    </tr>\n",
       "    <tr>\n",
       "      <th id=\"T_1f72b_level0_row3\" class=\"row_heading level0 row3\" >508793 ; </th>\n",
       "      <td id=\"T_1f72b_row3_col0\" class=\"data row3 col0\" >0</td>\n",
       "    </tr>\n",
       "    <tr>\n",
       "      <th id=\"T_1f72b_level0_row4\" class=\"row_heading level0 row4\" >517559 ; </th>\n",
       "      <td id=\"T_1f72b_row4_col0\" class=\"data row4 col0\" >0</td>\n",
       "    </tr>\n",
       "    <tr>\n",
       "      <th id=\"T_1f72b_level0_row5\" class=\"row_heading level0 row5\" >526325 ; </th>\n",
       "      <td id=\"T_1f72b_row5_col0\" class=\"data row5 col0\" >0</td>\n",
       "    </tr>\n",
       "    <tr>\n",
       "      <th id=\"T_1f72b_level0_row6\" class=\"row_heading level0 row6\" >535091 ; </th>\n",
       "      <td id=\"T_1f72b_row6_col0\" class=\"data row6 col0\" >0</td>\n",
       "    </tr>\n",
       "    <tr>\n",
       "      <th id=\"T_1f72b_level0_row7\" class=\"row_heading level0 row7\" >543857 ; </th>\n",
       "      <td id=\"T_1f72b_row7_col0\" class=\"data row7 col0\" >0</td>\n",
       "    </tr>\n",
       "    <tr>\n",
       "      <th id=\"T_1f72b_level0_row8\" class=\"row_heading level0 row8\" >552623 ; </th>\n",
       "      <td id=\"T_1f72b_row8_col0\" class=\"data row8 col0\" >0</td>\n",
       "    </tr>\n",
       "    <tr>\n",
       "      <th id=\"T_1f72b_level0_row9\" class=\"row_heading level0 row9\" >561389 ; </th>\n",
       "      <td id=\"T_1f72b_row9_col0\" class=\"data row9 col0\" >0</td>\n",
       "    </tr>\n",
       "    <tr>\n",
       "      <th id=\"T_1f72b_level0_row10\" class=\"row_heading level0 row10\" >570155 ; </th>\n",
       "      <td id=\"T_1f72b_row10_col0\" class=\"data row10 col0\" >0</td>\n",
       "    </tr>\n",
       "    <tr>\n",
       "      <th id=\"T_1f72b_level0_row11\" class=\"row_heading level0 row11\" >578921 ; </th>\n",
       "      <td id=\"T_1f72b_row11_col0\" class=\"data row11 col0\" >3600</td>\n",
       "    </tr>\n",
       "    <tr>\n",
       "      <th id=\"T_1f72b_level0_row12\" class=\"row_heading level0 row12\" >587687 ; </th>\n",
       "      <td id=\"T_1f72b_row12_col0\" class=\"data row12 col0\" >0</td>\n",
       "    </tr>\n",
       "  </tbody>\n",
       "</table>\n"
      ],
      "text/plain": [
       "<pandas.io.formats.style.Styler at 0x7fecc27b0bb0>"
      ]
     },
     "execution_count": 13,
     "metadata": {},
     "output_type": "execute_result"
    }
   ],
   "source": [
    "B.astype(int).style.background_gradient(axis=None)"
   ]
  },
  {
   "cell_type": "code",
   "execution_count": 7,
   "id": "99607be0-e292-426e-90c2-04b8443a9a3a",
   "metadata": {},
   "outputs": [],
   "source": [
    "#csv export of the recomputed table\n",
    "B=Test_recomp.to_pandas()\n",
    "compression_opts = dict(method='zip',archive_name='Mean syzygy date years conjonction.csv')\n",
    "B.to_csv('Mean syzygy date years conjonction.zip', index=False, compression=compression_opts)"
   ]
  },
  {
   "cell_type": "code",
   "execution_count": null,
   "id": "a832a472-b7f4-4aa9-9802-50284fed9701",
   "metadata": {},
   "outputs": [],
   "source": []
  }
 ],
 "metadata": {
  "kernelspec": {
   "display_name": "Python 3 (ipykernel)",
   "language": "python",
   "name": "python3"
  },
  "language_info": {
   "codemirror_mode": {
    "name": "ipython",
    "version": 3
   },
   "file_extension": ".py",
   "mimetype": "text/x-python",
   "name": "python",
   "nbconvert_exporter": "python",
   "pygments_lexer": "ipython3",
   "version": "3.9.7"
  }
 },
 "nbformat": 4,
 "nbformat_minor": 5
}
