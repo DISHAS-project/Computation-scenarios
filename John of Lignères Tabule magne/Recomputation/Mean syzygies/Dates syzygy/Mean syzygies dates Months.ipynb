{
 "cells": [
  {
   "cell_type": "code",
   "execution_count": 1,
   "id": "e295bf8e-9b49-4d37-8459-7d9564671719",
   "metadata": {},
   "outputs": [],
   "source": [
    "#Initial environement of computations\n",
    "\n",
    "\n",
    "import matplotlib.pyplot as plt\n",
    "import numpy as np\n",
    "from kanon.calendars import Calendar, Date\n",
    "from kanon.calendars.calendars import float_to_hm, hm_to_float\n",
    "from kanon.tables import HTable\n",
    "from kanon.units import Sexagesimal, Historical\n",
    "from kanon.units.precision import set_precision, TruncatureMode, PrecisionMode\n",
    "import astropy.units as u\n",
    "\n",
    "\n",
    "from kanon.tables.htable_reader import (\n",
    "    DISHAS_REQUEST_URL,\n",
    "    read_historical,\n",
    "    read_sexag_array,\n",
    "    read_intsexag_array,\n",
    ")\n",
    "from kanon.tables import HTable\n",
    "import requests\n",
    "\n",
    "from kanon.units import Sexagesimal, Historical, IntegerAndSexagesimal, Temporal\n",
    "from kanon.calendars import*\n",
    "\n",
    "Cal=julian_ad = Calendar.registry[\"Julian A.D.\"]\n",
    "\n",
    "number_reader = {\n",
    "    \"sexagesimal\": read_sexag_array,\n",
    "    \"floating sexagesimal\": read_sexag_array,\n",
    "    \"integer and sexagesimal\": read_intsexag_array,\n",
    "    \"historical\": read_historical,\n",
    "}"
   ]
  },
  {
   "cell_type": "code",
   "execution_count": 2,
   "id": "07a376ba-6f88-4301-ab4a-feabbcd77e50",
   "metadata": {},
   "outputs": [
    {
     "data": {
      "text/html": [
       "<div><i>HTable length=12</i>\n",
       "<table id=\"table139753729357088\" class=\"table-striped table-bordered table-condensed\">\n",
       "<thead><tr><th>Month</th><th>Entries</th></tr></thead>\n",
       "<thead><tr><th>IntegerAndSexagesimal</th><th>Temporal</th></tr></thead>\n",
       "<tr><td>31 ;</td><td>29 ; 12,44,03</td></tr>\n",
       "<tr><td>59 ;</td><td>59 ; 01,28,06</td></tr>\n",
       "<tr><td>90 ;</td><td>88 ; 14,12,09</td></tr>\n",
       "<tr><td>120 ;</td><td>118 ; 02,56,12</td></tr>\n",
       "<tr><td>151 ;</td><td>147 ; 15,40,15</td></tr>\n",
       "<tr><td>181 ;</td><td>177 ; 04,24,18</td></tr>\n",
       "<tr><td>212 ;</td><td>206 ; 17,08,21</td></tr>\n",
       "<tr><td>243 ;</td><td>236 ; 05,52,24</td></tr>\n",
       "<tr><td>273 ;</td><td>265 ; 18,36,27</td></tr>\n",
       "<tr><td>304 ;</td><td>295 ; 07,20,30</td></tr>\n",
       "<tr><td>334 ;</td><td>324 ; 20,04,34</td></tr>\n",
       "<tr><td>365 ;</td><td>354 ; 08,48,37</td></tr>\n",
       "</table></div>"
      ],
      "text/plain": [
       "<HTable length=12>\n",
       "        Month            Entries    \n",
       "IntegerAndSexagesimal    Temporal   \n",
       "--------------------- --------------\n",
       "                31 ;   29 ; 12,44,03\n",
       "                59 ;   59 ; 01,28,06\n",
       "                90 ;   88 ; 14,12,09\n",
       "               120 ;  118 ; 02,56,12\n",
       "               151 ;  147 ; 15,40,15\n",
       "               181 ;  177 ; 04,24,18\n",
       "               212 ;  206 ; 17,08,21\n",
       "               243 ;  236 ; 05,52,24\n",
       "               273 ;  265 ; 18,36,27\n",
       "               304 ;  295 ; 07,20,30\n",
       "               334 ;  324 ; 20,04,34\n",
       "               365 ;  354 ; 08,48,37"
      ]
     },
     "execution_count": 2,
     "metadata": {},
     "output_type": "execute_result"
    }
   ],
   "source": [
    "#Initial table set\n",
    "\n",
    "# Historical target table\n",
    "Hist_table=HTable.read(588, with_units=False)\n",
    "Hist_table\n"
   ]
  },
  {
   "cell_type": "code",
   "execution_count": 3,
   "id": "2d841f83-29fc-47d7-af5f-56dd6098423a",
   "metadata": {},
   "outputs": [],
   "source": [
    "# Formating and initialising the Test tables\n",
    "\n",
    "Test_recomp=Hist_table.copy()\n",
    "Delta_recomp=Hist_table.copy()\n",
    "for i in range(12):\n",
    "    Test_recomp[i][1]=Temporal('0;0,0,0')\n",
    "    Delta_recomp[i][1]=Temporal('0;0,0,0')"
   ]
  },
  {
   "cell_type": "code",
   "execution_count": 4,
   "id": "fbc4f0a4-c3c0-44c5-b0d9-8271155a7ec5",
   "metadata": {},
   "outputs": [
    {
     "data": {
      "text/html": [
       "<div><i>HTable length=12</i>\n",
       "<table id=\"table139751642082080\" class=\"table-striped table-bordered table-condensed\">\n",
       "<thead><tr><th>Month</th><th>Entries</th></tr></thead>\n",
       "<thead><tr><th>IntegerAndSexagesimal</th><th>Temporal</th></tr></thead>\n",
       "<tr><td>31 ;</td><td>29 ; 12,44,03</td></tr>\n",
       "<tr><td>59 ;</td><td>59 ; 01,28,06</td></tr>\n",
       "<tr><td>90 ;</td><td>88 ; 14,12,09</td></tr>\n",
       "<tr><td>120 ;</td><td>118 ; 02,56,12</td></tr>\n",
       "<tr><td>151 ;</td><td>147 ; 15,40,15</td></tr>\n",
       "<tr><td>181 ;</td><td>177 ; 04,24,18</td></tr>\n",
       "<tr><td>212 ;</td><td>206 ; 17,08,21</td></tr>\n",
       "<tr><td>243 ;</td><td>236 ; 05,52,24</td></tr>\n",
       "<tr><td>273 ;</td><td>265 ; 18,36,27</td></tr>\n",
       "<tr><td>304 ;</td><td>295 ; 07,20,30</td></tr>\n",
       "<tr><td>334 ;</td><td>324 ; 20,04,34</td></tr>\n",
       "<tr><td>365 ;</td><td>354 ; 08,48,37</td></tr>\n",
       "</table></div>"
      ],
      "text/plain": [
       "<HTable length=12>\n",
       "        Month            Entries    \n",
       "IntegerAndSexagesimal    Temporal   \n",
       "--------------------- --------------\n",
       "                31 ;   29 ; 12,44,03\n",
       "                59 ;   59 ; 01,28,06\n",
       "                90 ;   88 ; 14,12,09\n",
       "               120 ;  118 ; 02,56,12\n",
       "               151 ;  147 ; 15,40,15\n",
       "               181 ;  177 ; 04,24,18\n",
       "               212 ;  206 ; 17,08,21\n",
       "               243 ;  236 ; 05,52,24\n",
       "               273 ;  265 ; 18,36,27\n",
       "               304 ;  295 ; 07,20,30\n",
       "               334 ;  324 ; 20,04,34\n",
       "               365 ;  354 ; 08,48,37"
      ]
     },
     "execution_count": 4,
     "metadata": {},
     "output_type": "execute_result"
    }
   ],
   "source": [
    "# mean motion parameter from the Parisian Alfonsine tables\n",
    "daily_mean=Historical(Sexagesimal(\"12;11,26,41,37,51,50,39\"),7)\n",
    "REVO=Historical(Sexagesimal(\"6,0;0,0\"),7)\n",
    "\n",
    "#length of the synodic month\n",
    "synodic_month=REVO/daily_mean\n",
    "synodic_month=Temporal(synodic_month,7)\n",
    "\n",
    "for i in range(12):\n",
    "    with set_precision(tmode=TruncatureMode.TRUNC, pmode=5):\n",
    "        time=((i+1)*synodic_month)%365\n",
    "                    \n",
    "        #filling the Test and Delta tables with the final precision\n",
    "        with set_precision(tmode=TruncatureMode.ROUND, pmode=3):\n",
    "            Test_recomp[i][1]=1*time\n",
    "            Delta_recomp[i][1]=24*60*60*(Hist_table[i][1]-Test_recomp[i][1])\n",
    "Test_recomp"
   ]
  },
  {
   "cell_type": "code",
   "execution_count": 5,
   "id": "e9a0295e-3fc2-4e64-8eab-93324a4ee4b5",
   "metadata": {},
   "outputs": [
    {
     "data": {
      "text/plain": [
       "(0.0, nan)"
      ]
     },
     "execution_count": 5,
     "metadata": {},
     "output_type": "execute_result"
    }
   ],
   "source": [
    "# residuals visualisation and statistical summaries 1\n",
    "B=Delta_recomp.to_pandas()\n",
    "(B.mean().mean(), B.std().std())"
   ]
  },
  {
   "cell_type": "code",
   "execution_count": 6,
   "id": "95010bad-e77a-4763-91d7-a484c92b7e58",
   "metadata": {},
   "outputs": [
    {
     "data": {
      "text/html": [
       "<style type=\"text/css\">\n",
       "#T_d9f0d_row0_col0, #T_d9f0d_row1_col0, #T_d9f0d_row2_col0, #T_d9f0d_row3_col0, #T_d9f0d_row4_col0, #T_d9f0d_row5_col0, #T_d9f0d_row6_col0, #T_d9f0d_row7_col0, #T_d9f0d_row8_col0, #T_d9f0d_row9_col0, #T_d9f0d_row10_col0, #T_d9f0d_row11_col0 {\n",
       "  background-color: #fff7fb;\n",
       "  color: #000000;\n",
       "}\n",
       "</style>\n",
       "<table id=\"T_d9f0d\">\n",
       "  <thead>\n",
       "    <tr>\n",
       "      <th class=\"blank level0\" >&nbsp;</th>\n",
       "      <th id=\"T_d9f0d_level0_col0\" class=\"col_heading level0 col0\" >Entries</th>\n",
       "    </tr>\n",
       "    <tr>\n",
       "      <th class=\"index_name level0\" >Month</th>\n",
       "      <th class=\"blank col0\" >&nbsp;</th>\n",
       "    </tr>\n",
       "  </thead>\n",
       "  <tbody>\n",
       "    <tr>\n",
       "      <th id=\"T_d9f0d_level0_row0\" class=\"row_heading level0 row0\" >31 ; </th>\n",
       "      <td id=\"T_d9f0d_row0_col0\" class=\"data row0 col0\" >0</td>\n",
       "    </tr>\n",
       "    <tr>\n",
       "      <th id=\"T_d9f0d_level0_row1\" class=\"row_heading level0 row1\" >59 ; </th>\n",
       "      <td id=\"T_d9f0d_row1_col0\" class=\"data row1 col0\" >0</td>\n",
       "    </tr>\n",
       "    <tr>\n",
       "      <th id=\"T_d9f0d_level0_row2\" class=\"row_heading level0 row2\" >90 ; </th>\n",
       "      <td id=\"T_d9f0d_row2_col0\" class=\"data row2 col0\" >0</td>\n",
       "    </tr>\n",
       "    <tr>\n",
       "      <th id=\"T_d9f0d_level0_row3\" class=\"row_heading level0 row3\" >120 ; </th>\n",
       "      <td id=\"T_d9f0d_row3_col0\" class=\"data row3 col0\" >0</td>\n",
       "    </tr>\n",
       "    <tr>\n",
       "      <th id=\"T_d9f0d_level0_row4\" class=\"row_heading level0 row4\" >151 ; </th>\n",
       "      <td id=\"T_d9f0d_row4_col0\" class=\"data row4 col0\" >0</td>\n",
       "    </tr>\n",
       "    <tr>\n",
       "      <th id=\"T_d9f0d_level0_row5\" class=\"row_heading level0 row5\" >181 ; </th>\n",
       "      <td id=\"T_d9f0d_row5_col0\" class=\"data row5 col0\" >0</td>\n",
       "    </tr>\n",
       "    <tr>\n",
       "      <th id=\"T_d9f0d_level0_row6\" class=\"row_heading level0 row6\" >212 ; </th>\n",
       "      <td id=\"T_d9f0d_row6_col0\" class=\"data row6 col0\" >0</td>\n",
       "    </tr>\n",
       "    <tr>\n",
       "      <th id=\"T_d9f0d_level0_row7\" class=\"row_heading level0 row7\" >243 ; </th>\n",
       "      <td id=\"T_d9f0d_row7_col0\" class=\"data row7 col0\" >0</td>\n",
       "    </tr>\n",
       "    <tr>\n",
       "      <th id=\"T_d9f0d_level0_row8\" class=\"row_heading level0 row8\" >273 ; </th>\n",
       "      <td id=\"T_d9f0d_row8_col0\" class=\"data row8 col0\" >0</td>\n",
       "    </tr>\n",
       "    <tr>\n",
       "      <th id=\"T_d9f0d_level0_row9\" class=\"row_heading level0 row9\" >304 ; </th>\n",
       "      <td id=\"T_d9f0d_row9_col0\" class=\"data row9 col0\" >0</td>\n",
       "    </tr>\n",
       "    <tr>\n",
       "      <th id=\"T_d9f0d_level0_row10\" class=\"row_heading level0 row10\" >334 ; </th>\n",
       "      <td id=\"T_d9f0d_row10_col0\" class=\"data row10 col0\" >0</td>\n",
       "    </tr>\n",
       "    <tr>\n",
       "      <th id=\"T_d9f0d_level0_row11\" class=\"row_heading level0 row11\" >365 ; </th>\n",
       "      <td id=\"T_d9f0d_row11_col0\" class=\"data row11 col0\" >0</td>\n",
       "    </tr>\n",
       "  </tbody>\n",
       "</table>\n"
      ],
      "text/plain": [
       "<pandas.io.formats.style.Styler at 0x7f1a76fdc520>"
      ]
     },
     "execution_count": 6,
     "metadata": {},
     "output_type": "execute_result"
    }
   ],
   "source": [
    "B.astype(int).style.background_gradient(axis=None)"
   ]
  },
  {
   "cell_type": "code",
   "execution_count": 13,
   "id": "99607be0-e292-426e-90c2-04b8443a9a3a",
   "metadata": {},
   "outputs": [],
   "source": [
    "#csv export of the recomputed table\n",
    "B=Test_recomp.to_pandas()\n",
    "compression_opts = dict(method='zip',archive_name='Mean syzygies dates months.csv')\n",
    "B.to_csv('Mean syzygies dates months.zip', index=False, compression=compression_opts)"
   ]
  },
  {
   "cell_type": "code",
   "execution_count": null,
   "id": "de31e731-184a-4842-8d31-25e091d6883f",
   "metadata": {},
   "outputs": [],
   "source": []
  }
 ],
 "metadata": {
  "kernelspec": {
   "display_name": "Python 3 (ipykernel)",
   "language": "python",
   "name": "python3"
  },
  "language_info": {
   "codemirror_mode": {
    "name": "ipython",
    "version": 3
   },
   "file_extension": ".py",
   "mimetype": "text/x-python",
   "name": "python",
   "nbconvert_exporter": "python",
   "pygments_lexer": "ipython3",
   "version": "3.9.7"
  }
 },
 "nbformat": 4,
 "nbformat_minor": 5
}
