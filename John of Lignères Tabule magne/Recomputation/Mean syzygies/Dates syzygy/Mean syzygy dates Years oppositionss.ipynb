{
 "cells": [
  {
   "cell_type": "code",
   "execution_count": 1,
   "id": "e295bf8e-9b49-4d37-8459-7d9564671719",
   "metadata": {},
   "outputs": [],
   "source": [
    "#Initial environement of computations\n",
    "\n",
    "\n",
    "import matplotlib.pyplot as plt\n",
    "import numpy as np\n",
    "from kanon.calendars import Calendar, Date\n",
    "from kanon.calendars.calendars import float_to_hm, hm_to_float\n",
    "from kanon.tables import HTable\n",
    "from kanon.units import Sexagesimal, Historical\n",
    "from kanon.units.precision import set_precision, TruncatureMode, PrecisionMode\n",
    "import astropy.units as u\n",
    "\n",
    "\n",
    "from kanon.tables.htable_reader import (\n",
    "    DISHAS_REQUEST_URL,\n",
    "    read_historical,\n",
    "    read_sexag_array,\n",
    "    read_intsexag_array,\n",
    ")\n",
    "from kanon.tables import HTable\n",
    "import requests\n",
    "\n",
    "from kanon.units import Sexagesimal, Historical, IntegerAndSexagesimal, Temporal\n",
    "from kanon.calendars import*\n",
    "\n",
    "Cal=julian_ad = Calendar.registry[\"Julian A.D.\"]\n",
    "\n",
    "number_reader = {\n",
    "    \"sexagesimal\": read_sexag_array,\n",
    "    \"floating sexagesimal\": read_sexag_array,\n",
    "    \"integer and sexagesimal\": read_intsexag_array,\n",
    "    \"historical\": read_historical,\n",
    "}"
   ]
  },
  {
   "cell_type": "code",
   "execution_count": 2,
   "id": "07a376ba-6f88-4301-ab4a-feabbcd77e50",
   "metadata": {},
   "outputs": [
    {
     "data": {
      "text/html": [
       "<div><i>HTable length=13</i>\n",
       "<table id=\"table140041121643296\" class=\"table-striped table-bordered table-condensed\">\n",
       "<thead><tr><th>Years, oppositions</th><th>Entries</th></tr></thead>\n",
       "<thead><tr><th>IntegerAndSexagesimal</th><th>Temporal</th></tr></thead>\n",
       "<tr><td>482495 ;</td><td>13 ; 23,40,05</td></tr>\n",
       "<tr><td>491261 ;</td><td>18 ; 13,43,11</td></tr>\n",
       "<tr><td>500027 ;</td><td>23 ; 03,46,16</td></tr>\n",
       "<tr><td>508793 ;</td><td>27 ; 17,49,22</td></tr>\n",
       "<tr><td>517559 ;</td><td>2 ; 19,08,25</td></tr>\n",
       "<tr><td>526325 ;</td><td>7 ; 09,11,31</td></tr>\n",
       "<tr><td>535091 ;</td><td>11 ; 23,14,36</td></tr>\n",
       "<tr><td>543857 ;</td><td>16 ; 13,17,42</td></tr>\n",
       "<tr><td>552623 ;</td><td>21 ; 03,20,48</td></tr>\n",
       "<tr><td>561389 ;</td><td>25 ; 17,23,54</td></tr>\n",
       "<tr><td>570155 ;</td><td>0 ; 18,42,56</td></tr>\n",
       "<tr><td>578921 ;</td><td>5 ; 08,46,02</td></tr>\n",
       "<tr><td>587687 ;</td><td>9 ; 22,49,08</td></tr>\n",
       "</table></div>"
      ],
      "text/plain": [
       "<HTable length=13>\n",
       "  Years, oppositions     Entries   \n",
       "IntegerAndSexagesimal    Temporal  \n",
       "--------------------- -------------\n",
       "            482495 ;  13 ; 23,40,05\n",
       "            491261 ;  18 ; 13,43,11\n",
       "            500027 ;  23 ; 03,46,16\n",
       "            508793 ;  27 ; 17,49,22\n",
       "            517559 ;   2 ; 19,08,25\n",
       "            526325 ;   7 ; 09,11,31\n",
       "            535091 ;  11 ; 23,14,36\n",
       "            543857 ;  16 ; 13,17,42\n",
       "            552623 ;  21 ; 03,20,48\n",
       "            561389 ;  25 ; 17,23,54\n",
       "            570155 ;   0 ; 18,42,56\n",
       "            578921 ;   5 ; 08,46,02\n",
       "            587687 ;   9 ; 22,49,08"
      ]
     },
     "execution_count": 2,
     "metadata": {},
     "output_type": "execute_result"
    }
   ],
   "source": [
    "#Initial table set\n",
    "\n",
    "# Historical target table\n",
    "Hist_table=HTable.read(586, with_units=False)\n",
    "Hist_table\n"
   ]
  },
  {
   "cell_type": "code",
   "execution_count": 3,
   "id": "2d841f83-29fc-47d7-af5f-56dd6098423a",
   "metadata": {},
   "outputs": [],
   "source": [
    "# Formating and initialising the Test tables\n",
    "\n",
    "Test_recomp=Hist_table.copy()\n",
    "Delta_recomp=Hist_table.copy()\n",
    "for i in range(13):\n",
    "    Test_recomp[i][1]=Temporal('0;0,0,0')\n",
    "    Delta_recomp[i][1]=Temporal('0;0,0,0')\n"
   ]
  },
  {
   "cell_type": "code",
   "execution_count": 11,
   "id": "fbc4f0a4-c3c0-44c5-b0d9-8271155a7ec5",
   "metadata": {},
   "outputs": [
    {
     "data": {
      "text/html": [
       "<div><i>HTable length=13</i>\n",
       "<table id=\"table140041120586672\" class=\"table-striped table-bordered table-condensed\">\n",
       "<thead><tr><th>Years, oppositions</th><th>Entries</th></tr></thead>\n",
       "<thead><tr><th>IntegerAndSexagesimal</th><th>Temporal</th></tr></thead>\n",
       "<tr><td>482495 ;</td><td>13 ; 23,40,05</td></tr>\n",
       "<tr><td>491261 ;</td><td>18 ; 13,43,11</td></tr>\n",
       "<tr><td>500027 ;</td><td>23 ; 03,46,16</td></tr>\n",
       "<tr><td>508793 ;</td><td>27 ; 17,49,22</td></tr>\n",
       "<tr><td>517559 ;</td><td>2 ; 19,08,25</td></tr>\n",
       "<tr><td>526325 ;</td><td>7 ; 09,11,31</td></tr>\n",
       "<tr><td>535091 ;</td><td>11 ; 23,14,36</td></tr>\n",
       "<tr><td>543857 ;</td><td>16 ; 13,17,42</td></tr>\n",
       "<tr><td>552623 ;</td><td>21 ; 03,20,48</td></tr>\n",
       "<tr><td>561389 ;</td><td>25 ; 17,23,54</td></tr>\n",
       "<tr><td>570155 ;</td><td>0 ; 18,42,56</td></tr>\n",
       "<tr><td>578921 ;</td><td>5 ; 08,46,02</td></tr>\n",
       "<tr><td>587687 ;</td><td>9 ; 22,49,08</td></tr>\n",
       "</table></div>"
      ],
      "text/plain": [
       "<HTable length=13>\n",
       "  Years, oppositions     Entries   \n",
       "IntegerAndSexagesimal    Temporal  \n",
       "--------------------- -------------\n",
       "            482495 ;  13 ; 23,40,05\n",
       "            491261 ;  18 ; 13,43,11\n",
       "            500027 ;  23 ; 03,46,16\n",
       "            508793 ;  27 ; 17,49,22\n",
       "            517559 ;   2 ; 19,08,25\n",
       "            526325 ;   7 ; 09,11,31\n",
       "            535091 ;  11 ; 23,14,36\n",
       "            543857 ;  16 ; 13,17,42\n",
       "            552623 ;  21 ; 03,20,48\n",
       "            561389 ;  25 ; 17,23,54\n",
       "            570155 ;   0 ; 18,42,56\n",
       "            578921 ;   5 ; 08,46,02\n",
       "            587687 ;   9 ; 22,49,08"
      ]
     },
     "execution_count": 11,
     "metadata": {},
     "output_type": "execute_result"
    }
   ],
   "source": [
    "# mean motion parameter from the Parisian Alfonsine tables\n",
    "daily_mean=Historical(Sexagesimal(\"12;11,26,41,37,51,50,39\"),7)\n",
    "radice_elong=Historical(Sexagesimal(\"3,24;25,49,46,11\"),4)\n",
    "delta_Paris_Toledo=Temporal(\"0;0,48\")\n",
    "REVO=Historical(Sexagesimal(\"6,0;0,0\"),7)\n",
    "epoch= Date(Cal, (1, 1, 1))\n",
    "\n",
    "for i in range(13):\n",
    "    with set_precision(tmode=TruncatureMode.TRUNC, pmode=6):\n",
    "\n",
    "        #conversion of date to DN from calendar epoch\n",
    "        days=int(Hist_table[i][0])-365\n",
    "\n",
    "        #computation of the elongation at date\n",
    "        elong=(days*daily_mean+radice_elong)%REVO\n",
    "\n",
    "        #computation of time to conjonction including delta between Paris and Toledo\n",
    "        time=(REVO-elong)/daily_mean\n",
    "        time=Temporal(time,7)+delta_Paris_Toledo+REVO/(2*daily_mean)\n",
    "        if time>30:\n",
    "            time=time-REVO/daily_mean\n",
    "        else:\n",
    "            time=time\n",
    "        \n",
    "        \n",
    "        #filling the Test and Delta tables with the final precision\n",
    "        with set_precision(tmode=TruncatureMode.ROUND, pmode=3):\n",
    "            Test_recomp[i][1]=1*time\n",
    "            Delta_recomp[i][1]=24*60*60*(Hist_table[i][1]-Test_recomp[i][1])\n",
    "Test_recomp"
   ]
  },
  {
   "cell_type": "code",
   "execution_count": 12,
   "id": "e9a0295e-3fc2-4e64-8eab-93324a4ee4b5",
   "metadata": {},
   "outputs": [
    {
     "data": {
      "text/plain": [
       "(0.0, nan)"
      ]
     },
     "execution_count": 12,
     "metadata": {},
     "output_type": "execute_result"
    }
   ],
   "source": [
    "# residuals visualisation and statistical summaries 1\n",
    "B=Delta_recomp.to_pandas()\n",
    "(B.mean().mean(), B.std().std())"
   ]
  },
  {
   "cell_type": "code",
   "execution_count": 13,
   "id": "95010bad-e77a-4763-91d7-a484c92b7e58",
   "metadata": {},
   "outputs": [
    {
     "data": {
      "text/html": [
       "<style type=\"text/css\">\n",
       "#T_0dee7_row0_col0, #T_0dee7_row1_col0, #T_0dee7_row2_col0, #T_0dee7_row3_col0, #T_0dee7_row4_col0, #T_0dee7_row5_col0, #T_0dee7_row6_col0, #T_0dee7_row7_col0, #T_0dee7_row8_col0, #T_0dee7_row9_col0, #T_0dee7_row10_col0, #T_0dee7_row11_col0, #T_0dee7_row12_col0 {\n",
       "  background-color: #fff7fb;\n",
       "  color: #000000;\n",
       "}\n",
       "</style>\n",
       "<table id=\"T_0dee7\">\n",
       "  <thead>\n",
       "    <tr>\n",
       "      <th class=\"blank level0\" >&nbsp;</th>\n",
       "      <th id=\"T_0dee7_level0_col0\" class=\"col_heading level0 col0\" >Entries</th>\n",
       "    </tr>\n",
       "    <tr>\n",
       "      <th class=\"index_name level0\" >Years, oppositions</th>\n",
       "      <th class=\"blank col0\" >&nbsp;</th>\n",
       "    </tr>\n",
       "  </thead>\n",
       "  <tbody>\n",
       "    <tr>\n",
       "      <th id=\"T_0dee7_level0_row0\" class=\"row_heading level0 row0\" >482495 ; </th>\n",
       "      <td id=\"T_0dee7_row0_col0\" class=\"data row0 col0\" >0</td>\n",
       "    </tr>\n",
       "    <tr>\n",
       "      <th id=\"T_0dee7_level0_row1\" class=\"row_heading level0 row1\" >491261 ; </th>\n",
       "      <td id=\"T_0dee7_row1_col0\" class=\"data row1 col0\" >0</td>\n",
       "    </tr>\n",
       "    <tr>\n",
       "      <th id=\"T_0dee7_level0_row2\" class=\"row_heading level0 row2\" >500027 ; </th>\n",
       "      <td id=\"T_0dee7_row2_col0\" class=\"data row2 col0\" >0</td>\n",
       "    </tr>\n",
       "    <tr>\n",
       "      <th id=\"T_0dee7_level0_row3\" class=\"row_heading level0 row3\" >508793 ; </th>\n",
       "      <td id=\"T_0dee7_row3_col0\" class=\"data row3 col0\" >0</td>\n",
       "    </tr>\n",
       "    <tr>\n",
       "      <th id=\"T_0dee7_level0_row4\" class=\"row_heading level0 row4\" >517559 ; </th>\n",
       "      <td id=\"T_0dee7_row4_col0\" class=\"data row4 col0\" >0</td>\n",
       "    </tr>\n",
       "    <tr>\n",
       "      <th id=\"T_0dee7_level0_row5\" class=\"row_heading level0 row5\" >526325 ; </th>\n",
       "      <td id=\"T_0dee7_row5_col0\" class=\"data row5 col0\" >0</td>\n",
       "    </tr>\n",
       "    <tr>\n",
       "      <th id=\"T_0dee7_level0_row6\" class=\"row_heading level0 row6\" >535091 ; </th>\n",
       "      <td id=\"T_0dee7_row6_col0\" class=\"data row6 col0\" >0</td>\n",
       "    </tr>\n",
       "    <tr>\n",
       "      <th id=\"T_0dee7_level0_row7\" class=\"row_heading level0 row7\" >543857 ; </th>\n",
       "      <td id=\"T_0dee7_row7_col0\" class=\"data row7 col0\" >0</td>\n",
       "    </tr>\n",
       "    <tr>\n",
       "      <th id=\"T_0dee7_level0_row8\" class=\"row_heading level0 row8\" >552623 ; </th>\n",
       "      <td id=\"T_0dee7_row8_col0\" class=\"data row8 col0\" >0</td>\n",
       "    </tr>\n",
       "    <tr>\n",
       "      <th id=\"T_0dee7_level0_row9\" class=\"row_heading level0 row9\" >561389 ; </th>\n",
       "      <td id=\"T_0dee7_row9_col0\" class=\"data row9 col0\" >0</td>\n",
       "    </tr>\n",
       "    <tr>\n",
       "      <th id=\"T_0dee7_level0_row10\" class=\"row_heading level0 row10\" >570155 ; </th>\n",
       "      <td id=\"T_0dee7_row10_col0\" class=\"data row10 col0\" >0</td>\n",
       "    </tr>\n",
       "    <tr>\n",
       "      <th id=\"T_0dee7_level0_row11\" class=\"row_heading level0 row11\" >578921 ; </th>\n",
       "      <td id=\"T_0dee7_row11_col0\" class=\"data row11 col0\" >0</td>\n",
       "    </tr>\n",
       "    <tr>\n",
       "      <th id=\"T_0dee7_level0_row12\" class=\"row_heading level0 row12\" >587687 ; </th>\n",
       "      <td id=\"T_0dee7_row12_col0\" class=\"data row12 col0\" >0</td>\n",
       "    </tr>\n",
       "  </tbody>\n",
       "</table>\n"
      ],
      "text/plain": [
       "<pandas.io.formats.style.Styler at 0x7f5ddd1c4d60>"
      ]
     },
     "execution_count": 13,
     "metadata": {},
     "output_type": "execute_result"
    }
   ],
   "source": [
    "B.astype(int).style.background_gradient(axis=None)"
   ]
  },
  {
   "cell_type": "code",
   "execution_count": 7,
   "id": "99607be0-e292-426e-90c2-04b8443a9a3a",
   "metadata": {},
   "outputs": [],
   "source": [
    "#csv export of the recomputed table\n",
    "B=Test_recomp.to_pandas()\n",
    "compression_opts = dict(method='zip',archive_name='Mean syzygy date years opposition.csv')\n",
    "B.to_csv('Mean syzygy date years opposition.zip', index=False, compression=compression_opts)"
   ]
  },
  {
   "cell_type": "code",
   "execution_count": null,
   "id": "00ff96b7-770e-497c-a97e-977b013a4378",
   "metadata": {},
   "outputs": [],
   "source": []
  },
  {
   "cell_type": "code",
   "execution_count": null,
   "id": "588592a5-e92c-47a6-b86f-5ff3ed624303",
   "metadata": {},
   "outputs": [],
   "source": []
  }
 ],
 "metadata": {
  "kernelspec": {
   "display_name": "Python 3 (ipykernel)",
   "language": "python",
   "name": "python3"
  },
  "language_info": {
   "codemirror_mode": {
    "name": "ipython",
    "version": 3
   },
   "file_extension": ".py",
   "mimetype": "text/x-python",
   "name": "python",
   "nbconvert_exporter": "python",
   "pygments_lexer": "ipython3",
   "version": "3.9.7"
  }
 },
 "nbformat": 4,
 "nbformat_minor": 5
}
