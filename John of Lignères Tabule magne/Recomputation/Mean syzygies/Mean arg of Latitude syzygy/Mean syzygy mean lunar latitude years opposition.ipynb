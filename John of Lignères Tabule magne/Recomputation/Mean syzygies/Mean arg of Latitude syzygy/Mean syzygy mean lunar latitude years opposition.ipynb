{
 "cells": [
  {
   "cell_type": "code",
   "execution_count": 1,
   "id": "79bb89ba-1661-43db-ba2f-fd7bfa53be34",
   "metadata": {},
   "outputs": [],
   "source": [
    "#Initial environement of computations\n",
    "\n",
    "\n",
    "import matplotlib.pyplot as plt\n",
    "import numpy as np\n",
    "from kanon.calendars import Calendar, Date\n",
    "from kanon.calendars.calendars import float_to_hm, hm_to_float\n",
    "from kanon.tables import HTable\n",
    "from kanon.units import Sexagesimal, Historical\n",
    "from kanon.units.precision import set_precision, TruncatureMode, PrecisionMode\n",
    "import astropy.units as u\n",
    "\n",
    "\n",
    "from kanon.tables.htable_reader import (\n",
    "    DISHAS_REQUEST_URL,\n",
    "    read_historical,\n",
    "    read_sexag_array,\n",
    "    read_intsexag_array,\n",
    ")\n",
    "from kanon.tables import HTable\n",
    "import requests\n",
    "\n",
    "from kanon.units import Sexagesimal, Historical, IntegerAndSexagesimal, Temporal\n",
    "from kanon.calendars import*\n",
    "\n",
    "Cal=julian_ad = Calendar.registry[\"Julian A.D.\"]\n",
    "\n",
    "number_reader = {\n",
    "    \"sexagesimal\": read_sexag_array,\n",
    "    \"floating sexagesimal\": read_sexag_array,\n",
    "    \"integer and sexagesimal\": read_intsexag_array,\n",
    "    \"historical\": read_historical,\n",
    "}"
   ]
  },
  {
   "cell_type": "code",
   "execution_count": 9,
   "id": "1ee1c881-68a0-4d45-b85a-89ae739719f8",
   "metadata": {},
   "outputs": [
    {
     "data": {
      "text/html": [
       "<div><i>HTable length=13</i>\n",
       "<table id=\"table140251055953952\" class=\"table-striped table-bordered table-condensed\">\n",
       "<thead><tr><th>Years, oppositoin</th><th>Entries</th></tr></thead>\n",
       "<thead><tr><th>IntegerAndSexagesimal</th><th>Historical</th></tr></thead>\n",
       "<tr><td>482495 ;</td><td>06s 05 ; 18,35</td></tr>\n",
       "<tr><td>491261 ;</td><td>09s 24 ; 26,44</td></tr>\n",
       "<tr><td>500027 ;</td><td>01s 13 ; 34,53</td></tr>\n",
       "<tr><td>508793 ;</td><td>05s 02 ; 43,02</td></tr>\n",
       "<tr><td>517559 ;</td><td>07s 21 ; 10,57</td></tr>\n",
       "<tr><td>526325 ;</td><td>11s 10 ; 19,07</td></tr>\n",
       "<tr><td>535091 ;</td><td>02s 29 ; 27,16</td></tr>\n",
       "<tr><td>543857 ;</td><td>06s 18 ; 35,25</td></tr>\n",
       "<tr><td>552623 ;</td><td>10s 07 ; 45,34</td></tr>\n",
       "<tr><td>561389 ;</td><td>01s 26 ; 51,43</td></tr>\n",
       "<tr><td>570155 ;</td><td>04s 15 ; 19,39</td></tr>\n",
       "<tr><td>578921 ;</td><td>08s 04 ; 27,48</td></tr>\n",
       "<tr><td>587687 ;</td><td>11s 23 ; 35,57</td></tr>\n",
       "</table></div>"
      ],
      "text/plain": [
       "<HTable length=13>\n",
       "  Years, oppositoin      Entries    \n",
       "IntegerAndSexagesimal   Historical  \n",
       "--------------------- --------------\n",
       "            482495 ;  06s 05 ; 18,35\n",
       "            491261 ;  09s 24 ; 26,44\n",
       "            500027 ;  01s 13 ; 34,53\n",
       "            508793 ;  05s 02 ; 43,02\n",
       "            517559 ;  07s 21 ; 10,57\n",
       "            526325 ;  11s 10 ; 19,07\n",
       "            535091 ;  02s 29 ; 27,16\n",
       "            543857 ;  06s 18 ; 35,25\n",
       "            552623 ;  10s 07 ; 45,34\n",
       "            561389 ;  01s 26 ; 51,43\n",
       "            570155 ;  04s 15 ; 19,39\n",
       "            578921 ;  08s 04 ; 27,48\n",
       "            587687 ;  11s 23 ; 35,57"
      ]
     },
     "execution_count": 9,
     "metadata": {},
     "output_type": "execute_result"
    }
   ],
   "source": [
    "#Initial table set\n",
    "\n",
    "# Historical target table\n",
    "Hist_table=HTable.read(590, with_units=False)\n",
    "Hist_table\n"
   ]
  },
  {
   "cell_type": "code",
   "execution_count": 10,
   "id": "49d15e2d-03a8-4d82-8df2-ad36d5faaf67",
   "metadata": {},
   "outputs": [],
   "source": [
    "# Formating and initialising the Test tables\n",
    "\n",
    "Test_recomp=Hist_table.copy()\n",
    "Delta_recomp=Hist_table.copy()\n",
    "for i in range(13):\n",
    "    Test_recomp[i][1]=Historical(Sexagesimal('0;0,0'),2)\n",
    "    Delta_recomp[i][1]=Historical(Sexagesimal('0;0,0'),2)"
   ]
  },
  {
   "cell_type": "code",
   "execution_count": 25,
   "id": "06847150-d4e8-4024-98be-cf46395fbc6d",
   "metadata": {},
   "outputs": [
    {
     "data": {
      "text/html": [
       "<div><i>HTable length=13</i>\n",
       "<table id=\"table140251054012784\" class=\"table-striped table-bordered table-condensed\">\n",
       "<thead><tr><th>Years, oppositoin</th><th>Entries</th></tr></thead>\n",
       "<thead><tr><th>IntegerAndSexagesimal</th><th>Historical</th></tr></thead>\n",
       "<tr><td>482495 ;</td><td>06s 05 ; 18,34</td></tr>\n",
       "<tr><td>491261 ;</td><td>09s 24 ; 26,43</td></tr>\n",
       "<tr><td>500027 ;</td><td>01s 13 ; 34,53</td></tr>\n",
       "<tr><td>508793 ;</td><td>05s 02 ; 43,02</td></tr>\n",
       "<tr><td>517559 ;</td><td>07s 21 ; 10,57</td></tr>\n",
       "<tr><td>526325 ;</td><td>11s 10 ; 19,06</td></tr>\n",
       "<tr><td>535091 ;</td><td>02s 29 ; 27,16</td></tr>\n",
       "<tr><td>543857 ;</td><td>06s 18 ; 35,25</td></tr>\n",
       "<tr><td>552623 ;</td><td>10s 07 ; 43,34</td></tr>\n",
       "<tr><td>561389 ;</td><td>01s 26 ; 51,43</td></tr>\n",
       "<tr><td>570155 ;</td><td>04s 15 ; 19,38</td></tr>\n",
       "<tr><td>578921 ;</td><td>08s 04 ; 27,48</td></tr>\n",
       "<tr><td>587687 ;</td><td>11s 23 ; 35,57</td></tr>\n",
       "</table></div>"
      ],
      "text/plain": [
       "<HTable length=13>\n",
       "  Years, oppositoin      Entries    \n",
       "IntegerAndSexagesimal   Historical  \n",
       "--------------------- --------------\n",
       "            482495 ;  06s 05 ; 18,34\n",
       "            491261 ;  09s 24 ; 26,43\n",
       "            500027 ;  01s 13 ; 34,53\n",
       "            508793 ;  05s 02 ; 43,02\n",
       "            517559 ;  07s 21 ; 10,57\n",
       "            526325 ;  11s 10 ; 19,06\n",
       "            535091 ;  02s 29 ; 27,16\n",
       "            543857 ;  06s 18 ; 35,25\n",
       "            552623 ;  10s 07 ; 43,34\n",
       "            561389 ;  01s 26 ; 51,43\n",
       "            570155 ;  04s 15 ; 19,38\n",
       "            578921 ;  08s 04 ; 27,48\n",
       "            587687 ;  11s 23 ; 35,57"
      ]
     },
     "execution_count": 25,
     "metadata": {},
     "output_type": "execute_result"
    }
   ],
   "source": [
    "#mean motion parameter from the Parisian Alfonsine Tables\n",
    "#note that the radices for moon lat is not exactly that of the princeps ed of the Parisian Alfonsine Tables\n",
    "# the Parisian Alfonsine Table one read 3, 34;28, 42, 38, 28\n",
    "daily_mean_elong=Historical(Sexagesimal(\"12;11,26,41,37,51,50,39\"),7)\n",
    "radice_elong=Historical(Sexagesimal(\"3,24;25,49,46,11\"),4)\n",
    "daily_mean_moon_lat=Historical(Sexagesimal(\"13;13,45,39,22,25,53,45\"),7)\n",
    "radice_moon_lat=Historical(Sexagesimal(\"3,34;42,42,38,28\"),4)\n",
    "delta_Paris_Toledo=Temporal(\"0;0,48\")\n",
    "REVO=Historical(Sexagesimal(\"6,0;0,0\"),7)\n",
    "epoch= Date(Cal, (1, 1, 1))\n",
    "\n",
    "for i in range(13):\n",
    "    with set_precision(tmode=TruncatureMode.TRUNC, pmode=5):\n",
    "\n",
    "        #conversion of date to DN from calendar epoch\n",
    "        days=int(Hist_table[i][0])-365\n",
    "        \n",
    "        #computation of the elongation at date\n",
    "        elong=(days*daily_mean_elong+radice_elong)%REVO\n",
    "\n",
    "        #computation of time to conjonction NOT including delta between Paris and Toledo and conversion in DN since epoch\n",
    "        time=(REVO-elong)/daily_mean_elong\n",
    "        time=Temporal(time,7)+REVO/(2*daily_mean_elong)\n",
    "        if time>30:\n",
    "            time=time-REVO/daily_mean_elong\n",
    "        else:\n",
    "            time=time\n",
    "        time=time.decimal\n",
    "        time=float(time)+days\n",
    "        \n",
    "        #computation of the mean sun (and moon) for that time\n",
    "        mean_moon_lat=(time*daily_mean_moon_lat+radice_moon_lat)%REVO\n",
    "        \n",
    "        \n",
    "        #filling the Test and Delta tables with the final precision\n",
    "        with set_precision(tmode=TruncatureMode.ROUND, pmode=2):\n",
    "            Test_recomp[i][1]=1*mean_moon_lat\n",
    "            Delta_recomp[i][1]=60*60*(Hist_table[i][1]-Test_recomp[i][1])\n",
    "Test_recomp"
   ]
  },
  {
   "cell_type": "code",
   "execution_count": 26,
   "id": "c7f93d70-cc69-43d5-b4a5-f7691f05a7ee",
   "metadata": {},
   "outputs": [
    {
     "data": {
      "text/plain": [
       "(9.538461538461538, nan)"
      ]
     },
     "execution_count": 26,
     "metadata": {},
     "output_type": "execute_result"
    }
   ],
   "source": [
    "# residuals visualisation and statistical summaries 1\n",
    "B=Delta_recomp.to_pandas()\n",
    "(B.mean().mean(), B.std().std())"
   ]
  },
  {
   "cell_type": "code",
   "execution_count": 27,
   "id": "d91c8188-1943-4c3f-bbda-f904494a755e",
   "metadata": {},
   "outputs": [
    {
     "data": {
      "text/html": [
       "<style type=\"text/css\">\n",
       "#T_bdd2f_row0_col0, #T_bdd2f_row1_col0, #T_bdd2f_row5_col0, #T_bdd2f_row10_col0 {\n",
       "  background-color: #fef6fa;\n",
       "  color: #000000;\n",
       "}\n",
       "#T_bdd2f_row2_col0, #T_bdd2f_row3_col0, #T_bdd2f_row4_col0, #T_bdd2f_row6_col0, #T_bdd2f_row7_col0, #T_bdd2f_row9_col0, #T_bdd2f_row11_col0, #T_bdd2f_row12_col0 {\n",
       "  background-color: #fff7fb;\n",
       "  color: #000000;\n",
       "}\n",
       "#T_bdd2f_row8_col0 {\n",
       "  background-color: #023858;\n",
       "  color: #f1f1f1;\n",
       "}\n",
       "</style>\n",
       "<table id=\"T_bdd2f\">\n",
       "  <thead>\n",
       "    <tr>\n",
       "      <th class=\"blank level0\" >&nbsp;</th>\n",
       "      <th id=\"T_bdd2f_level0_col0\" class=\"col_heading level0 col0\" >Entries</th>\n",
       "    </tr>\n",
       "    <tr>\n",
       "      <th class=\"index_name level0\" >Years, oppositoin</th>\n",
       "      <th class=\"blank col0\" >&nbsp;</th>\n",
       "    </tr>\n",
       "  </thead>\n",
       "  <tbody>\n",
       "    <tr>\n",
       "      <th id=\"T_bdd2f_level0_row0\" class=\"row_heading level0 row0\" >482495 ; </th>\n",
       "      <td id=\"T_bdd2f_row0_col0\" class=\"data row0 col0\" >1</td>\n",
       "    </tr>\n",
       "    <tr>\n",
       "      <th id=\"T_bdd2f_level0_row1\" class=\"row_heading level0 row1\" >491261 ; </th>\n",
       "      <td id=\"T_bdd2f_row1_col0\" class=\"data row1 col0\" >1</td>\n",
       "    </tr>\n",
       "    <tr>\n",
       "      <th id=\"T_bdd2f_level0_row2\" class=\"row_heading level0 row2\" >500027 ; </th>\n",
       "      <td id=\"T_bdd2f_row2_col0\" class=\"data row2 col0\" >0</td>\n",
       "    </tr>\n",
       "    <tr>\n",
       "      <th id=\"T_bdd2f_level0_row3\" class=\"row_heading level0 row3\" >508793 ; </th>\n",
       "      <td id=\"T_bdd2f_row3_col0\" class=\"data row3 col0\" >0</td>\n",
       "    </tr>\n",
       "    <tr>\n",
       "      <th id=\"T_bdd2f_level0_row4\" class=\"row_heading level0 row4\" >517559 ; </th>\n",
       "      <td id=\"T_bdd2f_row4_col0\" class=\"data row4 col0\" >0</td>\n",
       "    </tr>\n",
       "    <tr>\n",
       "      <th id=\"T_bdd2f_level0_row5\" class=\"row_heading level0 row5\" >526325 ; </th>\n",
       "      <td id=\"T_bdd2f_row5_col0\" class=\"data row5 col0\" >1</td>\n",
       "    </tr>\n",
       "    <tr>\n",
       "      <th id=\"T_bdd2f_level0_row6\" class=\"row_heading level0 row6\" >535091 ; </th>\n",
       "      <td id=\"T_bdd2f_row6_col0\" class=\"data row6 col0\" >0</td>\n",
       "    </tr>\n",
       "    <tr>\n",
       "      <th id=\"T_bdd2f_level0_row7\" class=\"row_heading level0 row7\" >543857 ; </th>\n",
       "      <td id=\"T_bdd2f_row7_col0\" class=\"data row7 col0\" >0</td>\n",
       "    </tr>\n",
       "    <tr>\n",
       "      <th id=\"T_bdd2f_level0_row8\" class=\"row_heading level0 row8\" >552623 ; </th>\n",
       "      <td id=\"T_bdd2f_row8_col0\" class=\"data row8 col0\" >120</td>\n",
       "    </tr>\n",
       "    <tr>\n",
       "      <th id=\"T_bdd2f_level0_row9\" class=\"row_heading level0 row9\" >561389 ; </th>\n",
       "      <td id=\"T_bdd2f_row9_col0\" class=\"data row9 col0\" >0</td>\n",
       "    </tr>\n",
       "    <tr>\n",
       "      <th id=\"T_bdd2f_level0_row10\" class=\"row_heading level0 row10\" >570155 ; </th>\n",
       "      <td id=\"T_bdd2f_row10_col0\" class=\"data row10 col0\" >1</td>\n",
       "    </tr>\n",
       "    <tr>\n",
       "      <th id=\"T_bdd2f_level0_row11\" class=\"row_heading level0 row11\" >578921 ; </th>\n",
       "      <td id=\"T_bdd2f_row11_col0\" class=\"data row11 col0\" >0</td>\n",
       "    </tr>\n",
       "    <tr>\n",
       "      <th id=\"T_bdd2f_level0_row12\" class=\"row_heading level0 row12\" >587687 ; </th>\n",
       "      <td id=\"T_bdd2f_row12_col0\" class=\"data row12 col0\" >0</td>\n",
       "    </tr>\n",
       "  </tbody>\n",
       "</table>\n"
      ],
      "text/plain": [
       "<pandas.io.formats.style.Styler at 0x7f8ebe427ee0>"
      ]
     },
     "execution_count": 27,
     "metadata": {},
     "output_type": "execute_result"
    }
   ],
   "source": [
    "B.astype(int).style.background_gradient(axis=None)"
   ]
  },
  {
   "cell_type": "code",
   "execution_count": 28,
   "id": "069e9f3d-58d7-41d5-8ee1-d82ca096d51a",
   "metadata": {},
   "outputs": [],
   "source": [
    "#csv export of the recomputed table\n",
    "B=Test_recomp.to_pandas()\n",
    "compression_opts = dict(method='zip',archive_name='Mean syzygy mean arg lat years opposition.csv')\n",
    "B.to_csv('Mean syzygy arg lat years opposition.zip', index=False, compression=compression_opts)"
   ]
  },
  {
   "cell_type": "code",
   "execution_count": null,
   "id": "2cf4054f-aa83-4a6e-9e29-8b2bf3e987e4",
   "metadata": {},
   "outputs": [],
   "source": []
  }
 ],
 "metadata": {
  "kernelspec": {
   "display_name": "Python 3 (ipykernel)",
   "language": "python",
   "name": "python3"
  },
  "language_info": {
   "codemirror_mode": {
    "name": "ipython",
    "version": 3
   },
   "file_extension": ".py",
   "mimetype": "text/x-python",
   "name": "python",
   "nbconvert_exporter": "python",
   "pygments_lexer": "ipython3",
   "version": "3.9.7"
  }
 },
 "nbformat": 4,
 "nbformat_minor": 5
}
