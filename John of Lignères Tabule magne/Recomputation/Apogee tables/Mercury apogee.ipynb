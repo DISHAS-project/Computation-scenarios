{
 "cells": [
  {
   "cell_type": "code",
   "execution_count": 1,
   "id": "ad7bdca5-e27e-498a-965c-76c52e7c2e5f",
   "metadata": {},
   "outputs": [],
   "source": [
    "#Initial environement of computations\n",
    "\n",
    "import matplotlib.pyplot as plt\n",
    "import numpy as np\n",
    "from kanon.calendars import Calendar, Date\n",
    "from kanon.calendars.calendars import float_to_hm, hm_to_float\n",
    "from kanon.tables import HTable\n",
    "from kanon.units import Sexagesimal, Historical\n",
    "from kanon.units.precision import set_precision, TruncatureMode, PrecisionMode\n",
    "import astropy.units as u\n",
    "\n",
    "\n",
    "from kanon.tables.htable_reader import (\n",
    "    DISHAS_REQUEST_URL,\n",
    "    read_historical,\n",
    "    read_sexag_array,\n",
    "    read_intsexag_array,\n",
    ")\n",
    "from kanon.tables import HTable\n",
    "import requests\n",
    "\n",
    "\n",
    "number_reader = {\n",
    "    \"sexagesimal\": read_sexag_array,\n",
    "    \"floating sexagesimal\": read_sexag_array,\n",
    "    \"integer and sexagesimal\": read_intsexag_array,\n",
    "    \"historical\": read_historical,\n",
    "}"
   ]
  },
  {
   "cell_type": "code",
   "execution_count": 2,
   "id": "e4df1aba-5943-4561-b69c-47432d87b194",
   "metadata": {},
   "outputs": [
    {
     "data": {
      "text/html": [
       "<div><i>HTable length=11</i>\n",
       "<table id=\"table140189301116112\" class=\"table-striped table-bordered table-condensed\">\n",
       "<thead><tr><th>Years</th><th>Entries</th></tr></thead>\n",
       "<thead><tr><th>yr</th><th>deg</th></tr></thead>\n",
       "<thead><tr><th>IntegerAndSexagesimal</th><th>Historical</th></tr></thead>\n",
       "<tr><td>482130 ;</td><td>06s 28 ; 38,23</td></tr>\n",
       "<tr><td>489435 ;</td><td>06s 28 ; 51,04</td></tr>\n",
       "<tr><td>496740 ;</td><td>06s 29 ; 03,26</td></tr>\n",
       "<tr><td>504045 ;</td><td>06s 29 ; 15,19</td></tr>\n",
       "<tr><td>511350 ;</td><td>06s 29 ; 27,43</td></tr>\n",
       "<tr><td>518655 ;</td><td>06s 29 ; 39,36</td></tr>\n",
       "<tr><td>525960 ;</td><td>06s 29 ; 51,18</td></tr>\n",
       "<tr><td>533265 ;</td><td>07s 00 ; 02,49</td></tr>\n",
       "<tr><td>540570 ;</td><td>07s 00 ; 14,12</td></tr>\n",
       "<tr><td>547875 ;</td><td>07s 00 ; 25,34</td></tr>\n",
       "<tr><td>555180 ;</td><td>07s 00 ; 36,25</td></tr>\n",
       "</table></div>"
      ],
      "text/plain": [
       "<HTable length=11>\n",
       "        Years            Entries    \n",
       "          yr               deg      \n",
       "IntegerAndSexagesimal   Historical  \n",
       "--------------------- --------------\n",
       "            482130 ;  06s 28 ; 38,23\n",
       "            489435 ;  06s 28 ; 51,04\n",
       "            496740 ;  06s 29 ; 03,26\n",
       "            504045 ;  06s 29 ; 15,19\n",
       "            511350 ;  06s 29 ; 27,43\n",
       "            518655 ;  06s 29 ; 39,36\n",
       "            525960 ;  06s 29 ; 51,18\n",
       "            533265 ;  07s 00 ; 02,49\n",
       "            540570 ;  07s 00 ; 14,12\n",
       "            547875 ;  07s 00 ; 25,34\n",
       "            555180 ;  07s 00 ; 36,25"
      ]
     },
     "execution_count": 2,
     "metadata": {},
     "output_type": "execute_result"
    }
   ],
   "source": [
    "#Initial table set, target table from BnF colbert 60\n",
    "\n",
    "#Access and recess equation form the Parisian Alfonsines Tables\n",
    "Equation_8sphere=HTable.read(238,format='dishas')\n",
    "Hist_table=HTable.read(1163)\n",
    "Hist_table"
   ]
  },
  {
   "cell_type": "code",
   "execution_count": 3,
   "id": "b10012dc-94d8-42b1-8a14-8ecc23bc63e9",
   "metadata": {},
   "outputs": [],
   "source": [
    "# Formating and initialising the Test tables\n",
    "\n",
    "Test_recomp=Hist_table.copy()\n",
    "Delta_recomp=Hist_table.copy()\n",
    "for i in range(11):\n",
    "    Test_recomp[i][1]=Historical(Sexagesimal('0,0;0,0'),2)*u.degree\n",
    "    Delta_recomp[i][1]=Historical(Sexagesimal('0,0;0,0'),2)*u.degree\n",
    "\n"
   ]
  },
  {
   "cell_type": "code",
   "execution_count": 4,
   "id": "f613914d-853e-4fdc-bc47-be131e2fc7f3",
   "metadata": {},
   "outputs": [
    {
     "data": {
      "text/html": [
       "<div><i>HTable length=11</i>\n",
       "<table id=\"table140189302151296\" class=\"table-striped table-bordered table-condensed\">\n",
       "<thead><tr><th>Years</th><th>Entries</th></tr></thead>\n",
       "<thead><tr><th>yr</th><th>deg</th></tr></thead>\n",
       "<thead><tr><th>IntegerAndSexagesimal</th><th>Historical</th></tr></thead>\n",
       "<tr><td>482130 ;</td><td>-00 ; 00,06</td></tr>\n",
       "<tr><td>489435 ;</td><td>00 ; 00,03</td></tr>\n",
       "<tr><td>496740 ;</td><td>00 ; 00,03</td></tr>\n",
       "<tr><td>504045 ;</td><td>-00 ; 00,17</td></tr>\n",
       "<tr><td>511350 ;</td><td>00 ; 00,03</td></tr>\n",
       "<tr><td>518655 ;</td><td>00 ; 00,03</td></tr>\n",
       "<tr><td>525960 ;</td><td>00 ; 00,03</td></tr>\n",
       "<tr><td>533265 ;</td><td>00 ; 00,02</td></tr>\n",
       "<tr><td>540570 ;</td><td>00 ; 00,02</td></tr>\n",
       "<tr><td>547875 ;</td><td>00 ; 00,13</td></tr>\n",
       "<tr><td>555180 ;</td><td>00 ; 00,02</td></tr>\n",
       "</table></div>"
      ],
      "text/plain": [
       "<HTable length=11>\n",
       "        Years           Entries  \n",
       "          yr              deg    \n",
       "IntegerAndSexagesimal  Historical\n",
       "--------------------- -----------\n",
       "            482130 ;  -00 ; 00,06\n",
       "            489435 ;   00 ; 00,03\n",
       "            496740 ;   00 ; 00,03\n",
       "            504045 ;  -00 ; 00,17\n",
       "            511350 ;   00 ; 00,03\n",
       "            518655 ;   00 ; 00,03\n",
       "            525960 ;   00 ; 00,03\n",
       "            533265 ;   00 ; 00,02\n",
       "            540570 ;   00 ; 00,02\n",
       "            547875 ;   00 ; 00,13\n",
       "            555180 ;   00 ; 00,02"
      ]
     },
     "execution_count": 4,
     "metadata": {},
     "output_type": "execute_result"
    }
   ],
   "source": [
    "REVO=Sexagesimal(\"6,0;0,0\")*u.degree\n",
    "\n",
    "# parameters from the Parisian Alfonsine tables\n",
    "radix_apogee=Sexagesimal(\"3,10;39,33,4\")*u.degree\n",
    "radix_8sphere=Sexagesimal(\"5,59;12,34\")*u.degree\n",
    "daily_mean_8sphere=Sexagesimal(\"0;0,0,30,24,29\")*u.degree\n",
    "daily_mean_fixstars=Sexagesimal(\"0;0,0,4,20,41,17,12\")*u.degree\n",
    "\n",
    "\n",
    "for i in range(11):\n",
    "    with set_precision(tmode=TruncatureMode.TRUNC, pmode=3):\n",
    "# computation of the initial mean values     \n",
    "        days=int(Hist_table[i][0])\n",
    "        mean_8sphere=(radix_8sphere+days*daily_mean_8sphere)%REVO\n",
    "        mean_fixstars=days*daily_mean_fixstars\n",
    "#Equation of the eight sphere        \n",
    "        eq_8sphere=Equation_8sphere.get(mean_8sphere)\n",
    "#position of the apogee        \n",
    "        apogee=(radix_apogee+mean_fixstars+eq_8sphere)%REVO\n",
    "        apogee=Historical(apogee.value,2)\n",
    "    with set_precision(tmode=TruncatureMode.ROUND, pmode=2):\n",
    "        Test_recomp[i][1]=1*apogee\n",
    "        Delta_recomp[i][1]=Hist_table[i][1]-Test_recomp[i][1]\n",
    "\n",
    "Delta_recomp"
   ]
  },
  {
   "cell_type": "code",
   "execution_count": 7,
   "id": "9a08353a-3115-4922-a66d-7dc7c31b58f8",
   "metadata": {},
   "outputs": [],
   "source": [
    "#csv export of the recomputed table\n",
    "B=Test_recomp.to_pandas()\n",
    "compression_opts = dict(method='zip',archive_name='Mercury apogee.csv')\n",
    "B.to_csv('Mercury apogee.zip', index=False, compression=compression_opts)"
   ]
  },
  {
   "cell_type": "code",
   "execution_count": null,
   "id": "8b7c213e-44d7-45e7-8b49-f1f4e3233e21",
   "metadata": {},
   "outputs": [],
   "source": []
  }
 ],
 "metadata": {
  "kernelspec": {
   "display_name": "Python 3 (ipykernel)",
   "language": "python",
   "name": "python3"
  },
  "language_info": {
   "codemirror_mode": {
    "name": "ipython",
    "version": 3
   },
   "file_extension": ".py",
   "mimetype": "text/x-python",
   "name": "python",
   "nbconvert_exporter": "python",
   "pygments_lexer": "ipython3",
   "version": "3.9.7"
  }
 },
 "nbformat": 4,
 "nbformat_minor": 5
}
