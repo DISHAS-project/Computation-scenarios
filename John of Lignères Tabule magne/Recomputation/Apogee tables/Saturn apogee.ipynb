{
 "cells": [
  {
   "cell_type": "code",
   "execution_count": 1,
   "id": "8d255cd6-e45b-4448-9d24-d9bcc1d85278",
   "metadata": {},
   "outputs": [],
   "source": [
    "#Initial environement of computations\n",
    "\n",
    "import matplotlib.pyplot as plt\n",
    "import numpy as np\n",
    "from kanon.calendars import Calendar, Date\n",
    "from kanon.calendars.calendars import float_to_hm, hm_to_float\n",
    "from kanon.tables import HTable\n",
    "from kanon.units import Sexagesimal, Historical\n",
    "from kanon.units.precision import set_precision, TruncatureMode, PrecisionMode\n",
    "import astropy.units as u\n",
    "\n",
    "\n",
    "from kanon.tables.htable_reader import (\n",
    "    DISHAS_REQUEST_URL,\n",
    "    read_historical,\n",
    "    read_sexag_array,\n",
    "    read_intsexag_array,\n",
    ")\n",
    "from kanon.tables import HTable\n",
    "import requests\n",
    "\n",
    "\n",
    "number_reader = {\n",
    "    \"sexagesimal\": read_sexag_array,\n",
    "    \"floating sexagesimal\": read_sexag_array,\n",
    "    \"integer and sexagesimal\": read_intsexag_array,\n",
    "    \"historical\": read_historical,\n",
    "}"
   ]
  },
  {
   "cell_type": "code",
   "execution_count": 2,
   "id": "4ef150b0-f738-44b7-b853-4087202e1ace",
   "metadata": {},
   "outputs": [
    {
     "data": {
      "text/html": [
       "<div><i>HTable length=11</i>\n",
       "<table id=\"table140672249281744\" class=\"table-striped table-bordered table-condensed\">\n",
       "<thead><tr><th>Years</th><th>Entries</th></tr></thead>\n",
       "<thead><tr><th>yr</th><th>deg</th></tr></thead>\n",
       "<thead><tr><th>IntegerAndSexagesimal</th><th>Historical</th></tr></thead>\n",
       "<tr><td>482130 ;</td><td>08s 11 ; 22,42</td></tr>\n",
       "<tr><td>489435 ;</td><td>08s 11 ; 35,13</td></tr>\n",
       "<tr><td>496740 ;</td><td>08s 11 ; 47,35</td></tr>\n",
       "<tr><td>504045 ;</td><td>08s 11 ; 59,48</td></tr>\n",
       "<tr><td>511350 ;</td><td>08s 12 ; 11,52</td></tr>\n",
       "<tr><td>518655 ;</td><td>08s 12 ; 23,45</td></tr>\n",
       "<tr><td>525960 ;</td><td>08s 12 ; 36,27</td></tr>\n",
       "<tr><td>533265 ;</td><td>08s 12 ; 46,28</td></tr>\n",
       "<tr><td>540570 ;</td><td>08s 12 ; 58,21</td></tr>\n",
       "<tr><td>547875 ;</td><td>08s 13 ; 09,33</td></tr>\n",
       "<tr><td>555180 ;</td><td>08s 13 ; 20,34</td></tr>\n",
       "</table></div>"
      ],
      "text/plain": [
       "<HTable length=11>\n",
       "        Years            Entries    \n",
       "          yr               deg      \n",
       "IntegerAndSexagesimal   Historical  \n",
       "--------------------- --------------\n",
       "            482130 ;  08s 11 ; 22,42\n",
       "            489435 ;  08s 11 ; 35,13\n",
       "            496740 ;  08s 11 ; 47,35\n",
       "            504045 ;  08s 11 ; 59,48\n",
       "            511350 ;  08s 12 ; 11,52\n",
       "            518655 ;  08s 12 ; 23,45\n",
       "            525960 ;  08s 12 ; 36,27\n",
       "            533265 ;  08s 12 ; 46,28\n",
       "            540570 ;  08s 12 ; 58,21\n",
       "            547875 ;  08s 13 ; 09,33\n",
       "            555180 ;  08s 13 ; 20,34"
      ]
     },
     "execution_count": 2,
     "metadata": {},
     "output_type": "execute_result"
    }
   ],
   "source": [
    "#Initial table set, target table from BnF colbert 60\n",
    "\n",
    "#Access and recess equation form the Parisian Alfonsines Tables\n",
    "Equation_8sphere=HTable.read(238,format='dishas')\n",
    "Hist_table=HTable.read(1160)\n",
    "Hist_table"
   ]
  },
  {
   "cell_type": "code",
   "execution_count": 3,
   "id": "83212f1c-34ff-4a81-a038-83a7aa138b82",
   "metadata": {},
   "outputs": [],
   "source": [
    "# Formating and initialising the Test tables\n",
    "\n",
    "Test_recomp=Hist_table.copy()\n",
    "Delta_recomp=Hist_table.copy()\n",
    "for i in range(11):\n",
    "    Test_recomp[i][1]=Historical(Sexagesimal('0,0;0,0'),2)*u.degree\n",
    "    Delta_recomp[i][1]=Historical(Sexagesimal('0,0;0,0'),2)*u.degree\n",
    "\n"
   ]
  },
  {
   "cell_type": "code",
   "execution_count": 4,
   "id": "be642cd8-05cf-4101-b1d2-18197e9b3dfa",
   "metadata": {},
   "outputs": [
    {
     "data": {
      "text/html": [
       "<div><i>HTable length=11</i>\n",
       "<table id=\"table140674352565360\" class=\"table-striped table-bordered table-condensed\">\n",
       "<thead><tr><th>Years</th><th>Entries</th></tr></thead>\n",
       "<thead><tr><th>yr</th><th>deg</th></tr></thead>\n",
       "<thead><tr><th>IntegerAndSexagesimal</th><th>Historical</th></tr></thead>\n",
       "<tr><td>482130 ;</td><td>00 ; 00,04</td></tr>\n",
       "<tr><td>489435 ;</td><td>00 ; 00,03</td></tr>\n",
       "<tr><td>496740 ;</td><td>00 ; 00,03</td></tr>\n",
       "<tr><td>504045 ;</td><td>00 ; 00,03</td></tr>\n",
       "<tr><td>511350 ;</td><td>00 ; 00,03</td></tr>\n",
       "<tr><td>518655 ;</td><td>00 ; 00,03</td></tr>\n",
       "<tr><td>525960 ;</td><td>00 ; 01,03</td></tr>\n",
       "<tr><td>533265 ;</td><td>-00 ; 00,28</td></tr>\n",
       "<tr><td>540570 ;</td><td>00 ; 00,02</td></tr>\n",
       "<tr><td>547875 ;</td><td>00 ; 00,03</td></tr>\n",
       "<tr><td>555180 ;</td><td>00 ; 00,02</td></tr>\n",
       "</table></div>"
      ],
      "text/plain": [
       "<HTable length=11>\n",
       "        Years           Entries  \n",
       "          yr              deg    \n",
       "IntegerAndSexagesimal  Historical\n",
       "--------------------- -----------\n",
       "            482130 ;   00 ; 00,04\n",
       "            489435 ;   00 ; 00,03\n",
       "            496740 ;   00 ; 00,03\n",
       "            504045 ;   00 ; 00,03\n",
       "            511350 ;   00 ; 00,03\n",
       "            518655 ;   00 ; 00,03\n",
       "            525960 ;   00 ; 01,03\n",
       "            533265 ;  -00 ; 00,28\n",
       "            540570 ;   00 ; 00,02\n",
       "            547875 ;   00 ; 00,03\n",
       "            555180 ;   00 ; 00,02"
      ]
     },
     "execution_count": 4,
     "metadata": {},
     "output_type": "execute_result"
    }
   ],
   "source": [
    "REVO=Sexagesimal(\"6,0;0,0\")*u.degree\n",
    "\n",
    "# parameters from the Parisian Alfonsine tables\n",
    "radix_apogee=Sexagesimal(\"3,53;23,42,4\")*u.degree\n",
    "radix_8sphere=Sexagesimal(\"5,59;12,34\")*u.degree\n",
    "daily_mean_8sphere=Sexagesimal(\"0;0,0,30,24,29\")*u.degree\n",
    "daily_mean_fixstars=Sexagesimal(\"0;0,0,4,20,41,17,12\")*u.degree\n",
    "\n",
    "\n",
    "for i in range(11):\n",
    "    with set_precision(tmode=TruncatureMode.TRUNC, pmode=3):\n",
    "# computation of the initial mean values     \n",
    "        days=int(Hist_table[i][0])\n",
    "        mean_8sphere=(radix_8sphere+days*daily_mean_8sphere)%REVO\n",
    "        mean_fixstars=days*daily_mean_fixstars\n",
    "#Equation of the eight sphere        \n",
    "        eq_8sphere=Equation_8sphere.get(mean_8sphere)\n",
    "#position of the apogee        \n",
    "        apogee=(radix_apogee+mean_fixstars+eq_8sphere)%REVO\n",
    "        apogee=Historical(apogee.value,2)\n",
    "    with set_precision(tmode=TruncatureMode.ROUND, pmode=2):\n",
    "        Test_recomp[i][1]=1*apogee\n",
    "        Delta_recomp[i][1]=Hist_table[i][1]-Test_recomp[i][1]\n",
    "\n",
    "Delta_recomp"
   ]
  },
  {
   "cell_type": "code",
   "execution_count": 7,
   "id": "df97a1c2-76a7-475e-abfb-9ca495ed10d1",
   "metadata": {},
   "outputs": [],
   "source": [
    "#csv export of the recomputed table\n",
    "B=Test_recomp.to_pandas()\n",
    "compression_opts = dict(method='zip',archive_name='Saturn apogee.csv')\n",
    "B.to_csv('Saturn apogee.zip', index=False, compression=compression_opts)"
   ]
  },
  {
   "cell_type": "code",
   "execution_count": null,
   "id": "4828e570-2be2-4fe0-904b-b3ef6be8c993",
   "metadata": {},
   "outputs": [],
   "source": []
  }
 ],
 "metadata": {
  "kernelspec": {
   "display_name": "Python 3 (ipykernel)",
   "language": "python",
   "name": "python3"
  },
  "language_info": {
   "codemirror_mode": {
    "name": "ipython",
    "version": 3
   },
   "file_extension": ".py",
   "mimetype": "text/x-python",
   "name": "python",
   "nbconvert_exporter": "python",
   "pygments_lexer": "ipython3",
   "version": "3.9.7"
  }
 },
 "nbformat": 4,
 "nbformat_minor": 5
}
