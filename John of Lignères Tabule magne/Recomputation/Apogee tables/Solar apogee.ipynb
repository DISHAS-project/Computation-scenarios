{
 "cells": [
  {
   "cell_type": "code",
   "execution_count": 1,
   "id": "748ff184-8f42-46a3-9297-a28e3fa3041a",
   "metadata": {},
   "outputs": [],
   "source": [
    "#Initial environement of computations\n",
    "\n",
    "import matplotlib.pyplot as plt\n",
    "import numpy as np\n",
    "from kanon.calendars import Calendar, Date\n",
    "from kanon.calendars.calendars import float_to_hm, hm_to_float\n",
    "from kanon.tables import HTable\n",
    "from kanon.units import Sexagesimal, Historical\n",
    "from kanon.units.precision import set_precision, TruncatureMode, PrecisionMode\n",
    "import astropy.units as u\n",
    "\n",
    "\n",
    "from kanon.tables.htable_reader import (\n",
    "    DISHAS_REQUEST_URL,\n",
    "    read_historical,\n",
    "    read_sexag_array,\n",
    "    read_intsexag_array,\n",
    ")\n",
    "from kanon.tables import HTable\n",
    "import requests\n",
    "\n",
    "\n",
    "number_reader = {\n",
    "    \"sexagesimal\": read_sexag_array,\n",
    "    \"floating sexagesimal\": read_sexag_array,\n",
    "    \"integer and sexagesimal\": read_intsexag_array,\n",
    "    \"historical\": read_historical,\n",
    "}"
   ]
  },
  {
   "cell_type": "code",
   "execution_count": 2,
   "id": "b0041eb9-53d2-41d3-9eba-d43b3adfbdaa",
   "metadata": {},
   "outputs": [
    {
     "data": {
      "text/html": [
       "<div><i>HTable length=11</i>\n",
       "<table id=\"table139884089089280\" class=\"table-striped table-bordered table-condensed\">\n",
       "<thead><tr><th>Years</th><th>Entries</th></tr></thead>\n",
       "<thead><tr><th>yr</th><th>deg</th></tr></thead>\n",
       "<thead><tr><th>IntegerAndSexagesimal</th><th>Historical</th></tr></thead>\n",
       "<tr><td>482130 ;</td><td>02s 29 ; 24,23</td></tr>\n",
       "<tr><td>489435 ;</td><td>02s 29 ; 36,54</td></tr>\n",
       "<tr><td>496740 ;</td><td>02s 29 ; 49,16</td></tr>\n",
       "<tr><td>504045 ;</td><td>03s 00 ; 01,29</td></tr>\n",
       "<tr><td>511350 ;</td><td>03s 00 ; 13,33</td></tr>\n",
       "<tr><td>518655 ;</td><td>03s 00 ; 25,26</td></tr>\n",
       "<tr><td>525960 ;</td><td>03s 00 ; 37,08</td></tr>\n",
       "<tr><td>533265 ;</td><td>03s 00 ; 48,39</td></tr>\n",
       "<tr><td>540570 ;</td><td>03s 01 ; 00,02</td></tr>\n",
       "<tr><td>547875 ;</td><td>03s 01 ; 11,14</td></tr>\n",
       "<tr><td>555180 ;</td><td>03s 01 ; 22,15</td></tr>\n",
       "</table></div>"
      ],
      "text/plain": [
       "<HTable length=11>\n",
       "        Years            Entries    \n",
       "          yr               deg      \n",
       "IntegerAndSexagesimal   Historical  \n",
       "--------------------- --------------\n",
       "            482130 ;  02s 29 ; 24,23\n",
       "            489435 ;  02s 29 ; 36,54\n",
       "            496740 ;  02s 29 ; 49,16\n",
       "            504045 ;  03s 00 ; 01,29\n",
       "            511350 ;  03s 00 ; 13,33\n",
       "            518655 ;  03s 00 ; 25,26\n",
       "            525960 ;  03s 00 ; 37,08\n",
       "            533265 ;  03s 00 ; 48,39\n",
       "            540570 ;  03s 01 ; 00,02\n",
       "            547875 ;  03s 01 ; 11,14\n",
       "            555180 ;  03s 01 ; 22,15"
      ]
     },
     "execution_count": 2,
     "metadata": {},
     "output_type": "execute_result"
    }
   ],
   "source": [
    "#Initial table set, target table from BnF colbert 60\n",
    "\n",
    "#Access and recess equation form the Parisian Alfonsines Tables\n",
    "Equation_8sphere=HTable.read(238,format='dishas')\n",
    "Hist_table=HTable.read(1159)\n",
    "Hist_table\n"
   ]
  },
  {
   "cell_type": "code",
   "execution_count": 3,
   "id": "50e9be63-b3a2-47c3-8d00-9d8f2cdbf4a9",
   "metadata": {},
   "outputs": [],
   "source": [
    "# Formating and initialising the Test tables\n",
    "\n",
    "Test_recomp=Hist_table.copy()\n",
    "Delta_recomp=Hist_table.copy()\n",
    "for i in range(11):\n",
    "    Test_recomp[i][1]=Historical(Sexagesimal('0,0;0,0'),2)*u.degree\n",
    "    Delta_recomp[i][1]=Historical(Sexagesimal('0,0;0,0'),2)*u.degree\n",
    "\n"
   ]
  },
  {
   "cell_type": "code",
   "execution_count": 4,
   "id": "3de05814-7897-4127-9436-4e14cae77bb4",
   "metadata": {},
   "outputs": [
    {
     "data": {
      "text/html": [
       "<div><i>HTable length=11</i>\n",
       "<table id=\"table139886192278352\" class=\"table-striped table-bordered table-condensed\">\n",
       "<thead><tr><th>Years</th><th>Entries</th></tr></thead>\n",
       "<thead><tr><th>yr</th><th>deg</th></tr></thead>\n",
       "<thead><tr><th>IntegerAndSexagesimal</th><th>Historical</th></tr></thead>\n",
       "<tr><td>482130 ;</td><td>00 ; 00,04</td></tr>\n",
       "<tr><td>489435 ;</td><td>00 ; 00,03</td></tr>\n",
       "<tr><td>496740 ;</td><td>00 ; 00,03</td></tr>\n",
       "<tr><td>504045 ;</td><td>00 ; 00,03</td></tr>\n",
       "<tr><td>511350 ;</td><td>00 ; 00,03</td></tr>\n",
       "<tr><td>518655 ;</td><td>00 ; 00,03</td></tr>\n",
       "<tr><td>525960 ;</td><td>00 ; 00,03</td></tr>\n",
       "<tr><td>533265 ;</td><td>00 ; 00,02</td></tr>\n",
       "<tr><td>540570 ;</td><td>00 ; 00,03</td></tr>\n",
       "<tr><td>547875 ;</td><td>00 ; 00,03</td></tr>\n",
       "<tr><td>555180 ;</td><td>00 ; 00,02</td></tr>\n",
       "</table></div>"
      ],
      "text/plain": [
       "<HTable length=11>\n",
       "        Years          Entries  \n",
       "          yr             deg    \n",
       "IntegerAndSexagesimal Historical\n",
       "--------------------- ----------\n",
       "            482130 ;  00 ; 00,04\n",
       "            489435 ;  00 ; 00,03\n",
       "            496740 ;  00 ; 00,03\n",
       "            504045 ;  00 ; 00,03\n",
       "            511350 ;  00 ; 00,03\n",
       "            518655 ;  00 ; 00,03\n",
       "            525960 ;  00 ; 00,03\n",
       "            533265 ;  00 ; 00,02\n",
       "            540570 ;  00 ; 00,03\n",
       "            547875 ;  00 ; 00,03\n",
       "            555180 ;  00 ; 00,02"
      ]
     },
     "execution_count": 4,
     "metadata": {},
     "output_type": "execute_result"
    }
   ],
   "source": [
    "REVO=Sexagesimal(\"6,0;0,0\")*u.degree\n",
    "\n",
    "# parameters from the Parisian Alfonsine tables\n",
    "radix_apogee=Sexagesimal(\"1,11;25,23\")*u.degree\n",
    "radix_8sphere=Sexagesimal(\"5,59;12,34\")*u.degree\n",
    "daily_mean_8sphere=Sexagesimal(\"0;0,0,30,24,29\")*u.degree\n",
    "daily_mean_fixstars=Sexagesimal(\"0;0,0,4,20,41,17,12\")*u.degree\n",
    "\n",
    "\n",
    "for i in range(11):\n",
    "    with set_precision(tmode=TruncatureMode.TRUNC, pmode=3):\n",
    "# computation of the initial mean values     \n",
    "        days=int(Hist_table[i][0])\n",
    "        mean_8sphere=(radix_8sphere+days*daily_mean_8sphere)%REVO\n",
    "        mean_fixstars=days*daily_mean_fixstars\n",
    "#Equation of the eight sphere        \n",
    "        eq_8sphere=Equation_8sphere.get(mean_8sphere)\n",
    "#position of the apogee        \n",
    "        apogee=(radix_apogee+mean_fixstars+eq_8sphere)%REVO\n",
    "        apogee=Historical(apogee.value,2)\n",
    "    with set_precision(tmode=TruncatureMode.ROUND, pmode=2):\n",
    "        Test_recomp[i][1]=1*apogee\n",
    "        Delta_recomp[i][1]=Hist_table[i][1]-Test_recomp[i][1]\n",
    "\n",
    "Delta_recomp"
   ]
  },
  {
   "cell_type": "code",
   "execution_count": 6,
   "id": "cf820648-ca80-48f9-ab2e-ad0d70d10c11",
   "metadata": {},
   "outputs": [],
   "source": [
    "#csv export of the recomputed table\n",
    "B=Test_recomp.to_pandas()\n",
    "compression_opts = dict(method='zip',archive_name='Solar apogee.csv')\n",
    "B.to_csv('Solar apogee.zip', index=False, compression=compression_opts)"
   ]
  },
  {
   "cell_type": "code",
   "execution_count": null,
   "id": "a5f95e15-29a5-423e-82b9-256b4e0ef528",
   "metadata": {},
   "outputs": [],
   "source": []
  }
 ],
 "metadata": {
  "kernelspec": {
   "display_name": "Python 3 (ipykernel)",
   "language": "python",
   "name": "python3"
  },
  "language_info": {
   "codemirror_mode": {
    "name": "ipython",
    "version": 3
   },
   "file_extension": ".py",
   "mimetype": "text/x-python",
   "name": "python",
   "nbconvert_exporter": "python",
   "pygments_lexer": "ipython3",
   "version": "3.9.7"
  }
 },
 "nbformat": 4,
 "nbformat_minor": 5
}
