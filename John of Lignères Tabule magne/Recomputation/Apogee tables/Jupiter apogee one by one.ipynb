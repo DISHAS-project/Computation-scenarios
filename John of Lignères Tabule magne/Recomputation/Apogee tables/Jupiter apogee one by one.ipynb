{
 "cells": [
  {
   "cell_type": "code",
   "execution_count": 105,
   "id": "0e010f64-5c77-4e0d-b39c-538864828c0d",
   "metadata": {},
   "outputs": [],
   "source": [
    "#Initial environement of computations\n",
    "\n",
    "import matplotlib.pyplot as plt\n",
    "import numpy as np\n",
    "from kanon.calendars import Calendar, Date\n",
    "from kanon.calendars.calendars import float_to_hm, hm_to_float\n",
    "from kanon.tables import HTable\n",
    "from kanon.units import Sexagesimal, Historical\n",
    "from kanon.units.precision import set_precision, TruncatureMode, PrecisionMode\n",
    "import astropy.units as u\n",
    "\n",
    "\n",
    "from kanon.tables.htable_reader import (\n",
    "    DISHAS_REQUEST_URL,\n",
    "    read_historical,\n",
    "    read_sexag_array,\n",
    "    read_intsexag_array,\n",
    ")\n",
    "from kanon.tables import HTable\n",
    "import requests\n",
    "\n",
    "\n",
    "number_reader = {\n",
    "    \"sexagesimal\": read_sexag_array,\n",
    "    \"floating sexagesimal\": read_sexag_array,\n",
    "    \"integer and sexagesimal\": read_intsexag_array,\n",
    "    \"historical\": read_historical,\n",
    "}"
   ]
  },
  {
   "cell_type": "code",
   "execution_count": 106,
   "id": "2a5cebc3-c6f9-40f8-8f2d-0c6838609a08",
   "metadata": {},
   "outputs": [],
   "source": [
    "#Initial table set\n",
    "\n",
    "#Access and recess equation form the Parisian Alfonsines Tables\n",
    "Equation_8sphere=HTable.read(238,format='dishas')\n"
   ]
  },
  {
   "cell_type": "code",
   "execution_count": 111,
   "id": "9a1e5080-82de-4e86-b42d-eff6e0f5e5e2",
   "metadata": {},
   "outputs": [
    {
     "data": {
      "text/plain": [
       "(482130.0,\n",
       " <BasedQuantity 02,33 ; 37,00,04 deg>,\n",
       " <BasedQuantity 05,59 ; 12,34 deg>,\n",
       " <BasedQuantity 00 ; 00,00,30,24,29 deg>,\n",
       " <BasedQuantity 00 ; 00,00,04,20,41,17,12 deg>)"
      ]
     },
     "execution_count": 111,
     "metadata": {},
     "output_type": "execute_result"
    }
   ],
   "source": [
    "# Initial values\n",
    "\n",
    "# Intial arguments of the table\n",
    "REVO=Sexagesimal(\"6,0;0,0\")*u.degree\n",
    "years=1320\n",
    "\n",
    "# parameters from the Parisian Alfonsine tables\n",
    "radix_apogee=Sexagesimal(\"2,33;37,0,4\")*u.degree\n",
    "radix_8sphere=Sexagesimal(\"5,59;12,34\")*u.degree\n",
    "\n",
    "daily_mean_8sphere=Sexagesimal(\"0;0,0,30,24,29\")*u.degree\n",
    "daily_mean_fixstars=Sexagesimal(\"0;0,0,4,20,41,17,12\")*u.degree\n",
    "\n",
    "\n",
    "(365.25*years, radix_apogee, radix_8sphere, daily_mean_8sphere, daily_mean_fixstars)"
   ]
  },
  {
   "cell_type": "code",
   "execution_count": 112,
   "id": "f9c896f4-5dec-48c5-8707-9638e7e06d6c",
   "metadata": {},
   "outputs": [
    {
     "data": {
      "text/plain": [
       "(<BasedQuantity 01,07 ; 04,57,55 deg>, <BasedQuantity 09 ; 41,52,39 deg>)"
      ]
     },
     "execution_count": 112,
     "metadata": {},
     "output_type": "execute_result"
    }
   ],
   "source": [
    "# computation of the initial mean values\n",
    "\n",
    "with set_precision(tmode=TruncatureMode.TRUNC, pmode=3):\n",
    "    mean_8sphere=(radix_8sphere+365.25*years*daily_mean_8sphere)%REVO\n",
    "    mean_fixstars=365.25*years*daily_mean_fixstars\n",
    "\n",
    "(mean_8sphere,  mean_fixstars)"
   ]
  },
  {
   "cell_type": "code",
   "execution_count": 113,
   "id": "d9326403-1353-4a5e-88ea-e06c97326fca",
   "metadata": {},
   "outputs": [
    {
     "data": {
      "text/latex": [
       "$8 ; 17,03,02 \\; \\mathrm{{}^{\\circ}}$"
      ],
      "text/plain": [
       "<BasedQuantity 8 ; 17,03,02 deg>"
      ]
     },
     "execution_count": 113,
     "metadata": {},
     "output_type": "execute_result"
    }
   ],
   "source": [
    "# computation of the equation of the access and reccess\n",
    "\n",
    "with set_precision(tmode=TruncatureMode.TRUNC, pmode=3):\n",
    "    eq_8sphere=Equation_8sphere.get(mean_8sphere)  \n",
    "\n",
    "(eq_8sphere)"
   ]
  },
  {
   "cell_type": "code",
   "execution_count": 114,
   "id": "e089142a-ca43-447a-9a27-04ff14bb0237",
   "metadata": {},
   "outputs": [
    {
     "data": {
      "text/plain": [
       "05s 21 ; 35,56"
      ]
     },
     "execution_count": 114,
     "metadata": {},
     "output_type": "execute_result"
    }
   ],
   "source": [
    "# position of the apogee\n",
    "with set_precision(tmode=TruncatureMode.ROUND, pmode=2):\n",
    "    apogee=(radix_apogee+mean_fixstars+eq_8sphere)%REVO\n",
    "    apogee=Historical(apogee.value,2)\n",
    "\n",
    "apogee"
   ]
  },
  {
   "cell_type": "code",
   "execution_count": null,
   "id": "14286896-0ac9-479d-8746-e7635bd7a04b",
   "metadata": {},
   "outputs": [],
   "source": []
  }
 ],
 "metadata": {
  "kernelspec": {
   "display_name": "Python 3 (ipykernel)",
   "language": "python",
   "name": "python3"
  },
  "language_info": {
   "codemirror_mode": {
    "name": "ipython",
    "version": 3
   },
   "file_extension": ".py",
   "mimetype": "text/x-python",
   "name": "python",
   "nbconvert_exporter": "python",
   "pygments_lexer": "ipython3",
   "version": "3.9.7"
  }
 },
 "nbformat": 4,
 "nbformat_minor": 5
}
