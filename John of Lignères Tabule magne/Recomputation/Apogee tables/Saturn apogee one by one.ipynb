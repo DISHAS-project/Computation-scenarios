{
 "cells": [
  {
   "cell_type": "code",
   "execution_count": 84,
   "id": "f8453081-0b29-473e-bf21-b16ccc6848ee",
   "metadata": {},
   "outputs": [],
   "source": [
    "#Initial environement of computations\n",
    "\n",
    "import matplotlib.pyplot as plt\n",
    "import numpy as np\n",
    "from kanon.calendars import Calendar, Date\n",
    "from kanon.calendars.calendars import float_to_hm, hm_to_float\n",
    "from kanon.tables import HTable\n",
    "from kanon.units import Sexagesimal, Historical\n",
    "from kanon.units.precision import set_precision, TruncatureMode, PrecisionMode\n",
    "import astropy.units as u\n",
    "\n",
    "\n",
    "from kanon.tables.htable_reader import (\n",
    "    DISHAS_REQUEST_URL,\n",
    "    read_historical,\n",
    "    read_sexag_array,\n",
    "    read_intsexag_array,\n",
    ")\n",
    "from kanon.tables import HTable\n",
    "import requests\n",
    "\n",
    "\n",
    "number_reader = {\n",
    "    \"sexagesimal\": read_sexag_array,\n",
    "    \"floating sexagesimal\": read_sexag_array,\n",
    "    \"integer and sexagesimal\": read_intsexag_array,\n",
    "    \"historical\": read_historical,\n",
    "}"
   ]
  },
  {
   "cell_type": "code",
   "execution_count": 85,
   "id": "eb4c4217-fb50-4f58-83f6-f5eaab5e9989",
   "metadata": {},
   "outputs": [],
   "source": [
    "#Initial table set\n",
    "\n",
    "#Access and recess equation form the Parisian Alfonsines Tables\n",
    "Equation_8sphere=HTable.read(238,format='dishas')"
   ]
  },
  {
   "cell_type": "code",
   "execution_count": 87,
   "id": "775bab43-3f6d-47df-9e72-b988f2b57239",
   "metadata": {},
   "outputs": [
    {
     "data": {
      "text/plain": [
       "(482130.0,\n",
       " <BasedQuantity 03,53 ; 23,42,04 deg>,\n",
       " <BasedQuantity 05,59 ; 12,34 deg>,\n",
       " <BasedQuantity 00 ; 00,00,30,24,29 deg>,\n",
       " <BasedQuantity 00 ; 00,00,04,20,41,17,12 deg>)"
      ]
     },
     "execution_count": 87,
     "metadata": {},
     "output_type": "execute_result"
    }
   ],
   "source": [
    "# Initial values\n",
    "\n",
    "# Intial arguments of the table\n",
    "REVO=Sexagesimal(\"6,0;0,0\")*u.degree\n",
    "years=1320\n",
    "\n",
    "# parameters from the Parisian Alfonsine tables\n",
    "radix_apogee=Sexagesimal(\"3,53;23,42,4\")*u.degree\n",
    "radix_8sphere=Sexagesimal(\"5,59;12,34\")*u.degree\n",
    "\n",
    "daily_mean_8sphere=Sexagesimal(\"0;0,0,30,24,29\")*u.degree\n",
    "daily_mean_fixstars=Sexagesimal(\"0;0,0,4,20,41,17,12\")*u.degree\n",
    "\n",
    "\n",
    "(365.25*years, radix_apogee, radix_8sphere, daily_mean_8sphere, daily_mean_fixstars)"
   ]
  },
  {
   "cell_type": "code",
   "execution_count": 88,
   "id": "b3527ac3-f26b-4c2c-8ecd-56227fc6563f",
   "metadata": {},
   "outputs": [
    {
     "data": {
      "text/plain": [
       "(<BasedQuantity 01,07 ; 04,57,55 deg>, <BasedQuantity 09 ; 41,52,39 deg>)"
      ]
     },
     "execution_count": 88,
     "metadata": {},
     "output_type": "execute_result"
    }
   ],
   "source": [
    "# computation of the initial mean values\n",
    "\n",
    "with set_precision(tmode=TruncatureMode.TRUNC, pmode=3):\n",
    "    mean_8sphere=(radix_8sphere+365.25*years*daily_mean_8sphere)%REVO\n",
    "    mean_fixstars=365.25*years*daily_mean_fixstars\n",
    "\n",
    "(mean_8sphere,  mean_fixstars)"
   ]
  },
  {
   "cell_type": "code",
   "execution_count": 89,
   "id": "b3ebeee8-f3a2-470b-8d0d-fb8139907a56",
   "metadata": {},
   "outputs": [
    {
     "data": {
      "text/latex": [
       "$8 ; 17,03,02 \\; \\mathrm{{}^{\\circ}}$"
      ],
      "text/plain": [
       "<BasedQuantity 8 ; 17,03,02 deg>"
      ]
     },
     "execution_count": 89,
     "metadata": {},
     "output_type": "execute_result"
    }
   ],
   "source": [
    "# computation of the equation of the access and reccess\n",
    "\n",
    "with set_precision(tmode=TruncatureMode.TRUNC, pmode=3):\n",
    "    eq_8sphere=Equation_8sphere.get(mean_8sphere)  \n",
    "\n",
    "(eq_8sphere)"
   ]
  },
  {
   "cell_type": "code",
   "execution_count": 90,
   "id": "6559fd39-d9eb-48d1-a9c4-7f3a532c225c",
   "metadata": {},
   "outputs": [
    {
     "data": {
      "text/plain": [
       "08s 11 ; 22,38"
      ]
     },
     "execution_count": 90,
     "metadata": {},
     "output_type": "execute_result"
    }
   ],
   "source": [
    "# position of the apogee\n",
    "with set_precision(tmode=TruncatureMode.ROUND, pmode=2):\n",
    "    apogee=(radix_apogee+mean_fixstars+eq_8sphere)%REVO\n",
    "    apogee=Historical(apogee.value,2)\n",
    "\n",
    "apogee"
   ]
  },
  {
   "cell_type": "code",
   "execution_count": null,
   "id": "7942e57e-c5ef-432f-8cec-8c6c6f679fd5",
   "metadata": {},
   "outputs": [],
   "source": []
  }
 ],
 "metadata": {
  "kernelspec": {
   "display_name": "Python 3 (ipykernel)",
   "language": "python",
   "name": "python3"
  },
  "language_info": {
   "codemirror_mode": {
    "name": "ipython",
    "version": 3
   },
   "file_extension": ".py",
   "mimetype": "text/x-python",
   "name": "python",
   "nbconvert_exporter": "python",
   "pygments_lexer": "ipython3",
   "version": "3.9.7"
  }
 },
 "nbformat": 4,
 "nbformat_minor": 5
}
