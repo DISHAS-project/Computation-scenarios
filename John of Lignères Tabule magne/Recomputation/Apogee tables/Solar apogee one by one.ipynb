{
 "cells": [
  {
   "cell_type": "code",
   "execution_count": 1,
   "id": "686f9949-6594-41c3-8218-1f4efa10a726",
   "metadata": {},
   "outputs": [],
   "source": [
    "#Initial environement of computations\n",
    "\n",
    "import matplotlib.pyplot as plt\n",
    "import numpy as np\n",
    "from kanon.calendars import Calendar, Date\n",
    "from kanon.calendars.calendars import float_to_hm, hm_to_float\n",
    "from kanon.tables import HTable\n",
    "from kanon.units import Sexagesimal, Historical\n",
    "from kanon.units.precision import set_precision, TruncatureMode, PrecisionMode\n",
    "import astropy.units as u\n",
    "\n",
    "\n",
    "from kanon.tables.htable_reader import (\n",
    "    DISHAS_REQUEST_URL,\n",
    "    read_historical,\n",
    "    read_sexag_array,\n",
    "    read_intsexag_array,\n",
    ")\n",
    "from kanon.tables import HTable\n",
    "import requests\n",
    "\n",
    "\n",
    "number_reader = {\n",
    "    \"sexagesimal\": read_sexag_array,\n",
    "    \"floating sexagesimal\": read_sexag_array,\n",
    "    \"integer and sexagesimal\": read_intsexag_array,\n",
    "    \"historical\": read_historical,\n",
    "}"
   ]
  },
  {
   "cell_type": "code",
   "execution_count": 4,
   "id": "69513c5b-5108-46e2-aaaa-c5aec12e3a42",
   "metadata": {},
   "outputs": [],
   "source": [
    "#Initial table set\n",
    "\n",
    "#Access and recess equation form the Parisian Alfonsines Tables\n",
    "Equation_8sphere=HTable.read(238,format='dishas')\n"
   ]
  },
  {
   "cell_type": "code",
   "execution_count": 45,
   "id": "9c0b92f0-19c5-4e75-b134-5dc1cd2bc1d4",
   "metadata": {},
   "outputs": [
    {
     "data": {
      "text/plain": [
       "(482130.0,\n",
       " <BasedQuantity 01,11 ; 25,23 deg>,\n",
       " <BasedQuantity 05,59 ; 12,34 deg>,\n",
       " <BasedQuantity 00 ; 00,00,30,24,29 deg>,\n",
       " <BasedQuantity 00 ; 00,00,04,20,41,17,12 deg>)"
      ]
     },
     "execution_count": 45,
     "metadata": {},
     "output_type": "execute_result"
    }
   ],
   "source": [
    "# Initial values\n",
    "\n",
    "# Intial arguments of the table\n",
    "REVO=Sexagesimal(\"6,0;0,0\")*u.degree\n",
    "years=1320\n",
    "\n",
    "# parameters from the Parisian Alfonsine tables\n",
    "radix_apogee=Sexagesimal(\"1,11;25,23\")*u.degree\n",
    "radix_8sphere=Sexagesimal(\"5,59;12,34\")*u.degree\n",
    "\n",
    "daily_mean_8sphere=Sexagesimal(\"0;0,0,30,24,29\")*u.degree\n",
    "daily_mean_fixstars=Sexagesimal(\"0;0,0,4,20,41,17,12\")*u.degree\n",
    "\n",
    "\n",
    "(365.25*years, radix_apogee, radix_8sphere, daily_mean_8sphere, daily_mean_fixstars)"
   ]
  },
  {
   "cell_type": "code",
   "execution_count": 46,
   "id": "2fe10dbf-5782-425c-85eb-5567b4e0436d",
   "metadata": {},
   "outputs": [
    {
     "data": {
      "text/plain": [
       "(<BasedQuantity 01,07 ; 04,57,55 deg>, <BasedQuantity 09 ; 41,52,39 deg>)"
      ]
     },
     "execution_count": 46,
     "metadata": {},
     "output_type": "execute_result"
    }
   ],
   "source": [
    "# computation of the initial mean values\n",
    "\n",
    "with set_precision(tmode=TruncatureMode.TRUNC, pmode=3):\n",
    "    mean_8sphere=(radix_8sphere+365.25*years*daily_mean_8sphere)%REVO\n",
    "    mean_fixstars=365.25*years*daily_mean_fixstars\n",
    "\n",
    "(mean_8sphere,  mean_fixstars)"
   ]
  },
  {
   "cell_type": "code",
   "execution_count": 47,
   "id": "b13372b0-aa6c-4656-8492-010057dc4d0a",
   "metadata": {},
   "outputs": [
    {
     "data": {
      "text/latex": [
       "$8 ; 17,03,02 \\; \\mathrm{{}^{\\circ}}$"
      ],
      "text/plain": [
       "<BasedQuantity 8 ; 17,03,02 deg>"
      ]
     },
     "execution_count": 47,
     "metadata": {},
     "output_type": "execute_result"
    }
   ],
   "source": [
    "# computation of the equation of the access and reccess\n",
    "\n",
    "with set_precision(tmode=TruncatureMode.TRUNC, pmode=3):\n",
    "    eq_8sphere=Equation_8sphere.get(mean_8sphere)  \n",
    "\n",
    "(eq_8sphere)"
   ]
  },
  {
   "cell_type": "code",
   "execution_count": 48,
   "id": "0573d88d-6f0e-4e84-8765-a31e82392593",
   "metadata": {},
   "outputs": [
    {
     "data": {
      "text/plain": [
       "02s 29 ; 24,19"
      ]
     },
     "execution_count": 48,
     "metadata": {},
     "output_type": "execute_result"
    }
   ],
   "source": [
    "# position of the apogee\n",
    "with set_precision(tmode=TruncatureMode.ROUND, pmode=2):\n",
    "    apogee=(radix_apogee+mean_fixstars+eq_8sphere)%REVO\n",
    "    apogee=Historical(apogee.value,2)\n",
    "\n",
    "apogee"
   ]
  },
  {
   "cell_type": "code",
   "execution_count": null,
   "id": "54e19c81-5cc7-43c3-9afb-6b52c6814310",
   "metadata": {},
   "outputs": [],
   "source": []
  },
  {
   "cell_type": "code",
   "execution_count": null,
   "id": "050ed07c-fafe-4dad-b302-c8af0f390a89",
   "metadata": {},
   "outputs": [],
   "source": []
  }
 ],
 "metadata": {
  "kernelspec": {
   "display_name": "Python 3 (ipykernel)",
   "language": "python",
   "name": "python3"
  },
  "language_info": {
   "codemirror_mode": {
    "name": "ipython",
    "version": 3
   },
   "file_extension": ".py",
   "mimetype": "text/x-python",
   "name": "python",
   "nbconvert_exporter": "python",
   "pygments_lexer": "ipython3",
   "version": "3.9.7"
  }
 },
 "nbformat": 4,
 "nbformat_minor": 5
}
