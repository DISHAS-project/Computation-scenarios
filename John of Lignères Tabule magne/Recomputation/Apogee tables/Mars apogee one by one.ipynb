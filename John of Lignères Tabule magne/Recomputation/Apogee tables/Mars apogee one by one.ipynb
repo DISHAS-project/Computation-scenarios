{
 "cells": [
  {
   "cell_type": "code",
   "execution_count": 136,
   "id": "a3c63000-5ac2-473a-b6e2-ccaf7677a457",
   "metadata": {},
   "outputs": [],
   "source": [
    "#Initial environement of computations\n",
    "\n",
    "import matplotlib.pyplot as plt\n",
    "import numpy as np\n",
    "from kanon.calendars import Calendar, Date\n",
    "from kanon.calendars.calendars import float_to_hm, hm_to_float\n",
    "from kanon.tables import HTable\n",
    "from kanon.units import Sexagesimal, Historical\n",
    "from kanon.units.precision import set_precision, TruncatureMode, PrecisionMode\n",
    "import astropy.units as u\n",
    "\n",
    "\n",
    "#Initial environement of computations\n",
    "\n",
    "import matplotlib.pyplot as plt\n",
    "import numpy as np\n",
    "from kanon.calendars import Calendar, Date\n",
    "from kanon.calendars.calendars import float_to_hm, hm_to_float\n",
    "from kanon.tables import HTable\n",
    "from kanon.units import Sexagesimal, Historical\n",
    "from kanon.units.precision import set_precision, TruncatureMode, PrecisionMode\n",
    "import astropy.units as u\n",
    "\n",
    "\n",
    "from kanon.tables.htable_reader import (\n",
    "    DISHAS_REQUEST_URL,\n",
    "    read_historical,\n",
    "    read_sexag_array,\n",
    "    read_intsexag_array,\n",
    ")\n",
    "from kanon.tables import HTable\n",
    "import requests\n",
    "\n",
    "\n",
    "number_reader = {\n",
    "    \"sexagesimal\": read_sexag_array,\n",
    "    \"floating sexagesimal\": read_sexag_array,\n",
    "    \"integer and sexagesimal\": read_intsexag_array,\n",
    "    \"historical\": read_historical,\n",
    "}"
   ]
  },
  {
   "cell_type": "code",
   "execution_count": 137,
   "id": "8a5a079b-a606-4112-9915-05736df4dedc",
   "metadata": {},
   "outputs": [],
   "source": [
    "#Initial table set\n",
    "\n",
    "#Access and recess equation form the Parisian Alfonsines Tables\n",
    "Equation_8sphere=HTable.read(238,format='dishas')"
   ]
  },
  {
   "cell_type": "code",
   "execution_count": 138,
   "id": "07013adc-27ed-478c-acd3-fcd9bff12686",
   "metadata": {},
   "outputs": [
    {
     "data": {
      "text/plain": [
       "(482130.0,\n",
       " <BasedQuantity 01,55 ; 12,13,04 deg>,\n",
       " <BasedQuantity 05,59 ; 12,34 deg>,\n",
       " <BasedQuantity 00 ; 00,00,30,24,29 deg>,\n",
       " <BasedQuantity 00 ; 00,00,04,20,41,17,12 deg>)"
      ]
     },
     "execution_count": 138,
     "metadata": {},
     "output_type": "execute_result"
    }
   ],
   "source": [
    "# Initial values\n",
    "\n",
    "# Intial arguments of the table\n",
    "REVO=Sexagesimal(\"6,0;0,0\")*u.degree\n",
    "years=1320\n",
    "\n",
    "# parameters from the Parisian Alfonsine tables\n",
    "radix_apogee=Sexagesimal(\"1,55;12,13,4\")*u.degree\n",
    "radix_8sphere=Sexagesimal(\"5,59;12,34\")*u.degree\n",
    "\n",
    "daily_mean_8sphere=Sexagesimal(\"0;0,0,30,24,29\")*u.degree\n",
    "daily_mean_fixstars=Sexagesimal(\"0;0,0,4,20,41,17,12\")*u.degree\n",
    "\n",
    "\n",
    "(365.25*years, radix_apogee, radix_8sphere, daily_mean_8sphere, daily_mean_fixstars)"
   ]
  },
  {
   "cell_type": "code",
   "execution_count": 139,
   "id": "6b858fa5-85a4-4f79-ace5-addfd998db27",
   "metadata": {},
   "outputs": [
    {
     "data": {
      "text/plain": [
       "(<BasedQuantity 01,07 ; 04,57,55 deg>, <BasedQuantity 09 ; 41,52,39 deg>)"
      ]
     },
     "execution_count": 139,
     "metadata": {},
     "output_type": "execute_result"
    }
   ],
   "source": [
    "# computation of the initial mean values\n",
    "\n",
    "with set_precision(tmode=TruncatureMode.TRUNC, pmode=3):\n",
    "    mean_8sphere=(radix_8sphere+365.25*years*daily_mean_8sphere)%REVO\n",
    "    mean_fixstars=365.25*years*daily_mean_fixstars\n",
    "\n",
    "(mean_8sphere,  mean_fixstars)"
   ]
  },
  {
   "cell_type": "code",
   "execution_count": 140,
   "id": "e92b3ca5-d0bd-456b-b5f3-36d9cb2e9bb5",
   "metadata": {},
   "outputs": [
    {
     "data": {
      "text/latex": [
       "$8 ; 17,03,02 \\; \\mathrm{{}^{\\circ}}$"
      ],
      "text/plain": [
       "<BasedQuantity 8 ; 17,03,02 deg>"
      ]
     },
     "execution_count": 140,
     "metadata": {},
     "output_type": "execute_result"
    }
   ],
   "source": [
    "# computation of the equation of the access and reccess\n",
    "\n",
    "with set_precision(tmode=TruncatureMode.TRUNC, pmode=3):\n",
    "    eq_8sphere=Equation_8sphere.get(mean_8sphere)  \n",
    "\n",
    "(eq_8sphere)"
   ]
  },
  {
   "cell_type": "code",
   "execution_count": 141,
   "id": "fcd76c27-9ba1-4c86-9ccb-85a449201c4b",
   "metadata": {},
   "outputs": [
    {
     "data": {
      "text/plain": [
       "04s 13 ; 11,09"
      ]
     },
     "execution_count": 141,
     "metadata": {},
     "output_type": "execute_result"
    }
   ],
   "source": [
    "# position of the apogee\n",
    "with set_precision(tmode=TruncatureMode.ROUND, pmode=2):\n",
    "    apogee=(radix_apogee+mean_fixstars+eq_8sphere)%REVO\n",
    "    apogee=Historical(apogee.value,2)\n",
    "\n",
    "apogee"
   ]
  },
  {
   "cell_type": "code",
   "execution_count": null,
   "id": "2db52fcc-b2dc-45b9-8b42-3c05595e4459",
   "metadata": {},
   "outputs": [],
   "source": []
  }
 ],
 "metadata": {
  "kernelspec": {
   "display_name": "Python 3 (ipykernel)",
   "language": "python",
   "name": "python3"
  },
  "language_info": {
   "codemirror_mode": {
    "name": "ipython",
    "version": 3
   },
   "file_extension": ".py",
   "mimetype": "text/x-python",
   "name": "python",
   "nbconvert_exporter": "python",
   "pygments_lexer": "ipython3",
   "version": "3.9.7"
  }
 },
 "nbformat": 4,
 "nbformat_minor": 5
}
